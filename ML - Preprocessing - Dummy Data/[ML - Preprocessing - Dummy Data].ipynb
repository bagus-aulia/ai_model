{
 "cells": [
  {
   "cell_type": "markdown",
   "metadata": {},
   "source": [
    "## Data Prepocessing\n",
    "\n",
    "### A. Feature Scaling\n",
    "adalah metode yang digunakan untuk menormalkan berbagai variabel  independen atau fitur data.\n",
    "1. Standarization / Mean Removal\n",
    "2. Min - Max or Scaling Features to a range\n",
    "3. Normalization\n",
    "4. Binarization\n",
    "\n",
    "*Standarisasi merupakan persyaratan umum bagi banyak model machine learning yang diterapkan dalam scikit-learn; mereka mungkin berperilaku buruk jika fitur individual tidak lebih atau kurang terlihat seperti data terdistribusi normal standar Gaussian dengan rata rata 0 dan standar deviasi 1.\n",
    "\n",
    "### B. Label Encoding\n",
    "adalah metode yang mengonversi label ke dalam bentuk angka sehingga dapat mengubahnya menjadi bentuk yang dapat dibaca model.\n",
    "1. Label Encoder\n",
    "2. One Hot Encoder"
   ]
  },
  {
   "cell_type": "code",
   "execution_count": 1,
   "metadata": {},
   "outputs": [
    {
     "data": {
      "text/plain": [
       "array([ 4.66666667, -2.        , -0.33333333])"
      ]
     },
     "execution_count": 1,
     "metadata": {},
     "output_type": "execute_result"
    }
   ],
   "source": [
    "from sklearn import preprocessing\n",
    "import numpy as np\n",
    "\n",
    "x_train = np.array([[1., -5., 3.],\n",
    "                    [1., -2., 0.],\n",
    "                    [12., 1., -4.]])\n",
    "\n",
    "x_train.mean(axis = 0)"
   ]
  },
  {
   "attachments": {
    "fig2.png": {
     "image/png": "[encoded data removed]"
    }
   },
   "cell_type": "markdown",
   "metadata": {},
   "source": [
    "## Standarization / Main Removal / Variance Scaling\n",
    "\n",
    "standarisasi data dengan membuat data memiliki rata rata 0 dan deviasi 1\n",
    "![fig2.png](attachment:fig2.png)"
   ]
  },
  {
   "cell_type": "code",
   "execution_count": 2,
   "metadata": {},
   "outputs": [
    {
     "data": {
      "text/plain": [
       "array([[-0.70710678, -1.22474487,  1.16247639],\n",
       "       [-0.70710678,  0.        ,  0.11624764],\n",
       "       [ 1.41421356,  1.22474487, -1.27872403]])"
      ]
     },
     "execution_count": 2,
     "metadata": {},
     "output_type": "execute_result"
    }
   ],
   "source": [
    "x_scaled = preprocessing.scale(x_train)\n",
    "x_scaled"
   ]
  },
  {
   "cell_type": "code",
   "execution_count": 3,
   "metadata": {},
   "outputs": [
    {
     "data": {
      "text/plain": [
       "array([0., 0., 0.])"
      ]
     },
     "execution_count": 3,
     "metadata": {},
     "output_type": "execute_result"
    }
   ],
   "source": [
    "x_scaled.mean(axis=0)"
   ]
  },
  {
   "cell_type": "code",
   "execution_count": 4,
   "metadata": {},
   "outputs": [
    {
     "data": {
      "text/plain": [
       "array([1., 1., 1.])"
      ]
     },
     "execution_count": 4,
     "metadata": {},
     "output_type": "execute_result"
    }
   ],
   "source": [
    "x_scaled.std(axis=0) #standar deviasi"
   ]
  },
  {
   "cell_type": "markdown",
   "metadata": {},
   "source": [
    "Hal yang harus diingat, adalah ketika kita melakukan standarisasi pada datatrain kita, kita juga harus melakukannya pada data test kita. Untuk dapat melakukannya, kita dapat menggunakan `StandardScaler`"
   ]
  },
  {
   "cell_type": "code",
   "execution_count": 5,
   "metadata": {},
   "outputs": [
    {
     "data": {
      "text/plain": [
       "StandardScaler(copy=True, with_mean=True, with_std=True)"
      ]
     },
     "execution_count": 5,
     "metadata": {},
     "output_type": "execute_result"
    }
   ],
   "source": [
    "scaler = preprocessing.StandardScaler().fit(x_train)\n",
    "scaler"
   ]
  },
  {
   "cell_type": "code",
   "execution_count": 6,
   "metadata": {},
   "outputs": [
    {
     "data": {
      "text/plain": [
       "array([ 4.66666667, -2.        , -0.33333333])"
      ]
     },
     "execution_count": 6,
     "metadata": {},
     "output_type": "execute_result"
    }
   ],
   "source": [
    "scaler.mean_"
   ]
  },
  {
   "cell_type": "code",
   "execution_count": 7,
   "metadata": {},
   "outputs": [
    {
     "data": {
      "text/plain": [
       "array([5.18544973, 2.44948974, 2.86744176])"
      ]
     },
     "execution_count": 7,
     "metadata": {},
     "output_type": "execute_result"
    }
   ],
   "source": [
    "scaler.scale_"
   ]
  },
  {
   "cell_type": "code",
   "execution_count": 8,
   "metadata": {},
   "outputs": [
    {
     "data": {
      "text/plain": [
       "array([[-0.70710678, -1.22474487,  1.16247639],\n",
       "       [-0.70710678,  0.        ,  0.11624764],\n",
       "       [ 1.41421356,  1.22474487, -1.27872403]])"
      ]
     },
     "execution_count": 8,
     "metadata": {},
     "output_type": "execute_result"
    }
   ],
   "source": [
    "scaler.transform(x_train)"
   ]
  },
  {
   "cell_type": "code",
   "execution_count": 9,
   "metadata": {},
   "outputs": [],
   "source": [
    "#sekarang kita dapat mengubah data test kita"
   ]
  },
  {
   "cell_type": "code",
   "execution_count": 10,
   "metadata": {},
   "outputs": [],
   "source": [
    "x_test = [[-1., 1., 0.]]"
   ]
  },
  {
   "cell_type": "code",
   "execution_count": 11,
   "metadata": {},
   "outputs": [
    {
     "data": {
      "text/plain": [
       "array([[-1.09280139,  1.22474487,  0.11624764]])"
      ]
     },
     "execution_count": 11,
     "metadata": {},
     "output_type": "execute_result"
    }
   ],
   "source": [
    "scaler.transform(x_test)"
   ]
  },
  {
   "cell_type": "markdown",
   "metadata": {},
   "source": [
    "## Label Encoding"
   ]
  },
  {
   "cell_type": "code",
   "execution_count": 12,
   "metadata": {},
   "outputs": [],
   "source": [
    "source = ['cangaroo', 'zebra', 'elephant', 'tiger']\n",
    "\n",
    "#label encoder untuk mengubah data sebelumnya menjadi index dengan diurutkan berdasarkan ascending terlebih dahulu\n",
    "le  = preprocessing.LabelEncoder()\n",
    "src = le.fit_transform(source)"
   ]
  },
  {
   "cell_type": "code",
   "execution_count": 15,
   "metadata": {},
   "outputs": [
    {
     "name": "stdout",
     "output_type": "stream",
     "text": [
      "nama - nama hewan menggunakan label encoder:\n",
      "\n",
      "cangaroo \t 0\n",
      "elephant \t 1\n",
      "tiger \t 2\n",
      "zebra \t 3\n"
     ]
    }
   ],
   "source": [
    "print(\"nama - nama hewan menggunakan label encoder:\\n\")\n",
    "for k, y in enumerate(le.classes_):\n",
    "    print(y, '\\t', k)"
   ]
  },
  {
   "cell_type": "code",
   "execution_count": 16,
   "metadata": {},
   "outputs": [
    {
     "name": "stdout",
     "output_type": "stream",
     "text": [
      "[3 1 1 2]\n"
     ]
    }
   ],
   "source": [
    "test_data = ['zebra', 'elephant', 'elephant', 'tiger']\n",
    "\n",
    "result = le.transform(test_data)\n",
    "print(result)"
   ]
  },
  {
   "cell_type": "markdown",
   "metadata": {},
   "source": [
    "## One Hot / One-of-K Encoding\n",
    "proses untuk merubah data categorical menjadi suatu data biner"
   ]
  },
  {
   "cell_type": "code",
   "execution_count": 17,
   "metadata": {},
   "outputs": [
    {
     "name": "stdout",
     "output_type": "stream",
     "text": [
      "[[1. 0. 0. 0.]\n",
      " [0. 0. 0. 1.]\n",
      " [0. 1. 0. 0.]\n",
      " [0. 0. 1. 0.]]\n"
     ]
    },
    {
     "name": "stderr",
     "output_type": "stream",
     "text": [
      "C:\\Users\\Bagus\\.conda\\envs\\tensorflow-sessions\\lib\\site-packages\\sklearn\\preprocessing\\_encoders.py:415: FutureWarning: The handling of integer data will change in version 0.22. Currently, the categories are determined based on the range [0, max(values)], while in the future they will be determined based on the unique values.\n",
      "If you want the future behaviour and silence this warning, you can specify \"categories='auto'\".\n",
      "In case you used a LabelEncoder before this OneHotEncoder to convert the categories to integers, then you can now use the OneHotEncoder directly.\n",
      "  warnings.warn(msg, FutureWarning)\n"
     ]
    }
   ],
   "source": [
    "from sklearn.preprocessing import OneHotEncoder\n",
    "\n",
    "one_hot_enc = OneHotEncoder(sparse = False)\n",
    "src         = src.reshape(len(src), 1)\n",
    "one_hot     = one_hot_enc.fit_transform(src)\n",
    "\n",
    "print(one_hot)"
   ]
  },
  {
   "cell_type": "code",
   "execution_count": 20,
   "metadata": {},
   "outputs": [
    {
     "name": "stdout",
     "output_type": "stream",
     "text": [
      "['cangaroo']\n"
     ]
    }
   ],
   "source": [
    "invert_res = le.inverse_transform([np.argmax(one_hot[0, :])])\n",
    "\n",
    "print(invert_res)"
   ]
  },
  {
   "cell_type": "markdown",
   "metadata": {},
   "source": [
    "# Tantangan\n",
    "\n",
    "Buatlah suatu model klasifikasi sederhana dengan menggunakan dataset Titanic.\n",
    "1. Lakukan EDA dan juga visualisasi, temukan insight-insight menarik data tampilan dengan visualisasi yang tepat!\n",
    "2. Lakukan data preprocessing untuk mengubah data numerik dengan menggunakan feature scaling dan data kategorical dengan menggunakan label encoding\n",
    "3. Evaluate hasilnya\n",
    "    - coba bandingkan hasil evaluasi sebelum dan sesudah menggunakan data preprocessing\n",
    "    - coba bandingkan hasil evaluasi dengan tipe data preprocessing yang berbeda\n",
    "4. Lihat submission hasil di kaggle data titanic"
   ]
  },
  {
   "cell_type": "markdown",
   "metadata": {},
   "source": [
    "# Tambahan\n",
    "\n",
    "Masih banyak materi lain yang harus dikejar setelah melalui materi - materi yang ada. Belajar mengenai : \n",
    "- Robust Regression, OLS Regression, Polynomial Regression, Multiple Regression\n",
    "- Cross Validation Train - Test Data\n",
    "- Variance Bias Trade Off\n",
    "- Feature Importance\n",
    "- Classification Models, such Decision Tree, KNN Classifier, etc."
   ]
  },
  {
   "cell_type": "code",
   "execution_count": null,
   "metadata": {},
   "outputs": [],
   "source": []
  }
 ],
 "metadata": {
  "kernelspec": {
   "display_name": "Python 3",
   "language": "python",
   "name": "python3"
  },
  "language_info": {
   "codemirror_mode": {
    "name": "ipython",
    "version": 3
   },
   "file_extension": ".py",
   "mimetype": "text/x-python",
   "name": "python",
   "nbconvert_exporter": "python",
   "pygments_lexer": "ipython3",
   "version": "3.7.4"
  }
 },
 "nbformat": 4,
 "nbformat_minor": 2
}
