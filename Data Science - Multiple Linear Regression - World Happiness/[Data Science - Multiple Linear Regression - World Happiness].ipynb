{
 "cells": [
  {
   "cell_type": "code",
   "execution_count": 2,
   "metadata": {},
   "outputs": [
    {
     "data": {
      "text/html": [
       "        <script type=\"text/javascript\">\n",
       "        window.PlotlyConfig = {MathJaxConfig: 'local'};\n",
       "        if (window.MathJax) {MathJax.Hub.Config({SVG: {font: \"STIX-Web\"}});}\n",
       "        if (typeof require !== 'undefined') {\n",
       "        require.undef(\"plotly\");\n",
       "        requirejs.config({\n",
       "            paths: {\n",
       "                'plotly': ['https://cdn.plot.ly/plotly-latest.min']\n",
       "            }\n",
       "        });\n",
       "        require(['plotly'], function(Plotly) {\n",
       "            window._Plotly = Plotly;\n",
       "        });\n",
       "        }\n",
       "        </script>\n",
       "        "
      ]
     },
     "metadata": {},
     "output_type": "display_data"
    }
   ],
   "source": [
    "import pandas as pd\n",
    "import numpy as np\n",
    "import os\n",
    "\n",
    "import statsmodels.formula.api as stats\n",
    "from statsmodels.formula.api import ols\n",
    "\n",
    "import sklearn\n",
    "from sklearn import linear_model, datasets\n",
    "from sklearn.metrics import mean_squared_error\n",
    "\n",
    "# import plotly.plotly as py\n",
    "import plotly.graph_objs as go\n",
    "from plotly.offline import download_plotlyjs, init_notebook_mode, plot, iplot\n",
    "\n",
    "init_notebook_mode(connected=True)"
   ]
  },
  {
   "cell_type": "code",
   "execution_count": 3,
   "metadata": {},
   "outputs": [
    {
     "data": {
      "text/html": [
       "<div>\n",
       "<style scoped>\n",
       "    .dataframe tbody tr th:only-of-type {\n",
       "        vertical-align: middle;\n",
       "    }\n",
       "\n",
       "    .dataframe tbody tr th {\n",
       "        vertical-align: top;\n",
       "    }\n",
       "\n",
       "    .dataframe thead th {\n",
       "        text-align: right;\n",
       "    }\n",
       "</style>\n",
       "<table border=\"1\" class=\"dataframe\">\n",
       "  <thead>\n",
       "    <tr style=\"text-align: right;\">\n",
       "      <th></th>\n",
       "      <th>country</th>\n",
       "      <th>happiness_rank</th>\n",
       "      <th>happiness_score</th>\n",
       "      <th>economy</th>\n",
       "      <th>family</th>\n",
       "      <th>health</th>\n",
       "      <th>freedom</th>\n",
       "      <th>trust</th>\n",
       "      <th>generosity</th>\n",
       "      <th>dystopia_residual</th>\n",
       "    </tr>\n",
       "  </thead>\n",
       "  <tbody>\n",
       "    <tr>\n",
       "      <td>0</td>\n",
       "      <td>Switzerland</td>\n",
       "      <td>1</td>\n",
       "      <td>7.587</td>\n",
       "      <td>1.39651</td>\n",
       "      <td>1.34951</td>\n",
       "      <td>0.94143</td>\n",
       "      <td>0.66557</td>\n",
       "      <td>0.41978</td>\n",
       "      <td>0.29678</td>\n",
       "      <td>2.51738</td>\n",
       "    </tr>\n",
       "    <tr>\n",
       "      <td>1</td>\n",
       "      <td>Iceland</td>\n",
       "      <td>2</td>\n",
       "      <td>7.561</td>\n",
       "      <td>1.30232</td>\n",
       "      <td>1.40223</td>\n",
       "      <td>0.94784</td>\n",
       "      <td>0.62877</td>\n",
       "      <td>0.14145</td>\n",
       "      <td>0.43630</td>\n",
       "      <td>2.70201</td>\n",
       "    </tr>\n",
       "    <tr>\n",
       "      <td>2</td>\n",
       "      <td>Denmark</td>\n",
       "      <td>3</td>\n",
       "      <td>7.527</td>\n",
       "      <td>1.32548</td>\n",
       "      <td>1.36058</td>\n",
       "      <td>0.87464</td>\n",
       "      <td>0.64938</td>\n",
       "      <td>0.48357</td>\n",
       "      <td>0.34139</td>\n",
       "      <td>2.49204</td>\n",
       "    </tr>\n",
       "    <tr>\n",
       "      <td>3</td>\n",
       "      <td>Norway</td>\n",
       "      <td>4</td>\n",
       "      <td>7.522</td>\n",
       "      <td>1.45900</td>\n",
       "      <td>1.33095</td>\n",
       "      <td>0.88521</td>\n",
       "      <td>0.66973</td>\n",
       "      <td>0.36503</td>\n",
       "      <td>0.34699</td>\n",
       "      <td>2.46531</td>\n",
       "    </tr>\n",
       "    <tr>\n",
       "      <td>4</td>\n",
       "      <td>Canada</td>\n",
       "      <td>5</td>\n",
       "      <td>7.427</td>\n",
       "      <td>1.32629</td>\n",
       "      <td>1.32261</td>\n",
       "      <td>0.90563</td>\n",
       "      <td>0.63297</td>\n",
       "      <td>0.32957</td>\n",
       "      <td>0.45811</td>\n",
       "      <td>2.45176</td>\n",
       "    </tr>\n",
       "  </tbody>\n",
       "</table>\n",
       "</div>"
      ],
      "text/plain": [
       "       country  happiness_rank  happiness_score  economy   family   health  \\\n",
       "0  Switzerland               1            7.587  1.39651  1.34951  0.94143   \n",
       "1      Iceland               2            7.561  1.30232  1.40223  0.94784   \n",
       "2      Denmark               3            7.527  1.32548  1.36058  0.87464   \n",
       "3       Norway               4            7.522  1.45900  1.33095  0.88521   \n",
       "4       Canada               5            7.427  1.32629  1.32261  0.90563   \n",
       "\n",
       "   freedom    trust  generosity  dystopia_residual  \n",
       "0  0.66557  0.41978     0.29678            2.51738  \n",
       "1  0.62877  0.14145     0.43630            2.70201  \n",
       "2  0.64938  0.48357     0.34139            2.49204  \n",
       "3  0.66973  0.36503     0.34699            2.46531  \n",
       "4  0.63297  0.32957     0.45811            2.45176  "
      ]
     },
     "execution_count": 3,
     "metadata": {},
     "output_type": "execute_result"
    }
   ],
   "source": [
    "folder   = 'f:/files/python/jupyter/trial2-data/'\n",
    "\n",
    "happiness_2015 = pd.read_csv(folder + 'world_happiness_2015.csv')\n",
    "happiness_2015.columns = ['country', 'region', 'happiness_rank', 'happiness_score', 'standard_error', \n",
    "                          'economy', 'family', 'health', 'freedom', 'trust', 'generosity', 'dystopia_residual']\n",
    "dropped_2015       = ['region', 'standard_error']\n",
    "new_happiness_2015 = happiness_2015.drop(dropped_2015, axis = 1)\n",
    "new_happiness_2015.head()"
   ]
  },
  {
   "cell_type": "code",
   "execution_count": 4,
   "metadata": {},
   "outputs": [
    {
     "data": {
      "text/html": [
       "<div>\n",
       "<style scoped>\n",
       "    .dataframe tbody tr th:only-of-type {\n",
       "        vertical-align: middle;\n",
       "    }\n",
       "\n",
       "    .dataframe tbody tr th {\n",
       "        vertical-align: top;\n",
       "    }\n",
       "\n",
       "    .dataframe thead th {\n",
       "        text-align: right;\n",
       "    }\n",
       "</style>\n",
       "<table border=\"1\" class=\"dataframe\">\n",
       "  <thead>\n",
       "    <tr style=\"text-align: right;\">\n",
       "      <th></th>\n",
       "      <th>country</th>\n",
       "      <th>happiness_rank</th>\n",
       "      <th>happiness_score</th>\n",
       "      <th>economy</th>\n",
       "      <th>family</th>\n",
       "      <th>health</th>\n",
       "      <th>freedom</th>\n",
       "      <th>trust</th>\n",
       "      <th>generosity</th>\n",
       "      <th>dystopia_residual</th>\n",
       "    </tr>\n",
       "  </thead>\n",
       "  <tbody>\n",
       "    <tr>\n",
       "      <td>0</td>\n",
       "      <td>Denmark</td>\n",
       "      <td>1</td>\n",
       "      <td>7.526</td>\n",
       "      <td>1.44178</td>\n",
       "      <td>1.16374</td>\n",
       "      <td>0.79504</td>\n",
       "      <td>0.57941</td>\n",
       "      <td>0.44453</td>\n",
       "      <td>0.36171</td>\n",
       "      <td>2.73939</td>\n",
       "    </tr>\n",
       "    <tr>\n",
       "      <td>1</td>\n",
       "      <td>Switzerland</td>\n",
       "      <td>2</td>\n",
       "      <td>7.509</td>\n",
       "      <td>1.52733</td>\n",
       "      <td>1.14524</td>\n",
       "      <td>0.86303</td>\n",
       "      <td>0.58557</td>\n",
       "      <td>0.41203</td>\n",
       "      <td>0.28083</td>\n",
       "      <td>2.69463</td>\n",
       "    </tr>\n",
       "    <tr>\n",
       "      <td>2</td>\n",
       "      <td>Iceland</td>\n",
       "      <td>3</td>\n",
       "      <td>7.501</td>\n",
       "      <td>1.42666</td>\n",
       "      <td>1.18326</td>\n",
       "      <td>0.86733</td>\n",
       "      <td>0.56624</td>\n",
       "      <td>0.14975</td>\n",
       "      <td>0.47678</td>\n",
       "      <td>2.83137</td>\n",
       "    </tr>\n",
       "    <tr>\n",
       "      <td>3</td>\n",
       "      <td>Norway</td>\n",
       "      <td>4</td>\n",
       "      <td>7.498</td>\n",
       "      <td>1.57744</td>\n",
       "      <td>1.12690</td>\n",
       "      <td>0.79579</td>\n",
       "      <td>0.59609</td>\n",
       "      <td>0.35776</td>\n",
       "      <td>0.37895</td>\n",
       "      <td>2.66465</td>\n",
       "    </tr>\n",
       "    <tr>\n",
       "      <td>4</td>\n",
       "      <td>Finland</td>\n",
       "      <td>5</td>\n",
       "      <td>7.413</td>\n",
       "      <td>1.40598</td>\n",
       "      <td>1.13464</td>\n",
       "      <td>0.81091</td>\n",
       "      <td>0.57104</td>\n",
       "      <td>0.41004</td>\n",
       "      <td>0.25492</td>\n",
       "      <td>2.82596</td>\n",
       "    </tr>\n",
       "  </tbody>\n",
       "</table>\n",
       "</div>"
      ],
      "text/plain": [
       "       country  happiness_rank  happiness_score  economy   family   health  \\\n",
       "0      Denmark               1            7.526  1.44178  1.16374  0.79504   \n",
       "1  Switzerland               2            7.509  1.52733  1.14524  0.86303   \n",
       "2      Iceland               3            7.501  1.42666  1.18326  0.86733   \n",
       "3       Norway               4            7.498  1.57744  1.12690  0.79579   \n",
       "4      Finland               5            7.413  1.40598  1.13464  0.81091   \n",
       "\n",
       "   freedom    trust  generosity  dystopia_residual  \n",
       "0  0.57941  0.44453     0.36171            2.73939  \n",
       "1  0.58557  0.41203     0.28083            2.69463  \n",
       "2  0.56624  0.14975     0.47678            2.83137  \n",
       "3  0.59609  0.35776     0.37895            2.66465  \n",
       "4  0.57104  0.41004     0.25492            2.82596  "
      ]
     },
     "execution_count": 4,
     "metadata": {},
     "output_type": "execute_result"
    }
   ],
   "source": [
    "happiness_2016 = pd.read_csv(folder + 'world_happiness_2016.csv')\n",
    "happiness_2016.columns = ['country', 'region', 'happiness_rank', 'happiness_score', 'lower_confidence', 'upper_confidence', \n",
    "                          'economy', 'family', 'health', 'freedom', 'trust', 'generosity', 'dystopia_residual']\n",
    "dropped_2016       = ['region', 'lower_confidence', 'upper_confidence']\n",
    "new_happiness_2016 = happiness_2016.drop(dropped_2016, axis = 1)\n",
    "new_happiness_2016.head()"
   ]
  },
  {
   "cell_type": "code",
   "execution_count": 5,
   "metadata": {},
   "outputs": [
    {
     "data": {
      "text/html": [
       "<div>\n",
       "<style scoped>\n",
       "    .dataframe tbody tr th:only-of-type {\n",
       "        vertical-align: middle;\n",
       "    }\n",
       "\n",
       "    .dataframe tbody tr th {\n",
       "        vertical-align: top;\n",
       "    }\n",
       "\n",
       "    .dataframe thead th {\n",
       "        text-align: right;\n",
       "    }\n",
       "</style>\n",
       "<table border=\"1\" class=\"dataframe\">\n",
       "  <thead>\n",
       "    <tr style=\"text-align: right;\">\n",
       "      <th></th>\n",
       "      <th>country</th>\n",
       "      <th>happiness_rank</th>\n",
       "      <th>happiness_score</th>\n",
       "      <th>economy</th>\n",
       "      <th>family</th>\n",
       "      <th>health</th>\n",
       "      <th>freedom</th>\n",
       "      <th>generosity</th>\n",
       "      <th>trust</th>\n",
       "      <th>dystopia_residual</th>\n",
       "    </tr>\n",
       "  </thead>\n",
       "  <tbody>\n",
       "    <tr>\n",
       "      <td>0</td>\n",
       "      <td>Norway</td>\n",
       "      <td>1</td>\n",
       "      <td>7.537</td>\n",
       "      <td>1.616463</td>\n",
       "      <td>1.533524</td>\n",
       "      <td>0.796667</td>\n",
       "      <td>0.635423</td>\n",
       "      <td>0.362012</td>\n",
       "      <td>0.315964</td>\n",
       "      <td>2.277027</td>\n",
       "    </tr>\n",
       "    <tr>\n",
       "      <td>1</td>\n",
       "      <td>Denmark</td>\n",
       "      <td>2</td>\n",
       "      <td>7.522</td>\n",
       "      <td>1.482383</td>\n",
       "      <td>1.551122</td>\n",
       "      <td>0.792566</td>\n",
       "      <td>0.626007</td>\n",
       "      <td>0.355280</td>\n",
       "      <td>0.400770</td>\n",
       "      <td>2.313707</td>\n",
       "    </tr>\n",
       "    <tr>\n",
       "      <td>2</td>\n",
       "      <td>Iceland</td>\n",
       "      <td>3</td>\n",
       "      <td>7.504</td>\n",
       "      <td>1.480633</td>\n",
       "      <td>1.610574</td>\n",
       "      <td>0.833552</td>\n",
       "      <td>0.627163</td>\n",
       "      <td>0.475540</td>\n",
       "      <td>0.153527</td>\n",
       "      <td>2.322715</td>\n",
       "    </tr>\n",
       "    <tr>\n",
       "      <td>3</td>\n",
       "      <td>Switzerland</td>\n",
       "      <td>4</td>\n",
       "      <td>7.494</td>\n",
       "      <td>1.564980</td>\n",
       "      <td>1.516912</td>\n",
       "      <td>0.858131</td>\n",
       "      <td>0.620071</td>\n",
       "      <td>0.290549</td>\n",
       "      <td>0.367007</td>\n",
       "      <td>2.276716</td>\n",
       "    </tr>\n",
       "    <tr>\n",
       "      <td>4</td>\n",
       "      <td>Finland</td>\n",
       "      <td>5</td>\n",
       "      <td>7.469</td>\n",
       "      <td>1.443572</td>\n",
       "      <td>1.540247</td>\n",
       "      <td>0.809158</td>\n",
       "      <td>0.617951</td>\n",
       "      <td>0.245483</td>\n",
       "      <td>0.382612</td>\n",
       "      <td>2.430182</td>\n",
       "    </tr>\n",
       "  </tbody>\n",
       "</table>\n",
       "</div>"
      ],
      "text/plain": [
       "       country  happiness_rank  happiness_score   economy    family    health  \\\n",
       "0       Norway               1            7.537  1.616463  1.533524  0.796667   \n",
       "1      Denmark               2            7.522  1.482383  1.551122  0.792566   \n",
       "2      Iceland               3            7.504  1.480633  1.610574  0.833552   \n",
       "3  Switzerland               4            7.494  1.564980  1.516912  0.858131   \n",
       "4      Finland               5            7.469  1.443572  1.540247  0.809158   \n",
       "\n",
       "    freedom  generosity     trust  dystopia_residual  \n",
       "0  0.635423    0.362012  0.315964           2.277027  \n",
       "1  0.626007    0.355280  0.400770           2.313707  \n",
       "2  0.627163    0.475540  0.153527           2.322715  \n",
       "3  0.620071    0.290549  0.367007           2.276716  \n",
       "4  0.617951    0.245483  0.382612           2.430182  "
      ]
     },
     "execution_count": 5,
     "metadata": {},
     "output_type": "execute_result"
    }
   ],
   "source": [
    "happiness_2017 = pd.read_csv(folder + 'world_happiness_2017.csv')\n",
    "happiness_2017.columns = ['country', 'happiness_rank', 'happiness_score', 'whisker_high', 'whisker_low', \n",
    "                          'economy', 'family', 'health', 'freedom', 'generosity', 'trust', 'dystopia_residual']\n",
    "dropped_2017       = ['whisker_high', 'whisker_low']\n",
    "new_happiness_2017 = happiness_2017.drop(dropped_2017, axis = 1)\n",
    "new_happiness_2017.head()"
   ]
  },
  {
   "cell_type": "code",
   "execution_count": 6,
   "metadata": {},
   "outputs": [
    {
     "data": {
      "text/html": [
       "<div>\n",
       "<style scoped>\n",
       "    .dataframe tbody tr th:only-of-type {\n",
       "        vertical-align: middle;\n",
       "    }\n",
       "\n",
       "    .dataframe tbody tr th {\n",
       "        vertical-align: top;\n",
       "    }\n",
       "\n",
       "    .dataframe thead th {\n",
       "        text-align: right;\n",
       "    }\n",
       "</style>\n",
       "<table border=\"1\" class=\"dataframe\">\n",
       "  <thead>\n",
       "    <tr style=\"text-align: right;\">\n",
       "      <th></th>\n",
       "      <th>country</th>\n",
       "      <th>happiness_rank</th>\n",
       "      <th>happiness_score</th>\n",
       "      <th>economy</th>\n",
       "      <th>family</th>\n",
       "      <th>health</th>\n",
       "      <th>freedom</th>\n",
       "      <th>trust</th>\n",
       "      <th>generosity</th>\n",
       "      <th>dystopia_residual</th>\n",
       "    </tr>\n",
       "  </thead>\n",
       "  <tbody>\n",
       "    <tr>\n",
       "      <td>0</td>\n",
       "      <td>Switzerland</td>\n",
       "      <td>1</td>\n",
       "      <td>7.587</td>\n",
       "      <td>1.39651</td>\n",
       "      <td>1.34951</td>\n",
       "      <td>0.94143</td>\n",
       "      <td>0.66557</td>\n",
       "      <td>0.41978</td>\n",
       "      <td>0.29678</td>\n",
       "      <td>2.51738</td>\n",
       "    </tr>\n",
       "    <tr>\n",
       "      <td>1</td>\n",
       "      <td>Iceland</td>\n",
       "      <td>2</td>\n",
       "      <td>7.561</td>\n",
       "      <td>1.30232</td>\n",
       "      <td>1.40223</td>\n",
       "      <td>0.94784</td>\n",
       "      <td>0.62877</td>\n",
       "      <td>0.14145</td>\n",
       "      <td>0.43630</td>\n",
       "      <td>2.70201</td>\n",
       "    </tr>\n",
       "    <tr>\n",
       "      <td>2</td>\n",
       "      <td>Denmark</td>\n",
       "      <td>3</td>\n",
       "      <td>7.527</td>\n",
       "      <td>1.32548</td>\n",
       "      <td>1.36058</td>\n",
       "      <td>0.87464</td>\n",
       "      <td>0.64938</td>\n",
       "      <td>0.48357</td>\n",
       "      <td>0.34139</td>\n",
       "      <td>2.49204</td>\n",
       "    </tr>\n",
       "    <tr>\n",
       "      <td>3</td>\n",
       "      <td>Norway</td>\n",
       "      <td>4</td>\n",
       "      <td>7.522</td>\n",
       "      <td>1.45900</td>\n",
       "      <td>1.33095</td>\n",
       "      <td>0.88521</td>\n",
       "      <td>0.66973</td>\n",
       "      <td>0.36503</td>\n",
       "      <td>0.34699</td>\n",
       "      <td>2.46531</td>\n",
       "    </tr>\n",
       "    <tr>\n",
       "      <td>4</td>\n",
       "      <td>Canada</td>\n",
       "      <td>5</td>\n",
       "      <td>7.427</td>\n",
       "      <td>1.32629</td>\n",
       "      <td>1.32261</td>\n",
       "      <td>0.90563</td>\n",
       "      <td>0.63297</td>\n",
       "      <td>0.32957</td>\n",
       "      <td>0.45811</td>\n",
       "      <td>2.45176</td>\n",
       "    </tr>\n",
       "  </tbody>\n",
       "</table>\n",
       "</div>"
      ],
      "text/plain": [
       "       country  happiness_rank  happiness_score  economy   family   health  \\\n",
       "0  Switzerland               1            7.587  1.39651  1.34951  0.94143   \n",
       "1      Iceland               2            7.561  1.30232  1.40223  0.94784   \n",
       "2      Denmark               3            7.527  1.32548  1.36058  0.87464   \n",
       "3       Norway               4            7.522  1.45900  1.33095  0.88521   \n",
       "4       Canada               5            7.427  1.32629  1.32261  0.90563   \n",
       "\n",
       "   freedom    trust  generosity  dystopia_residual  \n",
       "0  0.66557  0.41978     0.29678            2.51738  \n",
       "1  0.62877  0.14145     0.43630            2.70201  \n",
       "2  0.64938  0.48357     0.34139            2.49204  \n",
       "3  0.66973  0.36503     0.34699            2.46531  \n",
       "4  0.63297  0.32957     0.45811            2.45176  "
      ]
     },
     "execution_count": 6,
     "metadata": {},
     "output_type": "execute_result"
    }
   ],
   "source": [
    "#concatenate 3 data\n",
    "frames    = [new_happiness_2015, new_happiness_2016, new_happiness_2017]\n",
    "happiness = pd.concat(frames, sort = False)\n",
    "\n",
    "happiness.to_csv(folder + 'happiness.csv', encoding = 'utf-8')\n",
    "happiness.head()"
   ]
  },
  {
   "cell_type": "code",
   "execution_count": 7,
   "metadata": {},
   "outputs": [
    {
     "data": {
      "application/vnd.plotly.v1+json": {
       "config": {
        "linkText": "Export to plot.ly",
        "plotlyServerURL": "https://plot.ly",
        "showLink": false
       },
       "data": [
        {
         "colorscale": [
          [
           0,
           "#440154"
          ],
          [
           0.1111111111111111,
           "#482878"
          ],
          [
           0.2222222222222222,
           "#3e4989"
          ],
          [
           0.3333333333333333,
           "#31688e"
          ],
          [
           0.4444444444444444,
           "#26828e"
          ],
          [
           0.5555555555555556,
           "#1f9e89"
          ],
          [
           0.6666666666666666,
           "#35b779"
          ],
          [
           0.7777777777777778,
           "#6ece58"
          ],
          [
           0.8888888888888888,
           "#b5de2b"
          ],
          [
           1,
           "#fde725"
          ]
         ],
         "locationmode": "country names",
         "locations": [
          "Switzerland",
          "Iceland",
          "Denmark",
          "Norway",
          "Canada",
          "Finland",
          "Netherlands",
          "Sweden",
          "New Zealand",
          "Australia",
          "Israel",
          "Costa Rica",
          "Austria",
          "Mexico",
          "United States",
          "Brazil",
          "Luxembourg",
          "Ireland",
          "Belgium",
          "United Arab Emirates",
          "United Kingdom",
          "Oman",
          "Venezuela",
          "Singapore",
          "Panama",
          "Germany",
          "Chile",
          "Qatar",
          "France",
          "Argentina",
          "Czech Republic",
          "Uruguay",
          "Colombia",
          "Thailand",
          "Saudi Arabia",
          "Spain",
          "Malta",
          "Taiwan",
          "Kuwait",
          "Suriname",
          "Trinidad and Tobago",
          "El Salvador",
          "Guatemala",
          "Uzbekistan",
          "Slovakia",
          "Japan",
          "South Korea",
          "Ecuador",
          "Bahrain",
          "Italy",
          "Bolivia",
          "Moldova",
          "Paraguay",
          "Kazakhstan",
          "Slovenia",
          "Lithuania",
          "Nicaragua",
          "Peru",
          "Belarus",
          "Poland",
          "Malaysia",
          "Croatia",
          "Libya",
          "Russia",
          "Jamaica",
          "North Cyprus",
          "Cyprus",
          "Algeria",
          "Kosovo",
          "Turkmenistan",
          "Mauritius",
          "Hong Kong",
          "Estonia",
          "Indonesia",
          "Vietnam",
          "Turkey",
          "Kyrgyzstan",
          "Nigeria",
          "Bhutan",
          "Azerbaijan",
          "Pakistan",
          "Jordan",
          "Montenegro",
          "China",
          "Zambia",
          "Romania",
          "Serbia",
          "Portugal",
          "Latvia",
          "Philippines",
          "Somaliland region",
          "Morocco",
          "Macedonia",
          "Mozambique",
          "Albania",
          "Bosnia and Herzegovina",
          "Lesotho",
          "Dominican Republic",
          "Laos",
          "Mongolia",
          "Swaziland",
          "Greece",
          "Lebanon",
          "Hungary",
          "Honduras",
          "Tajikistan",
          "Tunisia",
          "Palestinian Territories",
          "Bangladesh",
          "Iran",
          "Ukraine",
          "Iraq",
          "South Africa",
          "Ghana",
          "Zimbabwe",
          "Liberia",
          "India",
          "Sudan",
          "Haiti",
          "Congo (Kinshasa)",
          "Nepal",
          "Ethiopia",
          "Sierra Leone",
          "Mauritania",
          "Kenya",
          "Djibouti",
          "Armenia",
          "Botswana",
          "Myanmar",
          "Georgia",
          "Malawi",
          "Sri Lanka",
          "Cameroon",
          "Bulgaria",
          "Egypt",
          "Yemen",
          "Angola",
          "Mali",
          "Congo (Brazzaville)",
          "Comoros",
          "Uganda",
          "Senegal",
          "Gabon",
          "Niger",
          "Cambodia",
          "Tanzania",
          "Madagascar",
          "Central African Republic",
          "Chad",
          "Guinea",
          "Ivory Coast",
          "Burkina Faso",
          "Afghanistan",
          "Rwanda",
          "Benin",
          "Syria",
          "Burundi",
          "Togo",
          "Denmark",
          "Switzerland",
          "Iceland",
          "Norway",
          "Finland",
          "Canada",
          "Netherlands",
          "New Zealand",
          "Australia",
          "Sweden",
          "Israel",
          "Austria",
          "United States",
          "Costa Rica",
          "Puerto Rico",
          "Germany",
          "Brazil",
          "Belgium",
          "Ireland",
          "Luxembourg",
          "Mexico",
          "Singapore",
          "United Kingdom",
          "Chile",
          "Panama",
          "Argentina",
          "Czech Republic",
          "United Arab Emirates",
          "Uruguay",
          "Malta",
          "Colombia",
          "France",
          "Thailand",
          "Saudi Arabia",
          "Taiwan",
          "Qatar",
          "Spain",
          "Algeria",
          "Guatemala",
          "Suriname",
          "Kuwait",
          "Bahrain",
          "Trinidad and Tobago",
          "Venezuela",
          "Slovakia",
          "El Salvador",
          "Malaysia",
          "Nicaragua",
          "Uzbekistan",
          "Italy",
          "Ecuador",
          "Belize",
          "Japan",
          "Kazakhstan",
          "Moldova",
          "Russia",
          "Poland",
          "South Korea",
          "Bolivia",
          "Lithuania",
          "Belarus",
          "North Cyprus",
          "Slovenia",
          "Peru",
          "Turkmenistan",
          "Mauritius",
          "Libya",
          "Latvia",
          "Cyprus",
          "Paraguay",
          "Romania",
          "Estonia",
          "Jamaica",
          "Croatia",
          "Hong Kong",
          "Somalia",
          "Kosovo",
          "Turkey",
          "Indonesia",
          "Jordan",
          "Azerbaijan",
          "Philippines",
          "China",
          "Bhutan",
          "Kyrgyzstan",
          "Serbia",
          "Bosnia and Herzegovina",
          "Montenegro",
          "Dominican Republic",
          "Morocco",
          "Hungary",
          "Pakistan",
          "Lebanon",
          "Portugal",
          "Macedonia",
          "Vietnam",
          "Somaliland Region",
          "Tunisia",
          "Greece",
          "Tajikistan",
          "Mongolia",
          "Laos",
          "Nigeria",
          "Honduras",
          "Iran",
          "Zambia",
          "Nepal",
          "Palestinian Territories",
          "Albania",
          "Bangladesh",
          "Sierra Leone",
          "Iraq",
          "Namibia",
          "Cameroon",
          "Ethiopia",
          "South Africa",
          "Sri Lanka",
          "India",
          "Myanmar",
          "Egypt",
          "Armenia",
          "Kenya",
          "Ukraine",
          "Ghana",
          "Congo (Kinshasa)",
          "Georgia",
          "Congo (Brazzaville)",
          "Senegal",
          "Bulgaria",
          "Mauritania",
          "Zimbabwe",
          "Malawi",
          "Sudan",
          "Gabon",
          "Mali",
          "Haiti",
          "Botswana",
          "Comoros",
          "Ivory Coast",
          "Cambodia",
          "Angola",
          "Niger",
          "South Sudan",
          "Chad",
          "Burkina Faso",
          "Uganda",
          "Yemen",
          "Madagascar",
          "Tanzania",
          "Liberia",
          "Guinea",
          "Rwanda",
          "Benin",
          "Afghanistan",
          "Togo",
          "Syria",
          "Burundi",
          "Norway",
          "Denmark",
          "Iceland",
          "Switzerland",
          "Finland",
          "Netherlands",
          "Canada",
          "New Zealand",
          "Sweden",
          "Australia",
          "Israel",
          "Costa Rica",
          "Austria",
          "United States",
          "Ireland",
          "Germany",
          "Belgium",
          "Luxembourg",
          "United Kingdom",
          "Chile",
          "United Arab Emirates",
          "Brazil",
          "Czech Republic",
          "Argentina",
          "Mexico",
          "Singapore",
          "Malta",
          "Uruguay",
          "Guatemala",
          "Panama",
          "France",
          "Thailand",
          "Taiwan Province of China",
          "Spain",
          "Qatar",
          "Colombia",
          "Saudi Arabia",
          "Trinidad and Tobago",
          "Kuwait",
          "Slovakia",
          "Bahrain",
          "Malaysia",
          "Nicaragua",
          "Ecuador",
          "El Salvador",
          "Poland",
          "Uzbekistan",
          "Italy",
          "Russia",
          "Belize",
          "Japan",
          "Lithuania",
          "Algeria",
          "Latvia",
          "South Korea",
          "Moldova",
          "Romania",
          "Bolivia",
          "Turkmenistan",
          "Kazakhstan",
          "North Cyprus",
          "Slovenia",
          "Peru",
          "Mauritius",
          "Cyprus",
          "Estonia",
          "Belarus",
          "Libya",
          "Turkey",
          "Paraguay",
          "Hong Kong S.A.R., China",
          "Philippines",
          "Serbia",
          "Jordan",
          "Hungary",
          "Jamaica",
          "Croatia",
          "Kosovo",
          "China",
          "Pakistan",
          "Indonesia",
          "Venezuela",
          "Montenegro",
          "Morocco",
          "Azerbaijan",
          "Dominican Republic",
          "Greece",
          "Lebanon",
          "Portugal",
          "Bosnia and Herzegovina",
          "Honduras",
          "Macedonia",
          "Somalia",
          "Vietnam",
          "Nigeria",
          "Tajikistan",
          "Bhutan",
          "Kyrgyzstan",
          "Nepal",
          "Mongolia",
          "South Africa",
          "Tunisia",
          "Palestinian Territories",
          "Egypt",
          "Bulgaria",
          "Sierra Leone",
          "Cameroon",
          "Iran",
          "Albania",
          "Bangladesh",
          "Namibia",
          "Kenya",
          "Mozambique",
          "Myanmar",
          "Senegal",
          "Zambia",
          "Iraq",
          "Gabon",
          "Ethiopia",
          "Sri Lanka",
          "Armenia",
          "India",
          "Mauritania",
          "Congo (Brazzaville)",
          "Georgia",
          "Congo (Kinshasa)",
          "Mali",
          "Ivory Coast",
          "Cambodia",
          "Sudan",
          "Ghana",
          "Ukraine",
          "Uganda",
          "Burkina Faso",
          "Niger",
          "Malawi",
          "Chad",
          "Zimbabwe",
          "Lesotho",
          "Angola",
          "Afghanistan",
          "Botswana",
          "Benin",
          "Madagascar",
          "Haiti",
          "Yemen",
          "South Sudan",
          "Liberia",
          "Guinea",
          "Togo",
          "Rwanda",
          "Syria",
          "Tanzania",
          "Burundi",
          "Central African Republic"
         ],
         "text": [
          "Switzerland",
          "Iceland",
          "Denmark",
          "Norway",
          "Canada",
          "Finland",
          "Netherlands",
          "Sweden",
          "New Zealand",
          "Australia",
          "Israel",
          "Costa Rica",
          "Austria",
          "Mexico",
          "United States",
          "Brazil",
          "Luxembourg",
          "Ireland",
          "Belgium",
          "United Arab Emirates",
          "United Kingdom",
          "Oman",
          "Venezuela",
          "Singapore",
          "Panama",
          "Germany",
          "Chile",
          "Qatar",
          "France",
          "Argentina",
          "Czech Republic",
          "Uruguay",
          "Colombia",
          "Thailand",
          "Saudi Arabia",
          "Spain",
          "Malta",
          "Taiwan",
          "Kuwait",
          "Suriname",
          "Trinidad and Tobago",
          "El Salvador",
          "Guatemala",
          "Uzbekistan",
          "Slovakia",
          "Japan",
          "South Korea",
          "Ecuador",
          "Bahrain",
          "Italy",
          "Bolivia",
          "Moldova",
          "Paraguay",
          "Kazakhstan",
          "Slovenia",
          "Lithuania",
          "Nicaragua",
          "Peru",
          "Belarus",
          "Poland",
          "Malaysia",
          "Croatia",
          "Libya",
          "Russia",
          "Jamaica",
          "North Cyprus",
          "Cyprus",
          "Algeria",
          "Kosovo",
          "Turkmenistan",
          "Mauritius",
          "Hong Kong",
          "Estonia",
          "Indonesia",
          "Vietnam",
          "Turkey",
          "Kyrgyzstan",
          "Nigeria",
          "Bhutan",
          "Azerbaijan",
          "Pakistan",
          "Jordan",
          "Montenegro",
          "China",
          "Zambia",
          "Romania",
          "Serbia",
          "Portugal",
          "Latvia",
          "Philippines",
          "Somaliland region",
          "Morocco",
          "Macedonia",
          "Mozambique",
          "Albania",
          "Bosnia and Herzegovina",
          "Lesotho",
          "Dominican Republic",
          "Laos",
          "Mongolia",
          "Swaziland",
          "Greece",
          "Lebanon",
          "Hungary",
          "Honduras",
          "Tajikistan",
          "Tunisia",
          "Palestinian Territories",
          "Bangladesh",
          "Iran",
          "Ukraine",
          "Iraq",
          "South Africa",
          "Ghana",
          "Zimbabwe",
          "Liberia",
          "India",
          "Sudan",
          "Haiti",
          "Congo (Kinshasa)",
          "Nepal",
          "Ethiopia",
          "Sierra Leone",
          "Mauritania",
          "Kenya",
          "Djibouti",
          "Armenia",
          "Botswana",
          "Myanmar",
          "Georgia",
          "Malawi",
          "Sri Lanka",
          "Cameroon",
          "Bulgaria",
          "Egypt",
          "Yemen",
          "Angola",
          "Mali",
          "Congo (Brazzaville)",
          "Comoros",
          "Uganda",
          "Senegal",
          "Gabon",
          "Niger",
          "Cambodia",
          "Tanzania",
          "Madagascar",
          "Central African Republic",
          "Chad",
          "Guinea",
          "Ivory Coast",
          "Burkina Faso",
          "Afghanistan",
          "Rwanda",
          "Benin",
          "Syria",
          "Burundi",
          "Togo",
          "Denmark",
          "Switzerland",
          "Iceland",
          "Norway",
          "Finland",
          "Canada",
          "Netherlands",
          "New Zealand",
          "Australia",
          "Sweden",
          "Israel",
          "Austria",
          "United States",
          "Costa Rica",
          "Puerto Rico",
          "Germany",
          "Brazil",
          "Belgium",
          "Ireland",
          "Luxembourg",
          "Mexico",
          "Singapore",
          "United Kingdom",
          "Chile",
          "Panama",
          "Argentina",
          "Czech Republic",
          "United Arab Emirates",
          "Uruguay",
          "Malta",
          "Colombia",
          "France",
          "Thailand",
          "Saudi Arabia",
          "Taiwan",
          "Qatar",
          "Spain",
          "Algeria",
          "Guatemala",
          "Suriname",
          "Kuwait",
          "Bahrain",
          "Trinidad and Tobago",
          "Venezuela",
          "Slovakia",
          "El Salvador",
          "Malaysia",
          "Nicaragua",
          "Uzbekistan",
          "Italy",
          "Ecuador",
          "Belize",
          "Japan",
          "Kazakhstan",
          "Moldova",
          "Russia",
          "Poland",
          "South Korea",
          "Bolivia",
          "Lithuania",
          "Belarus",
          "North Cyprus",
          "Slovenia",
          "Peru",
          "Turkmenistan",
          "Mauritius",
          "Libya",
          "Latvia",
          "Cyprus",
          "Paraguay",
          "Romania",
          "Estonia",
          "Jamaica",
          "Croatia",
          "Hong Kong",
          "Somalia",
          "Kosovo",
          "Turkey",
          "Indonesia",
          "Jordan",
          "Azerbaijan",
          "Philippines",
          "China",
          "Bhutan",
          "Kyrgyzstan",
          "Serbia",
          "Bosnia and Herzegovina",
          "Montenegro",
          "Dominican Republic",
          "Morocco",
          "Hungary",
          "Pakistan",
          "Lebanon",
          "Portugal",
          "Macedonia",
          "Vietnam",
          "Somaliland Region",
          "Tunisia",
          "Greece",
          "Tajikistan",
          "Mongolia",
          "Laos",
          "Nigeria",
          "Honduras",
          "Iran",
          "Zambia",
          "Nepal",
          "Palestinian Territories",
          "Albania",
          "Bangladesh",
          "Sierra Leone",
          "Iraq",
          "Namibia",
          "Cameroon",
          "Ethiopia",
          "South Africa",
          "Sri Lanka",
          "India",
          "Myanmar",
          "Egypt",
          "Armenia",
          "Kenya",
          "Ukraine",
          "Ghana",
          "Congo (Kinshasa)",
          "Georgia",
          "Congo (Brazzaville)",
          "Senegal",
          "Bulgaria",
          "Mauritania",
          "Zimbabwe",
          "Malawi",
          "Sudan",
          "Gabon",
          "Mali",
          "Haiti",
          "Botswana",
          "Comoros",
          "Ivory Coast",
          "Cambodia",
          "Angola",
          "Niger",
          "South Sudan",
          "Chad",
          "Burkina Faso",
          "Uganda",
          "Yemen",
          "Madagascar",
          "Tanzania",
          "Liberia",
          "Guinea",
          "Rwanda",
          "Benin",
          "Afghanistan",
          "Togo",
          "Syria",
          "Burundi",
          "Norway",
          "Denmark",
          "Iceland",
          "Switzerland",
          "Finland",
          "Netherlands",
          "Canada",
          "New Zealand",
          "Sweden",
          "Australia",
          "Israel",
          "Costa Rica",
          "Austria",
          "United States",
          "Ireland",
          "Germany",
          "Belgium",
          "Luxembourg",
          "United Kingdom",
          "Chile",
          "United Arab Emirates",
          "Brazil",
          "Czech Republic",
          "Argentina",
          "Mexico",
          "Singapore",
          "Malta",
          "Uruguay",
          "Guatemala",
          "Panama",
          "France",
          "Thailand",
          "Taiwan Province of China",
          "Spain",
          "Qatar",
          "Colombia",
          "Saudi Arabia",
          "Trinidad and Tobago",
          "Kuwait",
          "Slovakia",
          "Bahrain",
          "Malaysia",
          "Nicaragua",
          "Ecuador",
          "El Salvador",
          "Poland",
          "Uzbekistan",
          "Italy",
          "Russia",
          "Belize",
          "Japan",
          "Lithuania",
          "Algeria",
          "Latvia",
          "South Korea",
          "Moldova",
          "Romania",
          "Bolivia",
          "Turkmenistan",
          "Kazakhstan",
          "North Cyprus",
          "Slovenia",
          "Peru",
          "Mauritius",
          "Cyprus",
          "Estonia",
          "Belarus",
          "Libya",
          "Turkey",
          "Paraguay",
          "Hong Kong S.A.R., China",
          "Philippines",
          "Serbia",
          "Jordan",
          "Hungary",
          "Jamaica",
          "Croatia",
          "Kosovo",
          "China",
          "Pakistan",
          "Indonesia",
          "Venezuela",
          "Montenegro",
          "Morocco",
          "Azerbaijan",
          "Dominican Republic",
          "Greece",
          "Lebanon",
          "Portugal",
          "Bosnia and Herzegovina",
          "Honduras",
          "Macedonia",
          "Somalia",
          "Vietnam",
          "Nigeria",
          "Tajikistan",
          "Bhutan",
          "Kyrgyzstan",
          "Nepal",
          "Mongolia",
          "South Africa",
          "Tunisia",
          "Palestinian Territories",
          "Egypt",
          "Bulgaria",
          "Sierra Leone",
          "Cameroon",
          "Iran",
          "Albania",
          "Bangladesh",
          "Namibia",
          "Kenya",
          "Mozambique",
          "Myanmar",
          "Senegal",
          "Zambia",
          "Iraq",
          "Gabon",
          "Ethiopia",
          "Sri Lanka",
          "Armenia",
          "India",
          "Mauritania",
          "Congo (Brazzaville)",
          "Georgia",
          "Congo (Kinshasa)",
          "Mali",
          "Ivory Coast",
          "Cambodia",
          "Sudan",
          "Ghana",
          "Ukraine",
          "Uganda",
          "Burkina Faso",
          "Niger",
          "Malawi",
          "Chad",
          "Zimbabwe",
          "Lesotho",
          "Angola",
          "Afghanistan",
          "Botswana",
          "Benin",
          "Madagascar",
          "Haiti",
          "Yemen",
          "South Sudan",
          "Liberia",
          "Guinea",
          "Togo",
          "Rwanda",
          "Syria",
          "Tanzania",
          "Burundi",
          "Central African Republic"
         ],
         "type": "choropleth",
         "z": [
          1,
          2,
          3,
          4,
          5,
          6,
          7,
          8,
          9,
          10,
          11,
          12,
          13,
          14,
          15,
          16,
          17,
          18,
          19,
          20,
          21,
          22,
          23,
          24,
          25,
          26,
          27,
          28,
          29,
          30,
          31,
          32,
          33,
          34,
          35,
          36,
          37,
          38,
          39,
          40,
          41,
          42,
          43,
          44,
          45,
          46,
          47,
          48,
          49,
          50,
          51,
          52,
          53,
          54,
          55,
          56,
          57,
          58,
          59,
          60,
          61,
          62,
          63,
          64,
          65,
          66,
          67,
          68,
          69,
          70,
          71,
          72,
          73,
          74,
          75,
          76,
          77,
          78,
          79,
          80,
          81,
          82,
          82,
          84,
          85,
          86,
          87,
          88,
          89,
          90,
          91,
          92,
          93,
          94,
          95,
          96,
          97,
          98,
          99,
          100,
          101,
          102,
          103,
          104,
          105,
          106,
          107,
          108,
          109,
          110,
          111,
          112,
          113,
          114,
          115,
          116,
          117,
          118,
          119,
          120,
          121,
          122,
          123,
          124,
          125,
          126,
          127,
          128,
          129,
          130,
          131,
          132,
          133,
          134,
          135,
          136,
          137,
          138,
          139,
          140,
          141,
          142,
          143,
          144,
          145,
          146,
          147,
          148,
          149,
          150,
          151,
          152,
          153,
          154,
          155,
          156,
          157,
          158,
          1,
          2,
          3,
          4,
          5,
          6,
          7,
          8,
          9,
          10,
          11,
          12,
          13,
          14,
          15,
          16,
          17,
          18,
          19,
          20,
          21,
          22,
          23,
          24,
          25,
          26,
          27,
          28,
          29,
          30,
          31,
          32,
          33,
          34,
          34,
          36,
          37,
          38,
          39,
          40,
          41,
          42,
          43,
          44,
          45,
          46,
          47,
          48,
          49,
          50,
          51,
          52,
          53,
          54,
          55,
          56,
          57,
          57,
          59,
          60,
          61,
          62,
          63,
          64,
          65,
          66,
          67,
          68,
          69,
          70,
          71,
          72,
          73,
          74,
          75,
          76,
          77,
          78,
          79,
          80,
          81,
          82,
          83,
          84,
          85,
          86,
          87,
          88,
          89,
          90,
          91,
          92,
          93,
          94,
          95,
          96,
          97,
          98,
          99,
          100,
          101,
          102,
          103,
          104,
          105,
          106,
          107,
          108,
          109,
          110,
          111,
          112,
          113,
          114,
          115,
          116,
          117,
          118,
          119,
          120,
          121,
          122,
          123,
          124,
          125,
          126,
          127,
          128,
          129,
          130,
          131,
          132,
          133,
          134,
          135,
          136,
          137,
          138,
          139,
          140,
          141,
          142,
          143,
          144,
          145,
          145,
          147,
          148,
          149,
          150,
          151,
          152,
          153,
          154,
          155,
          156,
          157,
          1,
          2,
          3,
          4,
          5,
          6,
          7,
          8,
          9,
          10,
          11,
          12,
          13,
          14,
          15,
          16,
          17,
          18,
          19,
          20,
          21,
          22,
          23,
          24,
          25,
          26,
          27,
          28,
          29,
          30,
          31,
          32,
          33,
          34,
          35,
          36,
          37,
          38,
          39,
          40,
          41,
          42,
          43,
          44,
          45,
          46,
          47,
          48,
          49,
          50,
          51,
          52,
          53,
          54,
          55,
          56,
          57,
          58,
          59,
          60,
          61,
          62,
          63,
          64,
          65,
          66,
          67,
          68,
          69,
          70,
          71,
          72,
          73,
          74,
          75,
          76,
          77,
          78,
          79,
          80,
          81,
          82,
          83,
          84,
          85,
          86,
          87,
          88,
          89,
          90,
          91,
          92,
          93,
          94,
          95,
          96,
          97,
          98,
          99,
          100,
          101,
          102,
          103,
          104,
          105,
          106,
          107,
          108,
          109,
          110,
          111,
          112,
          113,
          114,
          115,
          116,
          117,
          118,
          119,
          120,
          121,
          122,
          123,
          124,
          125,
          126,
          127,
          128,
          129,
          130,
          131,
          132,
          133,
          134,
          135,
          136,
          137,
          138,
          139,
          140,
          141,
          142,
          143,
          144,
          145,
          146,
          147,
          148,
          149,
          150,
          151,
          152,
          153,
          154,
          155
         ]
        }
       ],
       "layout": {
        "template": {
         "data": {
          "bar": [
           {
            "error_x": {
             "color": "#2a3f5f"
            },
            "error_y": {
             "color": "#2a3f5f"
            },
            "marker": {
             "line": {
              "color": "#E5ECF6",
              "width": 0.5
             }
            },
            "type": "bar"
           }
          ],
          "barpolar": [
           {
            "marker": {
             "line": {
              "color": "#E5ECF6",
              "width": 0.5
             }
            },
            "type": "barpolar"
           }
          ],
          "carpet": [
           {
            "aaxis": {
             "endlinecolor": "#2a3f5f",
             "gridcolor": "white",
             "linecolor": "white",
             "minorgridcolor": "white",
             "startlinecolor": "#2a3f5f"
            },
            "baxis": {
             "endlinecolor": "#2a3f5f",
             "gridcolor": "white",
             "linecolor": "white",
             "minorgridcolor": "white",
             "startlinecolor": "#2a3f5f"
            },
            "type": "carpet"
           }
          ],
          "choropleth": [
           {
            "colorbar": {
             "outlinewidth": 0,
             "ticks": ""
            },
            "type": "choropleth"
           }
          ],
          "contour": [
           {
            "colorbar": {
             "outlinewidth": 0,
             "ticks": ""
            },
            "colorscale": [
             [
              0,
              "#0d0887"
             ],
             [
              0.1111111111111111,
              "#46039f"
             ],
             [
              0.2222222222222222,
              "#7201a8"
             ],
             [
              0.3333333333333333,
              "#9c179e"
             ],
             [
              0.4444444444444444,
              "#bd3786"
             ],
             [
              0.5555555555555556,
              "#d8576b"
             ],
             [
              0.6666666666666666,
              "#ed7953"
             ],
             [
              0.7777777777777778,
              "#fb9f3a"
             ],
             [
              0.8888888888888888,
              "#fdca26"
             ],
             [
              1,
              "#f0f921"
             ]
            ],
            "type": "contour"
           }
          ],
          "contourcarpet": [
           {
            "colorbar": {
             "outlinewidth": 0,
             "ticks": ""
            },
            "type": "contourcarpet"
           }
          ],
          "heatmap": [
           {
            "colorbar": {
             "outlinewidth": 0,
             "ticks": ""
            },
            "colorscale": [
             [
              0,
              "#0d0887"
             ],
             [
              0.1111111111111111,
              "#46039f"
             ],
             [
              0.2222222222222222,
              "#7201a8"
             ],
             [
              0.3333333333333333,
              "#9c179e"
             ],
             [
              0.4444444444444444,
              "#bd3786"
             ],
             [
              0.5555555555555556,
              "#d8576b"
             ],
             [
              0.6666666666666666,
              "#ed7953"
             ],
             [
              0.7777777777777778,
              "#fb9f3a"
             ],
             [
              0.8888888888888888,
              "#fdca26"
             ],
             [
              1,
              "#f0f921"
             ]
            ],
            "type": "heatmap"
           }
          ],
          "heatmapgl": [
           {
            "colorbar": {
             "outlinewidth": 0,
             "ticks": ""
            },
            "colorscale": [
             [
              0,
              "#0d0887"
             ],
             [
              0.1111111111111111,
              "#46039f"
             ],
             [
              0.2222222222222222,
              "#7201a8"
             ],
             [
              0.3333333333333333,
              "#9c179e"
             ],
             [
              0.4444444444444444,
              "#bd3786"
             ],
             [
              0.5555555555555556,
              "#d8576b"
             ],
             [
              0.6666666666666666,
              "#ed7953"
             ],
             [
              0.7777777777777778,
              "#fb9f3a"
             ],
             [
              0.8888888888888888,
              "#fdca26"
             ],
             [
              1,
              "#f0f921"
             ]
            ],
            "type": "heatmapgl"
           }
          ],
          "histogram": [
           {
            "marker": {
             "colorbar": {
              "outlinewidth": 0,
              "ticks": ""
             }
            },
            "type": "histogram"
           }
          ],
          "histogram2d": [
           {
            "colorbar": {
             "outlinewidth": 0,
             "ticks": ""
            },
            "colorscale": [
             [
              0,
              "#0d0887"
             ],
             [
              0.1111111111111111,
              "#46039f"
             ],
             [
              0.2222222222222222,
              "#7201a8"
             ],
             [
              0.3333333333333333,
              "#9c179e"
             ],
             [
              0.4444444444444444,
              "#bd3786"
             ],
             [
              0.5555555555555556,
              "#d8576b"
             ],
             [
              0.6666666666666666,
              "#ed7953"
             ],
             [
              0.7777777777777778,
              "#fb9f3a"
             ],
             [
              0.8888888888888888,
              "#fdca26"
             ],
             [
              1,
              "#f0f921"
             ]
            ],
            "type": "histogram2d"
           }
          ],
          "histogram2dcontour": [
           {
            "colorbar": {
             "outlinewidth": 0,
             "ticks": ""
            },
            "colorscale": [
             [
              0,
              "#0d0887"
             ],
             [
              0.1111111111111111,
              "#46039f"
             ],
             [
              0.2222222222222222,
              "#7201a8"
             ],
             [
              0.3333333333333333,
              "#9c179e"
             ],
             [
              0.4444444444444444,
              "#bd3786"
             ],
             [
              0.5555555555555556,
              "#d8576b"
             ],
             [
              0.6666666666666666,
              "#ed7953"
             ],
             [
              0.7777777777777778,
              "#fb9f3a"
             ],
             [
              0.8888888888888888,
              "#fdca26"
             ],
             [
              1,
              "#f0f921"
             ]
            ],
            "type": "histogram2dcontour"
           }
          ],
          "mesh3d": [
           {
            "colorbar": {
             "outlinewidth": 0,
             "ticks": ""
            },
            "type": "mesh3d"
           }
          ],
          "parcoords": [
           {
            "line": {
             "colorbar": {
              "outlinewidth": 0,
              "ticks": ""
             }
            },
            "type": "parcoords"
           }
          ],
          "scatter": [
           {
            "marker": {
             "colorbar": {
              "outlinewidth": 0,
              "ticks": ""
             }
            },
            "type": "scatter"
           }
          ],
          "scatter3d": [
           {
            "line": {
             "colorbar": {
              "outlinewidth": 0,
              "ticks": ""
             }
            },
            "marker": {
             "colorbar": {
              "outlinewidth": 0,
              "ticks": ""
             }
            },
            "type": "scatter3d"
           }
          ],
          "scattercarpet": [
           {
            "marker": {
             "colorbar": {
              "outlinewidth": 0,
              "ticks": ""
             }
            },
            "type": "scattercarpet"
           }
          ],
          "scattergeo": [
           {
            "marker": {
             "colorbar": {
              "outlinewidth": 0,
              "ticks": ""
             }
            },
            "type": "scattergeo"
           }
          ],
          "scattergl": [
           {
            "marker": {
             "colorbar": {
              "outlinewidth": 0,
              "ticks": ""
             }
            },
            "type": "scattergl"
           }
          ],
          "scattermapbox": [
           {
            "marker": {
             "colorbar": {
              "outlinewidth": 0,
              "ticks": ""
             }
            },
            "type": "scattermapbox"
           }
          ],
          "scatterpolar": [
           {
            "marker": {
             "colorbar": {
              "outlinewidth": 0,
              "ticks": ""
             }
            },
            "type": "scatterpolar"
           }
          ],
          "scatterpolargl": [
           {
            "marker": {
             "colorbar": {
              "outlinewidth": 0,
              "ticks": ""
             }
            },
            "type": "scatterpolargl"
           }
          ],
          "scatterternary": [
           {
            "marker": {
             "colorbar": {
              "outlinewidth": 0,
              "ticks": ""
             }
            },
            "type": "scatterternary"
           }
          ],
          "surface": [
           {
            "colorbar": {
             "outlinewidth": 0,
             "ticks": ""
            },
            "colorscale": [
             [
              0,
              "#0d0887"
             ],
             [
              0.1111111111111111,
              "#46039f"
             ],
             [
              0.2222222222222222,
              "#7201a8"
             ],
             [
              0.3333333333333333,
              "#9c179e"
             ],
             [
              0.4444444444444444,
              "#bd3786"
             ],
             [
              0.5555555555555556,
              "#d8576b"
             ],
             [
              0.6666666666666666,
              "#ed7953"
             ],
             [
              0.7777777777777778,
              "#fb9f3a"
             ],
             [
              0.8888888888888888,
              "#fdca26"
             ],
             [
              1,
              "#f0f921"
             ]
            ],
            "type": "surface"
           }
          ],
          "table": [
           {
            "cells": {
             "fill": {
              "color": "#EBF0F8"
             },
             "line": {
              "color": "white"
             }
            },
            "header": {
             "fill": {
              "color": "#C8D4E3"
             },
             "line": {
              "color": "white"
             }
            },
            "type": "table"
           }
          ]
         },
         "layout": {
          "annotationdefaults": {
           "arrowcolor": "#2a3f5f",
           "arrowhead": 0,
           "arrowwidth": 1
          },
          "colorscale": {
           "diverging": [
            [
             0,
             "#8e0152"
            ],
            [
             0.1,
             "#c51b7d"
            ],
            [
             0.2,
             "#de77ae"
            ],
            [
             0.3,
             "#f1b6da"
            ],
            [
             0.4,
             "#fde0ef"
            ],
            [
             0.5,
             "#f7f7f7"
            ],
            [
             0.6,
             "#e6f5d0"
            ],
            [
             0.7,
             "#b8e186"
            ],
            [
             0.8,
             "#7fbc41"
            ],
            [
             0.9,
             "#4d9221"
            ],
            [
             1,
             "#276419"
            ]
           ],
           "sequential": [
            [
             0,
             "#0d0887"
            ],
            [
             0.1111111111111111,
             "#46039f"
            ],
            [
             0.2222222222222222,
             "#7201a8"
            ],
            [
             0.3333333333333333,
             "#9c179e"
            ],
            [
             0.4444444444444444,
             "#bd3786"
            ],
            [
             0.5555555555555556,
             "#d8576b"
            ],
            [
             0.6666666666666666,
             "#ed7953"
            ],
            [
             0.7777777777777778,
             "#fb9f3a"
            ],
            [
             0.8888888888888888,
             "#fdca26"
            ],
            [
             1,
             "#f0f921"
            ]
           ],
           "sequentialminus": [
            [
             0,
             "#0d0887"
            ],
            [
             0.1111111111111111,
             "#46039f"
            ],
            [
             0.2222222222222222,
             "#7201a8"
            ],
            [
             0.3333333333333333,
             "#9c179e"
            ],
            [
             0.4444444444444444,
             "#bd3786"
            ],
            [
             0.5555555555555556,
             "#d8576b"
            ],
            [
             0.6666666666666666,
             "#ed7953"
            ],
            [
             0.7777777777777778,
             "#fb9f3a"
            ],
            [
             0.8888888888888888,
             "#fdca26"
            ],
            [
             1,
             "#f0f921"
            ]
           ]
          },
          "colorway": [
           "#636efa",
           "#EF553B",
           "#00cc96",
           "#ab63fa",
           "#FFA15A",
           "#19d3f3",
           "#FF6692",
           "#B6E880",
           "#FF97FF",
           "#FECB52"
          ],
          "font": {
           "color": "#2a3f5f"
          },
          "geo": {
           "bgcolor": "white",
           "lakecolor": "white",
           "landcolor": "#E5ECF6",
           "showlakes": true,
           "showland": true,
           "subunitcolor": "white"
          },
          "hoverlabel": {
           "align": "left"
          },
          "hovermode": "closest",
          "mapbox": {
           "style": "light"
          },
          "paper_bgcolor": "white",
          "plot_bgcolor": "#E5ECF6",
          "polar": {
           "angularaxis": {
            "gridcolor": "white",
            "linecolor": "white",
            "ticks": ""
           },
           "bgcolor": "#E5ECF6",
           "radialaxis": {
            "gridcolor": "white",
            "linecolor": "white",
            "ticks": ""
           }
          },
          "scene": {
           "xaxis": {
            "backgroundcolor": "#E5ECF6",
            "gridcolor": "white",
            "gridwidth": 2,
            "linecolor": "white",
            "showbackground": true,
            "ticks": "",
            "zerolinecolor": "white"
           },
           "yaxis": {
            "backgroundcolor": "#E5ECF6",
            "gridcolor": "white",
            "gridwidth": 2,
            "linecolor": "white",
            "showbackground": true,
            "ticks": "",
            "zerolinecolor": "white"
           },
           "zaxis": {
            "backgroundcolor": "#E5ECF6",
            "gridcolor": "white",
            "gridwidth": 2,
            "linecolor": "white",
            "showbackground": true,
            "ticks": "",
            "zerolinecolor": "white"
           }
          },
          "shapedefaults": {
           "line": {
            "color": "#2a3f5f"
           }
          },
          "ternary": {
           "aaxis": {
            "gridcolor": "white",
            "linecolor": "white",
            "ticks": ""
           },
           "baxis": {
            "gridcolor": "white",
            "linecolor": "white",
            "ticks": ""
           },
           "bgcolor": "#E5ECF6",
           "caxis": {
            "gridcolor": "white",
            "linecolor": "white",
            "ticks": ""
           }
          },
          "title": {
           "x": 0.05
          },
          "xaxis": {
           "automargin": true,
           "gridcolor": "white",
           "linecolor": "white",
           "ticks": "",
           "zerolinecolor": "white",
           "zerolinewidth": 2
          },
          "yaxis": {
           "automargin": true,
           "gridcolor": "white",
           "linecolor": "white",
           "ticks": "",
           "zerolinecolor": "white",
           "zerolinewidth": 2
          }
         }
        },
        "title": {
         "text": "Happiness Rank Across the World"
        }
       }
      },
      "text/html": [
       "<div>\n",
       "        \n",
       "        \n",
       "            <div id=\"0c4e9800-5563-45ba-b0b1-9e340aef67a9\" class=\"plotly-graph-div\" style=\"height:525px; width:100%;\"></div>\n",
       "            <script type=\"text/javascript\">\n",
       "                require([\"plotly\"], function(Plotly) {\n",
       "                    window.PLOTLYENV=window.PLOTLYENV || {};\n",
       "                    \n",
       "                if (document.getElementById(\"0c4e9800-5563-45ba-b0b1-9e340aef67a9\")) {\n",
       "                    Plotly.newPlot(\n",
       "                        '0c4e9800-5563-45ba-b0b1-9e340aef67a9',\n",
       "                        [{\"colorscale\": [[0.0, \"#440154\"], [0.1111111111111111, \"#482878\"], [0.2222222222222222, \"#3e4989\"], [0.3333333333333333, \"#31688e\"], [0.4444444444444444, \"#26828e\"], [0.5555555555555556, \"#1f9e89\"], [0.6666666666666666, \"#35b779\"], [0.7777777777777778, \"#6ece58\"], [0.8888888888888888, \"#b5de2b\"], [1.0, \"#fde725\"]], \"locationmode\": \"country names\", \"locations\": [\"Switzerland\", \"Iceland\", \"Denmark\", \"Norway\", \"Canada\", \"Finland\", \"Netherlands\", \"Sweden\", \"New Zealand\", \"Australia\", \"Israel\", \"Costa Rica\", \"Austria\", \"Mexico\", \"United States\", \"Brazil\", \"Luxembourg\", \"Ireland\", \"Belgium\", \"United Arab Emirates\", \"United Kingdom\", \"Oman\", \"Venezuela\", \"Singapore\", \"Panama\", \"Germany\", \"Chile\", \"Qatar\", \"France\", \"Argentina\", \"Czech Republic\", \"Uruguay\", \"Colombia\", \"Thailand\", \"Saudi Arabia\", \"Spain\", \"Malta\", \"Taiwan\", \"Kuwait\", \"Suriname\", \"Trinidad and Tobago\", \"El Salvador\", \"Guatemala\", \"Uzbekistan\", \"Slovakia\", \"Japan\", \"South Korea\", \"Ecuador\", \"Bahrain\", \"Italy\", \"Bolivia\", \"Moldova\", \"Paraguay\", \"Kazakhstan\", \"Slovenia\", \"Lithuania\", \"Nicaragua\", \"Peru\", \"Belarus\", \"Poland\", \"Malaysia\", \"Croatia\", \"Libya\", \"Russia\", \"Jamaica\", \"North Cyprus\", \"Cyprus\", \"Algeria\", \"Kosovo\", \"Turkmenistan\", \"Mauritius\", \"Hong Kong\", \"Estonia\", \"Indonesia\", \"Vietnam\", \"Turkey\", \"Kyrgyzstan\", \"Nigeria\", \"Bhutan\", \"Azerbaijan\", \"Pakistan\", \"Jordan\", \"Montenegro\", \"China\", \"Zambia\", \"Romania\", \"Serbia\", \"Portugal\", \"Latvia\", \"Philippines\", \"Somaliland region\", \"Morocco\", \"Macedonia\", \"Mozambique\", \"Albania\", \"Bosnia and Herzegovina\", \"Lesotho\", \"Dominican Republic\", \"Laos\", \"Mongolia\", \"Swaziland\", \"Greece\", \"Lebanon\", \"Hungary\", \"Honduras\", \"Tajikistan\", \"Tunisia\", \"Palestinian Territories\", \"Bangladesh\", \"Iran\", \"Ukraine\", \"Iraq\", \"South Africa\", \"Ghana\", \"Zimbabwe\", \"Liberia\", \"India\", \"Sudan\", \"Haiti\", \"Congo (Kinshasa)\", \"Nepal\", \"Ethiopia\", \"Sierra Leone\", \"Mauritania\", \"Kenya\", \"Djibouti\", \"Armenia\", \"Botswana\", \"Myanmar\", \"Georgia\", \"Malawi\", \"Sri Lanka\", \"Cameroon\", \"Bulgaria\", \"Egypt\", \"Yemen\", \"Angola\", \"Mali\", \"Congo (Brazzaville)\", \"Comoros\", \"Uganda\", \"Senegal\", \"Gabon\", \"Niger\", \"Cambodia\", \"Tanzania\", \"Madagascar\", \"Central African Republic\", \"Chad\", \"Guinea\", \"Ivory Coast\", \"Burkina Faso\", \"Afghanistan\", \"Rwanda\", \"Benin\", \"Syria\", \"Burundi\", \"Togo\", \"Denmark\", \"Switzerland\", \"Iceland\", \"Norway\", \"Finland\", \"Canada\", \"Netherlands\", \"New Zealand\", \"Australia\", \"Sweden\", \"Israel\", \"Austria\", \"United States\", \"Costa Rica\", \"Puerto Rico\", \"Germany\", \"Brazil\", \"Belgium\", \"Ireland\", \"Luxembourg\", \"Mexico\", \"Singapore\", \"United Kingdom\", \"Chile\", \"Panama\", \"Argentina\", \"Czech Republic\", \"United Arab Emirates\", \"Uruguay\", \"Malta\", \"Colombia\", \"France\", \"Thailand\", \"Saudi Arabia\", \"Taiwan\", \"Qatar\", \"Spain\", \"Algeria\", \"Guatemala\", \"Suriname\", \"Kuwait\", \"Bahrain\", \"Trinidad and Tobago\", \"Venezuela\", \"Slovakia\", \"El Salvador\", \"Malaysia\", \"Nicaragua\", \"Uzbekistan\", \"Italy\", \"Ecuador\", \"Belize\", \"Japan\", \"Kazakhstan\", \"Moldova\", \"Russia\", \"Poland\", \"South Korea\", \"Bolivia\", \"Lithuania\", \"Belarus\", \"North Cyprus\", \"Slovenia\", \"Peru\", \"Turkmenistan\", \"Mauritius\", \"Libya\", \"Latvia\", \"Cyprus\", \"Paraguay\", \"Romania\", \"Estonia\", \"Jamaica\", \"Croatia\", \"Hong Kong\", \"Somalia\", \"Kosovo\", \"Turkey\", \"Indonesia\", \"Jordan\", \"Azerbaijan\", \"Philippines\", \"China\", \"Bhutan\", \"Kyrgyzstan\", \"Serbia\", \"Bosnia and Herzegovina\", \"Montenegro\", \"Dominican Republic\", \"Morocco\", \"Hungary\", \"Pakistan\", \"Lebanon\", \"Portugal\", \"Macedonia\", \"Vietnam\", \"Somaliland Region\", \"Tunisia\", \"Greece\", \"Tajikistan\", \"Mongolia\", \"Laos\", \"Nigeria\", \"Honduras\", \"Iran\", \"Zambia\", \"Nepal\", \"Palestinian Territories\", \"Albania\", \"Bangladesh\", \"Sierra Leone\", \"Iraq\", \"Namibia\", \"Cameroon\", \"Ethiopia\", \"South Africa\", \"Sri Lanka\", \"India\", \"Myanmar\", \"Egypt\", \"Armenia\", \"Kenya\", \"Ukraine\", \"Ghana\", \"Congo (Kinshasa)\", \"Georgia\", \"Congo (Brazzaville)\", \"Senegal\", \"Bulgaria\", \"Mauritania\", \"Zimbabwe\", \"Malawi\", \"Sudan\", \"Gabon\", \"Mali\", \"Haiti\", \"Botswana\", \"Comoros\", \"Ivory Coast\", \"Cambodia\", \"Angola\", \"Niger\", \"South Sudan\", \"Chad\", \"Burkina Faso\", \"Uganda\", \"Yemen\", \"Madagascar\", \"Tanzania\", \"Liberia\", \"Guinea\", \"Rwanda\", \"Benin\", \"Afghanistan\", \"Togo\", \"Syria\", \"Burundi\", \"Norway\", \"Denmark\", \"Iceland\", \"Switzerland\", \"Finland\", \"Netherlands\", \"Canada\", \"New Zealand\", \"Sweden\", \"Australia\", \"Israel\", \"Costa Rica\", \"Austria\", \"United States\", \"Ireland\", \"Germany\", \"Belgium\", \"Luxembourg\", \"United Kingdom\", \"Chile\", \"United Arab Emirates\", \"Brazil\", \"Czech Republic\", \"Argentina\", \"Mexico\", \"Singapore\", \"Malta\", \"Uruguay\", \"Guatemala\", \"Panama\", \"France\", \"Thailand\", \"Taiwan Province of China\", \"Spain\", \"Qatar\", \"Colombia\", \"Saudi Arabia\", \"Trinidad and Tobago\", \"Kuwait\", \"Slovakia\", \"Bahrain\", \"Malaysia\", \"Nicaragua\", \"Ecuador\", \"El Salvador\", \"Poland\", \"Uzbekistan\", \"Italy\", \"Russia\", \"Belize\", \"Japan\", \"Lithuania\", \"Algeria\", \"Latvia\", \"South Korea\", \"Moldova\", \"Romania\", \"Bolivia\", \"Turkmenistan\", \"Kazakhstan\", \"North Cyprus\", \"Slovenia\", \"Peru\", \"Mauritius\", \"Cyprus\", \"Estonia\", \"Belarus\", \"Libya\", \"Turkey\", \"Paraguay\", \"Hong Kong S.A.R., China\", \"Philippines\", \"Serbia\", \"Jordan\", \"Hungary\", \"Jamaica\", \"Croatia\", \"Kosovo\", \"China\", \"Pakistan\", \"Indonesia\", \"Venezuela\", \"Montenegro\", \"Morocco\", \"Azerbaijan\", \"Dominican Republic\", \"Greece\", \"Lebanon\", \"Portugal\", \"Bosnia and Herzegovina\", \"Honduras\", \"Macedonia\", \"Somalia\", \"Vietnam\", \"Nigeria\", \"Tajikistan\", \"Bhutan\", \"Kyrgyzstan\", \"Nepal\", \"Mongolia\", \"South Africa\", \"Tunisia\", \"Palestinian Territories\", \"Egypt\", \"Bulgaria\", \"Sierra Leone\", \"Cameroon\", \"Iran\", \"Albania\", \"Bangladesh\", \"Namibia\", \"Kenya\", \"Mozambique\", \"Myanmar\", \"Senegal\", \"Zambia\", \"Iraq\", \"Gabon\", \"Ethiopia\", \"Sri Lanka\", \"Armenia\", \"India\", \"Mauritania\", \"Congo (Brazzaville)\", \"Georgia\", \"Congo (Kinshasa)\", \"Mali\", \"Ivory Coast\", \"Cambodia\", \"Sudan\", \"Ghana\", \"Ukraine\", \"Uganda\", \"Burkina Faso\", \"Niger\", \"Malawi\", \"Chad\", \"Zimbabwe\", \"Lesotho\", \"Angola\", \"Afghanistan\", \"Botswana\", \"Benin\", \"Madagascar\", \"Haiti\", \"Yemen\", \"South Sudan\", \"Liberia\", \"Guinea\", \"Togo\", \"Rwanda\", \"Syria\", \"Tanzania\", \"Burundi\", \"Central African Republic\"], \"text\": [\"Switzerland\", \"Iceland\", \"Denmark\", \"Norway\", \"Canada\", \"Finland\", \"Netherlands\", \"Sweden\", \"New Zealand\", \"Australia\", \"Israel\", \"Costa Rica\", \"Austria\", \"Mexico\", \"United States\", \"Brazil\", \"Luxembourg\", \"Ireland\", \"Belgium\", \"United Arab Emirates\", \"United Kingdom\", \"Oman\", \"Venezuela\", \"Singapore\", \"Panama\", \"Germany\", \"Chile\", \"Qatar\", \"France\", \"Argentina\", \"Czech Republic\", \"Uruguay\", \"Colombia\", \"Thailand\", \"Saudi Arabia\", \"Spain\", \"Malta\", \"Taiwan\", \"Kuwait\", \"Suriname\", \"Trinidad and Tobago\", \"El Salvador\", \"Guatemala\", \"Uzbekistan\", \"Slovakia\", \"Japan\", \"South Korea\", \"Ecuador\", \"Bahrain\", \"Italy\", \"Bolivia\", \"Moldova\", \"Paraguay\", \"Kazakhstan\", \"Slovenia\", \"Lithuania\", \"Nicaragua\", \"Peru\", \"Belarus\", \"Poland\", \"Malaysia\", \"Croatia\", \"Libya\", \"Russia\", \"Jamaica\", \"North Cyprus\", \"Cyprus\", \"Algeria\", \"Kosovo\", \"Turkmenistan\", \"Mauritius\", \"Hong Kong\", \"Estonia\", \"Indonesia\", \"Vietnam\", \"Turkey\", \"Kyrgyzstan\", \"Nigeria\", \"Bhutan\", \"Azerbaijan\", \"Pakistan\", \"Jordan\", \"Montenegro\", \"China\", \"Zambia\", \"Romania\", \"Serbia\", \"Portugal\", \"Latvia\", \"Philippines\", \"Somaliland region\", \"Morocco\", \"Macedonia\", \"Mozambique\", \"Albania\", \"Bosnia and Herzegovina\", \"Lesotho\", \"Dominican Republic\", \"Laos\", \"Mongolia\", \"Swaziland\", \"Greece\", \"Lebanon\", \"Hungary\", \"Honduras\", \"Tajikistan\", \"Tunisia\", \"Palestinian Territories\", \"Bangladesh\", \"Iran\", \"Ukraine\", \"Iraq\", \"South Africa\", \"Ghana\", \"Zimbabwe\", \"Liberia\", \"India\", \"Sudan\", \"Haiti\", \"Congo (Kinshasa)\", \"Nepal\", \"Ethiopia\", \"Sierra Leone\", \"Mauritania\", \"Kenya\", \"Djibouti\", \"Armenia\", \"Botswana\", \"Myanmar\", \"Georgia\", \"Malawi\", \"Sri Lanka\", \"Cameroon\", \"Bulgaria\", \"Egypt\", \"Yemen\", \"Angola\", \"Mali\", \"Congo (Brazzaville)\", \"Comoros\", \"Uganda\", \"Senegal\", \"Gabon\", \"Niger\", \"Cambodia\", \"Tanzania\", \"Madagascar\", \"Central African Republic\", \"Chad\", \"Guinea\", \"Ivory Coast\", \"Burkina Faso\", \"Afghanistan\", \"Rwanda\", \"Benin\", \"Syria\", \"Burundi\", \"Togo\", \"Denmark\", \"Switzerland\", \"Iceland\", \"Norway\", \"Finland\", \"Canada\", \"Netherlands\", \"New Zealand\", \"Australia\", \"Sweden\", \"Israel\", \"Austria\", \"United States\", \"Costa Rica\", \"Puerto Rico\", \"Germany\", \"Brazil\", \"Belgium\", \"Ireland\", \"Luxembourg\", \"Mexico\", \"Singapore\", \"United Kingdom\", \"Chile\", \"Panama\", \"Argentina\", \"Czech Republic\", \"United Arab Emirates\", \"Uruguay\", \"Malta\", \"Colombia\", \"France\", \"Thailand\", \"Saudi Arabia\", \"Taiwan\", \"Qatar\", \"Spain\", \"Algeria\", \"Guatemala\", \"Suriname\", \"Kuwait\", \"Bahrain\", \"Trinidad and Tobago\", \"Venezuela\", \"Slovakia\", \"El Salvador\", \"Malaysia\", \"Nicaragua\", \"Uzbekistan\", \"Italy\", \"Ecuador\", \"Belize\", \"Japan\", \"Kazakhstan\", \"Moldova\", \"Russia\", \"Poland\", \"South Korea\", \"Bolivia\", \"Lithuania\", \"Belarus\", \"North Cyprus\", \"Slovenia\", \"Peru\", \"Turkmenistan\", \"Mauritius\", \"Libya\", \"Latvia\", \"Cyprus\", \"Paraguay\", \"Romania\", \"Estonia\", \"Jamaica\", \"Croatia\", \"Hong Kong\", \"Somalia\", \"Kosovo\", \"Turkey\", \"Indonesia\", \"Jordan\", \"Azerbaijan\", \"Philippines\", \"China\", \"Bhutan\", \"Kyrgyzstan\", \"Serbia\", \"Bosnia and Herzegovina\", \"Montenegro\", \"Dominican Republic\", \"Morocco\", \"Hungary\", \"Pakistan\", \"Lebanon\", \"Portugal\", \"Macedonia\", \"Vietnam\", \"Somaliland Region\", \"Tunisia\", \"Greece\", \"Tajikistan\", \"Mongolia\", \"Laos\", \"Nigeria\", \"Honduras\", \"Iran\", \"Zambia\", \"Nepal\", \"Palestinian Territories\", \"Albania\", \"Bangladesh\", \"Sierra Leone\", \"Iraq\", \"Namibia\", \"Cameroon\", \"Ethiopia\", \"South Africa\", \"Sri Lanka\", \"India\", \"Myanmar\", \"Egypt\", \"Armenia\", \"Kenya\", \"Ukraine\", \"Ghana\", \"Congo (Kinshasa)\", \"Georgia\", \"Congo (Brazzaville)\", \"Senegal\", \"Bulgaria\", \"Mauritania\", \"Zimbabwe\", \"Malawi\", \"Sudan\", \"Gabon\", \"Mali\", \"Haiti\", \"Botswana\", \"Comoros\", \"Ivory Coast\", \"Cambodia\", \"Angola\", \"Niger\", \"South Sudan\", \"Chad\", \"Burkina Faso\", \"Uganda\", \"Yemen\", \"Madagascar\", \"Tanzania\", \"Liberia\", \"Guinea\", \"Rwanda\", \"Benin\", \"Afghanistan\", \"Togo\", \"Syria\", \"Burundi\", \"Norway\", \"Denmark\", \"Iceland\", \"Switzerland\", \"Finland\", \"Netherlands\", \"Canada\", \"New Zealand\", \"Sweden\", \"Australia\", \"Israel\", \"Costa Rica\", \"Austria\", \"United States\", \"Ireland\", \"Germany\", \"Belgium\", \"Luxembourg\", \"United Kingdom\", \"Chile\", \"United Arab Emirates\", \"Brazil\", \"Czech Republic\", \"Argentina\", \"Mexico\", \"Singapore\", \"Malta\", \"Uruguay\", \"Guatemala\", \"Panama\", \"France\", \"Thailand\", \"Taiwan Province of China\", \"Spain\", \"Qatar\", \"Colombia\", \"Saudi Arabia\", \"Trinidad and Tobago\", \"Kuwait\", \"Slovakia\", \"Bahrain\", \"Malaysia\", \"Nicaragua\", \"Ecuador\", \"El Salvador\", \"Poland\", \"Uzbekistan\", \"Italy\", \"Russia\", \"Belize\", \"Japan\", \"Lithuania\", \"Algeria\", \"Latvia\", \"South Korea\", \"Moldova\", \"Romania\", \"Bolivia\", \"Turkmenistan\", \"Kazakhstan\", \"North Cyprus\", \"Slovenia\", \"Peru\", \"Mauritius\", \"Cyprus\", \"Estonia\", \"Belarus\", \"Libya\", \"Turkey\", \"Paraguay\", \"Hong Kong S.A.R., China\", \"Philippines\", \"Serbia\", \"Jordan\", \"Hungary\", \"Jamaica\", \"Croatia\", \"Kosovo\", \"China\", \"Pakistan\", \"Indonesia\", \"Venezuela\", \"Montenegro\", \"Morocco\", \"Azerbaijan\", \"Dominican Republic\", \"Greece\", \"Lebanon\", \"Portugal\", \"Bosnia and Herzegovina\", \"Honduras\", \"Macedonia\", \"Somalia\", \"Vietnam\", \"Nigeria\", \"Tajikistan\", \"Bhutan\", \"Kyrgyzstan\", \"Nepal\", \"Mongolia\", \"South Africa\", \"Tunisia\", \"Palestinian Territories\", \"Egypt\", \"Bulgaria\", \"Sierra Leone\", \"Cameroon\", \"Iran\", \"Albania\", \"Bangladesh\", \"Namibia\", \"Kenya\", \"Mozambique\", \"Myanmar\", \"Senegal\", \"Zambia\", \"Iraq\", \"Gabon\", \"Ethiopia\", \"Sri Lanka\", \"Armenia\", \"India\", \"Mauritania\", \"Congo (Brazzaville)\", \"Georgia\", \"Congo (Kinshasa)\", \"Mali\", \"Ivory Coast\", \"Cambodia\", \"Sudan\", \"Ghana\", \"Ukraine\", \"Uganda\", \"Burkina Faso\", \"Niger\", \"Malawi\", \"Chad\", \"Zimbabwe\", \"Lesotho\", \"Angola\", \"Afghanistan\", \"Botswana\", \"Benin\", \"Madagascar\", \"Haiti\", \"Yemen\", \"South Sudan\", \"Liberia\", \"Guinea\", \"Togo\", \"Rwanda\", \"Syria\", \"Tanzania\", \"Burundi\", \"Central African Republic\"], \"type\": \"choropleth\", \"z\": [1, 2, 3, 4, 5, 6, 7, 8, 9, 10, 11, 12, 13, 14, 15, 16, 17, 18, 19, 20, 21, 22, 23, 24, 25, 26, 27, 28, 29, 30, 31, 32, 33, 34, 35, 36, 37, 38, 39, 40, 41, 42, 43, 44, 45, 46, 47, 48, 49, 50, 51, 52, 53, 54, 55, 56, 57, 58, 59, 60, 61, 62, 63, 64, 65, 66, 67, 68, 69, 70, 71, 72, 73, 74, 75, 76, 77, 78, 79, 80, 81, 82, 82, 84, 85, 86, 87, 88, 89, 90, 91, 92, 93, 94, 95, 96, 97, 98, 99, 100, 101, 102, 103, 104, 105, 106, 107, 108, 109, 110, 111, 112, 113, 114, 115, 116, 117, 118, 119, 120, 121, 122, 123, 124, 125, 126, 127, 128, 129, 130, 131, 132, 133, 134, 135, 136, 137, 138, 139, 140, 141, 142, 143, 144, 145, 146, 147, 148, 149, 150, 151, 152, 153, 154, 155, 156, 157, 158, 1, 2, 3, 4, 5, 6, 7, 8, 9, 10, 11, 12, 13, 14, 15, 16, 17, 18, 19, 20, 21, 22, 23, 24, 25, 26, 27, 28, 29, 30, 31, 32, 33, 34, 34, 36, 37, 38, 39, 40, 41, 42, 43, 44, 45, 46, 47, 48, 49, 50, 51, 52, 53, 54, 55, 56, 57, 57, 59, 60, 61, 62, 63, 64, 65, 66, 67, 68, 69, 70, 71, 72, 73, 74, 75, 76, 77, 78, 79, 80, 81, 82, 83, 84, 85, 86, 87, 88, 89, 90, 91, 92, 93, 94, 95, 96, 97, 98, 99, 100, 101, 102, 103, 104, 105, 106, 107, 108, 109, 110, 111, 112, 113, 114, 115, 116, 117, 118, 119, 120, 121, 122, 123, 124, 125, 126, 127, 128, 129, 130, 131, 132, 133, 134, 135, 136, 137, 138, 139, 140, 141, 142, 143, 144, 145, 145, 147, 148, 149, 150, 151, 152, 153, 154, 155, 156, 157, 1, 2, 3, 4, 5, 6, 7, 8, 9, 10, 11, 12, 13, 14, 15, 16, 17, 18, 19, 20, 21, 22, 23, 24, 25, 26, 27, 28, 29, 30, 31, 32, 33, 34, 35, 36, 37, 38, 39, 40, 41, 42, 43, 44, 45, 46, 47, 48, 49, 50, 51, 52, 53, 54, 55, 56, 57, 58, 59, 60, 61, 62, 63, 64, 65, 66, 67, 68, 69, 70, 71, 72, 73, 74, 75, 76, 77, 78, 79, 80, 81, 82, 83, 84, 85, 86, 87, 88, 89, 90, 91, 92, 93, 94, 95, 96, 97, 98, 99, 100, 101, 102, 103, 104, 105, 106, 107, 108, 109, 110, 111, 112, 113, 114, 115, 116, 117, 118, 119, 120, 121, 122, 123, 124, 125, 126, 127, 128, 129, 130, 131, 132, 133, 134, 135, 136, 137, 138, 139, 140, 141, 142, 143, 144, 145, 146, 147, 148, 149, 150, 151, 152, 153, 154, 155]}],\n",
       "                        {\"template\": {\"data\": {\"bar\": [{\"error_x\": {\"color\": \"#2a3f5f\"}, \"error_y\": {\"color\": \"#2a3f5f\"}, \"marker\": {\"line\": {\"color\": \"#E5ECF6\", \"width\": 0.5}}, \"type\": \"bar\"}], \"barpolar\": [{\"marker\": {\"line\": {\"color\": \"#E5ECF6\", \"width\": 0.5}}, \"type\": \"barpolar\"}], \"carpet\": [{\"aaxis\": {\"endlinecolor\": \"#2a3f5f\", \"gridcolor\": \"white\", \"linecolor\": \"white\", \"minorgridcolor\": \"white\", \"startlinecolor\": \"#2a3f5f\"}, \"baxis\": {\"endlinecolor\": \"#2a3f5f\", \"gridcolor\": \"white\", \"linecolor\": \"white\", \"minorgridcolor\": \"white\", \"startlinecolor\": \"#2a3f5f\"}, \"type\": \"carpet\"}], \"choropleth\": [{\"colorbar\": {\"outlinewidth\": 0, \"ticks\": \"\"}, \"type\": \"choropleth\"}], \"contour\": [{\"colorbar\": {\"outlinewidth\": 0, \"ticks\": \"\"}, \"colorscale\": [[0.0, \"#0d0887\"], [0.1111111111111111, \"#46039f\"], [0.2222222222222222, \"#7201a8\"], [0.3333333333333333, \"#9c179e\"], [0.4444444444444444, \"#bd3786\"], [0.5555555555555556, \"#d8576b\"], [0.6666666666666666, \"#ed7953\"], [0.7777777777777778, \"#fb9f3a\"], [0.8888888888888888, \"#fdca26\"], [1.0, \"#f0f921\"]], \"type\": \"contour\"}], \"contourcarpet\": [{\"colorbar\": {\"outlinewidth\": 0, \"ticks\": \"\"}, \"type\": \"contourcarpet\"}], \"heatmap\": [{\"colorbar\": {\"outlinewidth\": 0, \"ticks\": \"\"}, \"colorscale\": [[0.0, \"#0d0887\"], [0.1111111111111111, \"#46039f\"], [0.2222222222222222, \"#7201a8\"], [0.3333333333333333, \"#9c179e\"], [0.4444444444444444, \"#bd3786\"], [0.5555555555555556, \"#d8576b\"], [0.6666666666666666, \"#ed7953\"], [0.7777777777777778, \"#fb9f3a\"], [0.8888888888888888, \"#fdca26\"], [1.0, \"#f0f921\"]], \"type\": \"heatmap\"}], \"heatmapgl\": [{\"colorbar\": {\"outlinewidth\": 0, \"ticks\": \"\"}, \"colorscale\": [[0.0, \"#0d0887\"], [0.1111111111111111, \"#46039f\"], [0.2222222222222222, \"#7201a8\"], [0.3333333333333333, \"#9c179e\"], [0.4444444444444444, \"#bd3786\"], [0.5555555555555556, \"#d8576b\"], [0.6666666666666666, \"#ed7953\"], [0.7777777777777778, \"#fb9f3a\"], [0.8888888888888888, \"#fdca26\"], [1.0, \"#f0f921\"]], \"type\": \"heatmapgl\"}], \"histogram\": [{\"marker\": {\"colorbar\": {\"outlinewidth\": 0, \"ticks\": \"\"}}, \"type\": \"histogram\"}], \"histogram2d\": [{\"colorbar\": {\"outlinewidth\": 0, \"ticks\": \"\"}, \"colorscale\": [[0.0, \"#0d0887\"], [0.1111111111111111, \"#46039f\"], [0.2222222222222222, \"#7201a8\"], [0.3333333333333333, \"#9c179e\"], [0.4444444444444444, \"#bd3786\"], [0.5555555555555556, \"#d8576b\"], [0.6666666666666666, \"#ed7953\"], [0.7777777777777778, \"#fb9f3a\"], [0.8888888888888888, \"#fdca26\"], [1.0, \"#f0f921\"]], \"type\": \"histogram2d\"}], \"histogram2dcontour\": [{\"colorbar\": {\"outlinewidth\": 0, \"ticks\": \"\"}, \"colorscale\": [[0.0, \"#0d0887\"], [0.1111111111111111, \"#46039f\"], [0.2222222222222222, \"#7201a8\"], [0.3333333333333333, \"#9c179e\"], [0.4444444444444444, \"#bd3786\"], [0.5555555555555556, \"#d8576b\"], [0.6666666666666666, \"#ed7953\"], [0.7777777777777778, \"#fb9f3a\"], [0.8888888888888888, \"#fdca26\"], [1.0, \"#f0f921\"]], \"type\": \"histogram2dcontour\"}], \"mesh3d\": [{\"colorbar\": {\"outlinewidth\": 0, \"ticks\": \"\"}, \"type\": \"mesh3d\"}], \"parcoords\": [{\"line\": {\"colorbar\": {\"outlinewidth\": 0, \"ticks\": \"\"}}, \"type\": \"parcoords\"}], \"scatter\": [{\"marker\": {\"colorbar\": {\"outlinewidth\": 0, \"ticks\": \"\"}}, \"type\": \"scatter\"}], \"scatter3d\": [{\"line\": {\"colorbar\": {\"outlinewidth\": 0, \"ticks\": \"\"}}, \"marker\": {\"colorbar\": {\"outlinewidth\": 0, \"ticks\": \"\"}}, \"type\": \"scatter3d\"}], \"scattercarpet\": [{\"marker\": {\"colorbar\": {\"outlinewidth\": 0, \"ticks\": \"\"}}, \"type\": \"scattercarpet\"}], \"scattergeo\": [{\"marker\": {\"colorbar\": {\"outlinewidth\": 0, \"ticks\": \"\"}}, \"type\": \"scattergeo\"}], \"scattergl\": [{\"marker\": {\"colorbar\": {\"outlinewidth\": 0, \"ticks\": \"\"}}, \"type\": \"scattergl\"}], \"scattermapbox\": [{\"marker\": {\"colorbar\": {\"outlinewidth\": 0, \"ticks\": \"\"}}, \"type\": \"scattermapbox\"}], \"scatterpolar\": [{\"marker\": {\"colorbar\": {\"outlinewidth\": 0, \"ticks\": \"\"}}, \"type\": \"scatterpolar\"}], \"scatterpolargl\": [{\"marker\": {\"colorbar\": {\"outlinewidth\": 0, \"ticks\": \"\"}}, \"type\": \"scatterpolargl\"}], \"scatterternary\": [{\"marker\": {\"colorbar\": {\"outlinewidth\": 0, \"ticks\": \"\"}}, \"type\": \"scatterternary\"}], \"surface\": [{\"colorbar\": {\"outlinewidth\": 0, \"ticks\": \"\"}, \"colorscale\": [[0.0, \"#0d0887\"], [0.1111111111111111, \"#46039f\"], [0.2222222222222222, \"#7201a8\"], [0.3333333333333333, \"#9c179e\"], [0.4444444444444444, \"#bd3786\"], [0.5555555555555556, \"#d8576b\"], [0.6666666666666666, \"#ed7953\"], [0.7777777777777778, \"#fb9f3a\"], [0.8888888888888888, \"#fdca26\"], [1.0, \"#f0f921\"]], \"type\": \"surface\"}], \"table\": [{\"cells\": {\"fill\": {\"color\": \"#EBF0F8\"}, \"line\": {\"color\": \"white\"}}, \"header\": {\"fill\": {\"color\": \"#C8D4E3\"}, \"line\": {\"color\": \"white\"}}, \"type\": \"table\"}]}, \"layout\": {\"annotationdefaults\": {\"arrowcolor\": \"#2a3f5f\", \"arrowhead\": 0, \"arrowwidth\": 1}, \"colorscale\": {\"diverging\": [[0, \"#8e0152\"], [0.1, \"#c51b7d\"], [0.2, \"#de77ae\"], [0.3, \"#f1b6da\"], [0.4, \"#fde0ef\"], [0.5, \"#f7f7f7\"], [0.6, \"#e6f5d0\"], [0.7, \"#b8e186\"], [0.8, \"#7fbc41\"], [0.9, \"#4d9221\"], [1, \"#276419\"]], \"sequential\": [[0.0, \"#0d0887\"], [0.1111111111111111, \"#46039f\"], [0.2222222222222222, \"#7201a8\"], [0.3333333333333333, \"#9c179e\"], [0.4444444444444444, \"#bd3786\"], [0.5555555555555556, \"#d8576b\"], [0.6666666666666666, \"#ed7953\"], [0.7777777777777778, \"#fb9f3a\"], [0.8888888888888888, \"#fdca26\"], [1.0, \"#f0f921\"]], \"sequentialminus\": [[0.0, \"#0d0887\"], [0.1111111111111111, \"#46039f\"], [0.2222222222222222, \"#7201a8\"], [0.3333333333333333, \"#9c179e\"], [0.4444444444444444, \"#bd3786\"], [0.5555555555555556, \"#d8576b\"], [0.6666666666666666, \"#ed7953\"], [0.7777777777777778, \"#fb9f3a\"], [0.8888888888888888, \"#fdca26\"], [1.0, \"#f0f921\"]]}, \"colorway\": [\"#636efa\", \"#EF553B\", \"#00cc96\", \"#ab63fa\", \"#FFA15A\", \"#19d3f3\", \"#FF6692\", \"#B6E880\", \"#FF97FF\", \"#FECB52\"], \"font\": {\"color\": \"#2a3f5f\"}, \"geo\": {\"bgcolor\": \"white\", \"lakecolor\": \"white\", \"landcolor\": \"#E5ECF6\", \"showlakes\": true, \"showland\": true, \"subunitcolor\": \"white\"}, \"hoverlabel\": {\"align\": \"left\"}, \"hovermode\": \"closest\", \"mapbox\": {\"style\": \"light\"}, \"paper_bgcolor\": \"white\", \"plot_bgcolor\": \"#E5ECF6\", \"polar\": {\"angularaxis\": {\"gridcolor\": \"white\", \"linecolor\": \"white\", \"ticks\": \"\"}, \"bgcolor\": \"#E5ECF6\", \"radialaxis\": {\"gridcolor\": \"white\", \"linecolor\": \"white\", \"ticks\": \"\"}}, \"scene\": {\"xaxis\": {\"backgroundcolor\": \"#E5ECF6\", \"gridcolor\": \"white\", \"gridwidth\": 2, \"linecolor\": \"white\", \"showbackground\": true, \"ticks\": \"\", \"zerolinecolor\": \"white\"}, \"yaxis\": {\"backgroundcolor\": \"#E5ECF6\", \"gridcolor\": \"white\", \"gridwidth\": 2, \"linecolor\": \"white\", \"showbackground\": true, \"ticks\": \"\", \"zerolinecolor\": \"white\"}, \"zaxis\": {\"backgroundcolor\": \"#E5ECF6\", \"gridcolor\": \"white\", \"gridwidth\": 2, \"linecolor\": \"white\", \"showbackground\": true, \"ticks\": \"\", \"zerolinecolor\": \"white\"}}, \"shapedefaults\": {\"line\": {\"color\": \"#2a3f5f\"}}, \"ternary\": {\"aaxis\": {\"gridcolor\": \"white\", \"linecolor\": \"white\", \"ticks\": \"\"}, \"baxis\": {\"gridcolor\": \"white\", \"linecolor\": \"white\", \"ticks\": \"\"}, \"bgcolor\": \"#E5ECF6\", \"caxis\": {\"gridcolor\": \"white\", \"linecolor\": \"white\", \"ticks\": \"\"}}, \"title\": {\"x\": 0.05}, \"xaxis\": {\"automargin\": true, \"gridcolor\": \"white\", \"linecolor\": \"white\", \"ticks\": \"\", \"zerolinecolor\": \"white\", \"zerolinewidth\": 2}, \"yaxis\": {\"automargin\": true, \"gridcolor\": \"white\", \"linecolor\": \"white\", \"ticks\": \"\", \"zerolinecolor\": \"white\", \"zerolinewidth\": 2}}}, \"title\": {\"text\": \"Happiness Rank Across the World\"}},\n",
       "                        {\"responsive\": true}\n",
       "                    ).then(function(){\n",
       "                            \n",
       "var gd = document.getElementById('0c4e9800-5563-45ba-b0b1-9e340aef67a9');\n",
       "var x = new MutationObserver(function (mutations, observer) {{\n",
       "        var display = window.getComputedStyle(gd).display;\n",
       "        if (!display || display === 'none') {{\n",
       "            console.log([gd, 'removed!']);\n",
       "            Plotly.purge(gd);\n",
       "            observer.disconnect();\n",
       "        }}\n",
       "}});\n",
       "\n",
       "// Listen for the removal of the full notebook cells\n",
       "var notebookContainer = gd.closest('#notebook-container');\n",
       "if (notebookContainer) {{\n",
       "    x.observe(notebookContainer, {childList: true});\n",
       "}}\n",
       "\n",
       "// Listen for the clearing of the current output cell\n",
       "var outputEl = gd.closest('.output');\n",
       "if (outputEl) {{\n",
       "    x.observe(outputEl, {childList: true});\n",
       "}}\n",
       "\n",
       "                        })\n",
       "                };\n",
       "                });\n",
       "            </script>\n",
       "        </div>"
      ]
     },
     "metadata": {},
     "output_type": "display_data"
    }
   ],
   "source": [
    "data = dict(type         = 'choropleth',\n",
    "            locations    = happiness['country'],\n",
    "            locationmode = 'country names',\n",
    "            z            = happiness['happiness_rank'],\n",
    "            text         = happiness['country'],\n",
    "            colorscale   = 'Viridis')\n",
    "\n",
    "layout = dict(title = \"Happiness Rank Across the World\")\n",
    "fig    = go.Figure(data = [data], layout = layout)\n",
    "iplot(fig)"
   ]
  },
  {
   "cell_type": "code",
   "execution_count": 8,
   "metadata": {},
   "outputs": [
    {
     "data": {
      "application/vnd.plotly.v1+json": {
       "config": {
        "linkText": "Export to plot.ly",
        "plotlyServerURL": "https://plot.ly",
        "showLink": false
       },
       "data": [
        {
         "mode": "markers",
         "type": "scatter",
         "x": [
          7.587000000000001,
          7.561,
          7.527,
          7.522,
          7.4270000000000005,
          7.406000000000001,
          7.377999999999999,
          7.364,
          7.2860000000000005,
          7.284,
          7.278,
          7.226,
          7.2,
          7.187,
          7.119,
          6.983,
          6.946000000000001,
          6.94,
          6.937,
          6.901,
          6.867000000000001,
          6.853,
          6.81,
          6.797999999999999,
          6.7860000000000005,
          6.75,
          6.67,
          6.611000000000001,
          6.575,
          6.574,
          6.505,
          6.485,
          6.477,
          6.455,
          6.4110000000000005,
          6.329,
          6.3020000000000005,
          6.297999999999999,
          6.295,
          6.269,
          6.167999999999999,
          6.13,
          6.122999999999999,
          6.002999999999999,
          5.995,
          5.987,
          5.984,
          5.975,
          5.96,
          5.9479999999999995,
          5.89,
          5.888999999999999,
          5.877999999999999,
          5.855,
          5.848,
          5.832999999999999,
          5.827999999999999,
          5.824,
          5.813,
          5.791,
          5.77,
          5.7589999999999995,
          5.754,
          5.716,
          5.709,
          5.695,
          5.689,
          5.605,
          5.5889999999999995,
          5.547999999999999,
          5.477,
          5.474,
          5.428999999999999,
          5.399,
          5.36,
          5.332000000000001,
          5.2860000000000005,
          5.268,
          5.252999999999999,
          5.212000000000001,
          5.194,
          5.192,
          5.192,
          5.14,
          5.129,
          5.124,
          5.122999999999999,
          5.102,
          5.098,
          5.073,
          5.0569999999999995,
          5.013,
          5.007,
          4.971,
          4.959,
          4.949,
          4.898,
          4.885,
          4.876,
          4.874,
          4.867,
          4.857,
          4.8389999999999995,
          4.8,
          4.788,
          4.7860000000000005,
          4.739,
          4.715,
          4.694,
          4.686,
          4.681,
          4.677,
          4.6419999999999995,
          4.633,
          4.61,
          4.571000000000001,
          4.565,
          4.55,
          4.518,
          4.5169999999999995,
          4.513999999999999,
          4.512,
          4.507,
          4.436,
          4.419,
          4.369,
          4.35,
          4.332,
          4.3069999999999995,
          4.297,
          4.292,
          4.271,
          4.252,
          4.218,
          4.194,
          4.077,
          4.033,
          3.995,
          3.989,
          3.9560000000000004,
          3.931,
          3.904,
          3.8960000000000004,
          3.845,
          3.819,
          3.781,
          3.681,
          3.678,
          3.667,
          3.656,
          3.655,
          3.5869999999999997,
          3.575,
          3.465,
          3.34,
          3.0060000000000002,
          2.905,
          2.839,
          7.526,
          7.5089999999999995,
          7.501,
          7.497999999999999,
          7.412999999999999,
          7.404,
          7.3389999999999995,
          7.334,
          7.313,
          7.291,
          7.267,
          7.119,
          7.104,
          7.087000000000001,
          7.039,
          6.994,
          6.952000000000001,
          6.928999999999999,
          6.907,
          6.871,
          6.778,
          6.739,
          6.725,
          6.705,
          6.7010000000000005,
          6.65,
          6.596,
          6.5729999999999995,
          6.545,
          6.4879999999999995,
          6.481,
          6.478,
          6.474,
          6.379,
          6.379,
          6.375,
          6.361000000000001,
          6.355,
          6.324,
          6.269,
          6.239,
          6.218,
          6.167999999999999,
          6.084,
          6.077999999999999,
          6.068,
          6.005,
          5.992000000000001,
          5.987,
          5.977,
          5.976,
          5.956,
          5.921,
          5.919,
          5.897,
          5.856,
          5.835,
          5.835,
          5.822,
          5.813,
          5.8020000000000005,
          5.771,
          5.768,
          5.742999999999999,
          5.6579999999999995,
          5.648,
          5.615,
          5.56,
          5.546,
          5.537999999999999,
          5.528,
          5.517,
          5.51,
          5.4879999999999995,
          5.457999999999999,
          5.44,
          5.401,
          5.388999999999999,
          5.314,
          5.303,
          5.291,
          5.279,
          5.245,
          5.196000000000001,
          5.185,
          5.1770000000000005,
          5.162999999999999,
          5.1610000000000005,
          5.155,
          5.151,
          5.145,
          5.132000000000001,
          5.129,
          5.122999999999999,
          5.121,
          5.061,
          5.0569999999999995,
          5.045,
          5.033,
          4.996,
          4.907,
          4.876,
          4.875,
          4.871,
          4.813,
          4.795,
          4.793,
          4.754,
          4.655,
          4.643,
          4.635,
          4.575,
          4.574,
          4.513,
          4.508,
          4.459,
          4.415,
          4.404,
          4.395,
          4.362,
          4.36,
          4.356,
          4.324,
          4.276,
          4.272,
          4.252,
          4.236000000000001,
          4.218999999999999,
          4.217,
          4.2010000000000005,
          4.1930000000000005,
          4.156000000000001,
          4.138999999999999,
          4.121,
          4.073,
          4.0280000000000005,
          3.9739999999999998,
          3.9560000000000004,
          3.9160000000000004,
          3.907,
          3.866,
          3.8560000000000003,
          3.832,
          3.763,
          3.739,
          3.739,
          3.7239999999999998,
          3.695,
          3.6660000000000004,
          3.622,
          3.6069999999999998,
          3.515,
          3.484,
          3.36,
          3.303,
          3.069,
          2.905,
          7.537000179290769,
          7.52199983596802,
          7.50400018692017,
          7.49399995803833,
          7.468999862670901,
          7.3769998550415,
          7.31599998474121,
          7.31400012969971,
          7.28399991989136,
          7.28399991989136,
          7.212999820709231,
          7.0789999961853,
          7.00600004196167,
          6.993000030517581,
          6.9770002365112305,
          6.9510002136230495,
          6.89099979400635,
          6.86299991607666,
          6.71400022506714,
          6.65199995040894,
          6.6479997634887695,
          6.6350002288818395,
          6.60900020599365,
          6.59899997711182,
          6.57800006866455,
          6.57200002670288,
          6.52699995040894,
          6.4539999961853,
          6.4539999961853,
          6.4520001411438,
          6.44199991226196,
          6.4239997863769505,
          6.42199993133545,
          6.40299987792969,
          6.375,
          6.35699987411499,
          6.343999862670901,
          6.1680002212524405,
          6.10500001907349,
          6.09800004959106,
          6.08699989318848,
          6.08400011062622,
          6.07100009918213,
          6.00799989700317,
          6.002999782562259,
          5.97300004959106,
          5.97100019454956,
          5.96400022506714,
          5.962999820709231,
          5.955999851226809,
          5.92000007629395,
          5.90199995040894,
          5.872000217437741,
          5.849999904632571,
          5.837999820709231,
          5.837999820709231,
          5.824999809265139,
          5.82299995422363,
          5.82200002670288,
          5.8189997673034695,
          5.80999994277954,
          5.75799989700317,
          5.71500015258789,
          5.62900018692017,
          5.62099981307983,
          5.61100006103516,
          5.5689997673034695,
          5.525000095367429,
          5.5,
          5.493000030517581,
          5.47200012207031,
          5.42999982833862,
          5.39499998092651,
          5.33599996566772,
          5.32399988174438,
          5.31099987030029,
          5.2930002212524405,
          5.27899980545044,
          5.2729997634887695,
          5.26900005340576,
          5.26200008392334,
          5.25,
          5.23699998855591,
          5.2350001335144,
          5.234000205993651,
          5.230000019073491,
          5.2270002365112305,
          5.22499990463257,
          5.19500017166138,
          5.18200016021729,
          5.1810002326965305,
          5.175000190734861,
          5.151000022888179,
          5.07399988174438,
          5.07399988174438,
          5.04099988937378,
          5.01100015640259,
          5.0040001869201705,
          4.961999893188481,
          4.95499992370605,
          4.8289999961853,
          4.80499982833862,
          4.77500009536743,
          4.7350001335144,
          4.71400022506714,
          4.70900011062622,
          4.69500017166138,
          4.69199991226196,
          4.64400005340576,
          4.60799980163574,
          4.57399988174438,
          4.55299997329712,
          4.550000190734861,
          4.54500007629395,
          4.53499984741211,
          4.513999938964839,
          4.49700021743774,
          4.46500015258789,
          4.46000003814697,
          4.44000005722046,
          4.37599992752075,
          4.31500005722046,
          4.29199981689453,
          4.29099988937378,
          4.28599977493286,
          4.2800002098083505,
          4.19000005722046,
          4.17999982833862,
          4.1680002212524405,
          4.138999938964839,
          4.11999988555908,
          4.09600019454956,
          4.08099985122681,
          4.03200006484985,
          4.02799987792969,
          3.97000002861023,
          3.9360001087188703,
          3.875,
          3.80800008773804,
          3.79500007629395,
          3.7939999103546103,
          3.7660000324249303,
          3.65700006484985,
          3.64400005340576,
          3.6029999256133998,
          3.59299993515015,
          3.5910000801086404,
          3.5329999923706095,
          3.50699996948242,
          3.4949998855590803,
          3.47099995613098,
          3.46199989318848,
          3.34899997711182,
          2.90499997138977,
          2.69300007820129
         ],
         "y": [
          1,
          2,
          3,
          4,
          5,
          6,
          7,
          8,
          9,
          10,
          11,
          12,
          13,
          14,
          15,
          16,
          17,
          18,
          19,
          20,
          21,
          22,
          23,
          24,
          25,
          26,
          27,
          28,
          29,
          30,
          31,
          32,
          33,
          34,
          35,
          36,
          37,
          38,
          39,
          40,
          41,
          42,
          43,
          44,
          45,
          46,
          47,
          48,
          49,
          50,
          51,
          52,
          53,
          54,
          55,
          56,
          57,
          58,
          59,
          60,
          61,
          62,
          63,
          64,
          65,
          66,
          67,
          68,
          69,
          70,
          71,
          72,
          73,
          74,
          75,
          76,
          77,
          78,
          79,
          80,
          81,
          82,
          82,
          84,
          85,
          86,
          87,
          88,
          89,
          90,
          91,
          92,
          93,
          94,
          95,
          96,
          97,
          98,
          99,
          100,
          101,
          102,
          103,
          104,
          105,
          106,
          107,
          108,
          109,
          110,
          111,
          112,
          113,
          114,
          115,
          116,
          117,
          118,
          119,
          120,
          121,
          122,
          123,
          124,
          125,
          126,
          127,
          128,
          129,
          130,
          131,
          132,
          133,
          134,
          135,
          136,
          137,
          138,
          139,
          140,
          141,
          142,
          143,
          144,
          145,
          146,
          147,
          148,
          149,
          150,
          151,
          152,
          153,
          154,
          155,
          156,
          157,
          158,
          1,
          2,
          3,
          4,
          5,
          6,
          7,
          8,
          9,
          10,
          11,
          12,
          13,
          14,
          15,
          16,
          17,
          18,
          19,
          20,
          21,
          22,
          23,
          24,
          25,
          26,
          27,
          28,
          29,
          30,
          31,
          32,
          33,
          34,
          34,
          36,
          37,
          38,
          39,
          40,
          41,
          42,
          43,
          44,
          45,
          46,
          47,
          48,
          49,
          50,
          51,
          52,
          53,
          54,
          55,
          56,
          57,
          57,
          59,
          60,
          61,
          62,
          63,
          64,
          65,
          66,
          67,
          68,
          69,
          70,
          71,
          72,
          73,
          74,
          75,
          76,
          77,
          78,
          79,
          80,
          81,
          82,
          83,
          84,
          85,
          86,
          87,
          88,
          89,
          90,
          91,
          92,
          93,
          94,
          95,
          96,
          97,
          98,
          99,
          100,
          101,
          102,
          103,
          104,
          105,
          106,
          107,
          108,
          109,
          110,
          111,
          112,
          113,
          114,
          115,
          116,
          117,
          118,
          119,
          120,
          121,
          122,
          123,
          124,
          125,
          126,
          127,
          128,
          129,
          130,
          131,
          132,
          133,
          134,
          135,
          136,
          137,
          138,
          139,
          140,
          141,
          142,
          143,
          144,
          145,
          145,
          147,
          148,
          149,
          150,
          151,
          152,
          153,
          154,
          155,
          156,
          157,
          1,
          2,
          3,
          4,
          5,
          6,
          7,
          8,
          9,
          10,
          11,
          12,
          13,
          14,
          15,
          16,
          17,
          18,
          19,
          20,
          21,
          22,
          23,
          24,
          25,
          26,
          27,
          28,
          29,
          30,
          31,
          32,
          33,
          34,
          35,
          36,
          37,
          38,
          39,
          40,
          41,
          42,
          43,
          44,
          45,
          46,
          47,
          48,
          49,
          50,
          51,
          52,
          53,
          54,
          55,
          56,
          57,
          58,
          59,
          60,
          61,
          62,
          63,
          64,
          65,
          66,
          67,
          68,
          69,
          70,
          71,
          72,
          73,
          74,
          75,
          76,
          77,
          78,
          79,
          80,
          81,
          82,
          83,
          84,
          85,
          86,
          87,
          88,
          89,
          90,
          91,
          92,
          93,
          94,
          95,
          96,
          97,
          98,
          99,
          100,
          101,
          102,
          103,
          104,
          105,
          106,
          107,
          108,
          109,
          110,
          111,
          112,
          113,
          114,
          115,
          116,
          117,
          118,
          119,
          120,
          121,
          122,
          123,
          124,
          125,
          126,
          127,
          128,
          129,
          130,
          131,
          132,
          133,
          134,
          135,
          136,
          137,
          138,
          139,
          140,
          141,
          142,
          143,
          144,
          145,
          146,
          147,
          148,
          149,
          150,
          151,
          152,
          153,
          154,
          155
         ]
        }
       ],
       "layout": {
        "template": {
         "data": {
          "bar": [
           {
            "error_x": {
             "color": "#2a3f5f"
            },
            "error_y": {
             "color": "#2a3f5f"
            },
            "marker": {
             "line": {
              "color": "#E5ECF6",
              "width": 0.5
             }
            },
            "type": "bar"
           }
          ],
          "barpolar": [
           {
            "marker": {
             "line": {
              "color": "#E5ECF6",
              "width": 0.5
             }
            },
            "type": "barpolar"
           }
          ],
          "carpet": [
           {
            "aaxis": {
             "endlinecolor": "#2a3f5f",
             "gridcolor": "white",
             "linecolor": "white",
             "minorgridcolor": "white",
             "startlinecolor": "#2a3f5f"
            },
            "baxis": {
             "endlinecolor": "#2a3f5f",
             "gridcolor": "white",
             "linecolor": "white",
             "minorgridcolor": "white",
             "startlinecolor": "#2a3f5f"
            },
            "type": "carpet"
           }
          ],
          "choropleth": [
           {
            "colorbar": {
             "outlinewidth": 0,
             "ticks": ""
            },
            "type": "choropleth"
           }
          ],
          "contour": [
           {
            "colorbar": {
             "outlinewidth": 0,
             "ticks": ""
            },
            "colorscale": [
             [
              0,
              "#0d0887"
             ],
             [
              0.1111111111111111,
              "#46039f"
             ],
             [
              0.2222222222222222,
              "#7201a8"
             ],
             [
              0.3333333333333333,
              "#9c179e"
             ],
             [
              0.4444444444444444,
              "#bd3786"
             ],
             [
              0.5555555555555556,
              "#d8576b"
             ],
             [
              0.6666666666666666,
              "#ed7953"
             ],
             [
              0.7777777777777778,
              "#fb9f3a"
             ],
             [
              0.8888888888888888,
              "#fdca26"
             ],
             [
              1,
              "#f0f921"
             ]
            ],
            "type": "contour"
           }
          ],
          "contourcarpet": [
           {
            "colorbar": {
             "outlinewidth": 0,
             "ticks": ""
            },
            "type": "contourcarpet"
           }
          ],
          "heatmap": [
           {
            "colorbar": {
             "outlinewidth": 0,
             "ticks": ""
            },
            "colorscale": [
             [
              0,
              "#0d0887"
             ],
             [
              0.1111111111111111,
              "#46039f"
             ],
             [
              0.2222222222222222,
              "#7201a8"
             ],
             [
              0.3333333333333333,
              "#9c179e"
             ],
             [
              0.4444444444444444,
              "#bd3786"
             ],
             [
              0.5555555555555556,
              "#d8576b"
             ],
             [
              0.6666666666666666,
              "#ed7953"
             ],
             [
              0.7777777777777778,
              "#fb9f3a"
             ],
             [
              0.8888888888888888,
              "#fdca26"
             ],
             [
              1,
              "#f0f921"
             ]
            ],
            "type": "heatmap"
           }
          ],
          "heatmapgl": [
           {
            "colorbar": {
             "outlinewidth": 0,
             "ticks": ""
            },
            "colorscale": [
             [
              0,
              "#0d0887"
             ],
             [
              0.1111111111111111,
              "#46039f"
             ],
             [
              0.2222222222222222,
              "#7201a8"
             ],
             [
              0.3333333333333333,
              "#9c179e"
             ],
             [
              0.4444444444444444,
              "#bd3786"
             ],
             [
              0.5555555555555556,
              "#d8576b"
             ],
             [
              0.6666666666666666,
              "#ed7953"
             ],
             [
              0.7777777777777778,
              "#fb9f3a"
             ],
             [
              0.8888888888888888,
              "#fdca26"
             ],
             [
              1,
              "#f0f921"
             ]
            ],
            "type": "heatmapgl"
           }
          ],
          "histogram": [
           {
            "marker": {
             "colorbar": {
              "outlinewidth": 0,
              "ticks": ""
             }
            },
            "type": "histogram"
           }
          ],
          "histogram2d": [
           {
            "colorbar": {
             "outlinewidth": 0,
             "ticks": ""
            },
            "colorscale": [
             [
              0,
              "#0d0887"
             ],
             [
              0.1111111111111111,
              "#46039f"
             ],
             [
              0.2222222222222222,
              "#7201a8"
             ],
             [
              0.3333333333333333,
              "#9c179e"
             ],
             [
              0.4444444444444444,
              "#bd3786"
             ],
             [
              0.5555555555555556,
              "#d8576b"
             ],
             [
              0.6666666666666666,
              "#ed7953"
             ],
             [
              0.7777777777777778,
              "#fb9f3a"
             ],
             [
              0.8888888888888888,
              "#fdca26"
             ],
             [
              1,
              "#f0f921"
             ]
            ],
            "type": "histogram2d"
           }
          ],
          "histogram2dcontour": [
           {
            "colorbar": {
             "outlinewidth": 0,
             "ticks": ""
            },
            "colorscale": [
             [
              0,
              "#0d0887"
             ],
             [
              0.1111111111111111,
              "#46039f"
             ],
             [
              0.2222222222222222,
              "#7201a8"
             ],
             [
              0.3333333333333333,
              "#9c179e"
             ],
             [
              0.4444444444444444,
              "#bd3786"
             ],
             [
              0.5555555555555556,
              "#d8576b"
             ],
             [
              0.6666666666666666,
              "#ed7953"
             ],
             [
              0.7777777777777778,
              "#fb9f3a"
             ],
             [
              0.8888888888888888,
              "#fdca26"
             ],
             [
              1,
              "#f0f921"
             ]
            ],
            "type": "histogram2dcontour"
           }
          ],
          "mesh3d": [
           {
            "colorbar": {
             "outlinewidth": 0,
             "ticks": ""
            },
            "type": "mesh3d"
           }
          ],
          "parcoords": [
           {
            "line": {
             "colorbar": {
              "outlinewidth": 0,
              "ticks": ""
             }
            },
            "type": "parcoords"
           }
          ],
          "scatter": [
           {
            "marker": {
             "colorbar": {
              "outlinewidth": 0,
              "ticks": ""
             }
            },
            "type": "scatter"
           }
          ],
          "scatter3d": [
           {
            "line": {
             "colorbar": {
              "outlinewidth": 0,
              "ticks": ""
             }
            },
            "marker": {
             "colorbar": {
              "outlinewidth": 0,
              "ticks": ""
             }
            },
            "type": "scatter3d"
           }
          ],
          "scattercarpet": [
           {
            "marker": {
             "colorbar": {
              "outlinewidth": 0,
              "ticks": ""
             }
            },
            "type": "scattercarpet"
           }
          ],
          "scattergeo": [
           {
            "marker": {
             "colorbar": {
              "outlinewidth": 0,
              "ticks": ""
             }
            },
            "type": "scattergeo"
           }
          ],
          "scattergl": [
           {
            "marker": {
             "colorbar": {
              "outlinewidth": 0,
              "ticks": ""
             }
            },
            "type": "scattergl"
           }
          ],
          "scattermapbox": [
           {
            "marker": {
             "colorbar": {
              "outlinewidth": 0,
              "ticks": ""
             }
            },
            "type": "scattermapbox"
           }
          ],
          "scatterpolar": [
           {
            "marker": {
             "colorbar": {
              "outlinewidth": 0,
              "ticks": ""
             }
            },
            "type": "scatterpolar"
           }
          ],
          "scatterpolargl": [
           {
            "marker": {
             "colorbar": {
              "outlinewidth": 0,
              "ticks": ""
             }
            },
            "type": "scatterpolargl"
           }
          ],
          "scatterternary": [
           {
            "marker": {
             "colorbar": {
              "outlinewidth": 0,
              "ticks": ""
             }
            },
            "type": "scatterternary"
           }
          ],
          "surface": [
           {
            "colorbar": {
             "outlinewidth": 0,
             "ticks": ""
            },
            "colorscale": [
             [
              0,
              "#0d0887"
             ],
             [
              0.1111111111111111,
              "#46039f"
             ],
             [
              0.2222222222222222,
              "#7201a8"
             ],
             [
              0.3333333333333333,
              "#9c179e"
             ],
             [
              0.4444444444444444,
              "#bd3786"
             ],
             [
              0.5555555555555556,
              "#d8576b"
             ],
             [
              0.6666666666666666,
              "#ed7953"
             ],
             [
              0.7777777777777778,
              "#fb9f3a"
             ],
             [
              0.8888888888888888,
              "#fdca26"
             ],
             [
              1,
              "#f0f921"
             ]
            ],
            "type": "surface"
           }
          ],
          "table": [
           {
            "cells": {
             "fill": {
              "color": "#EBF0F8"
             },
             "line": {
              "color": "white"
             }
            },
            "header": {
             "fill": {
              "color": "#C8D4E3"
             },
             "line": {
              "color": "white"
             }
            },
            "type": "table"
           }
          ]
         },
         "layout": {
          "annotationdefaults": {
           "arrowcolor": "#2a3f5f",
           "arrowhead": 0,
           "arrowwidth": 1
          },
          "colorscale": {
           "diverging": [
            [
             0,
             "#8e0152"
            ],
            [
             0.1,
             "#c51b7d"
            ],
            [
             0.2,
             "#de77ae"
            ],
            [
             0.3,
             "#f1b6da"
            ],
            [
             0.4,
             "#fde0ef"
            ],
            [
             0.5,
             "#f7f7f7"
            ],
            [
             0.6,
             "#e6f5d0"
            ],
            [
             0.7,
             "#b8e186"
            ],
            [
             0.8,
             "#7fbc41"
            ],
            [
             0.9,
             "#4d9221"
            ],
            [
             1,
             "#276419"
            ]
           ],
           "sequential": [
            [
             0,
             "#0d0887"
            ],
            [
             0.1111111111111111,
             "#46039f"
            ],
            [
             0.2222222222222222,
             "#7201a8"
            ],
            [
             0.3333333333333333,
             "#9c179e"
            ],
            [
             0.4444444444444444,
             "#bd3786"
            ],
            [
             0.5555555555555556,
             "#d8576b"
            ],
            [
             0.6666666666666666,
             "#ed7953"
            ],
            [
             0.7777777777777778,
             "#fb9f3a"
            ],
            [
             0.8888888888888888,
             "#fdca26"
            ],
            [
             1,
             "#f0f921"
            ]
           ],
           "sequentialminus": [
            [
             0,
             "#0d0887"
            ],
            [
             0.1111111111111111,
             "#46039f"
            ],
            [
             0.2222222222222222,
             "#7201a8"
            ],
            [
             0.3333333333333333,
             "#9c179e"
            ],
            [
             0.4444444444444444,
             "#bd3786"
            ],
            [
             0.5555555555555556,
             "#d8576b"
            ],
            [
             0.6666666666666666,
             "#ed7953"
            ],
            [
             0.7777777777777778,
             "#fb9f3a"
            ],
            [
             0.8888888888888888,
             "#fdca26"
            ],
            [
             1,
             "#f0f921"
            ]
           ]
          },
          "colorway": [
           "#636efa",
           "#EF553B",
           "#00cc96",
           "#ab63fa",
           "#FFA15A",
           "#19d3f3",
           "#FF6692",
           "#B6E880",
           "#FF97FF",
           "#FECB52"
          ],
          "font": {
           "color": "#2a3f5f"
          },
          "geo": {
           "bgcolor": "white",
           "lakecolor": "white",
           "landcolor": "#E5ECF6",
           "showlakes": true,
           "showland": true,
           "subunitcolor": "white"
          },
          "hoverlabel": {
           "align": "left"
          },
          "hovermode": "closest",
          "mapbox": {
           "style": "light"
          },
          "paper_bgcolor": "white",
          "plot_bgcolor": "#E5ECF6",
          "polar": {
           "angularaxis": {
            "gridcolor": "white",
            "linecolor": "white",
            "ticks": ""
           },
           "bgcolor": "#E5ECF6",
           "radialaxis": {
            "gridcolor": "white",
            "linecolor": "white",
            "ticks": ""
           }
          },
          "scene": {
           "xaxis": {
            "backgroundcolor": "#E5ECF6",
            "gridcolor": "white",
            "gridwidth": 2,
            "linecolor": "white",
            "showbackground": true,
            "ticks": "",
            "zerolinecolor": "white"
           },
           "yaxis": {
            "backgroundcolor": "#E5ECF6",
            "gridcolor": "white",
            "gridwidth": 2,
            "linecolor": "white",
            "showbackground": true,
            "ticks": "",
            "zerolinecolor": "white"
           },
           "zaxis": {
            "backgroundcolor": "#E5ECF6",
            "gridcolor": "white",
            "gridwidth": 2,
            "linecolor": "white",
            "showbackground": true,
            "ticks": "",
            "zerolinecolor": "white"
           }
          },
          "shapedefaults": {
           "line": {
            "color": "#2a3f5f"
           }
          },
          "ternary": {
           "aaxis": {
            "gridcolor": "white",
            "linecolor": "white",
            "ticks": ""
           },
           "baxis": {
            "gridcolor": "white",
            "linecolor": "white",
            "ticks": ""
           },
           "bgcolor": "#E5ECF6",
           "caxis": {
            "gridcolor": "white",
            "linecolor": "white",
            "ticks": ""
           }
          },
          "title": {
           "x": 0.05
          },
          "xaxis": {
           "automargin": true,
           "gridcolor": "white",
           "linecolor": "white",
           "ticks": "",
           "zerolinecolor": "white",
           "zerolinewidth": 2
          },
          "yaxis": {
           "automargin": true,
           "gridcolor": "white",
           "linecolor": "white",
           "ticks": "",
           "zerolinecolor": "white",
           "zerolinewidth": 2
          }
         }
        },
        "title": {
         "text": "Happiness Rank Determined by Score"
        },
        "xaxis": {
         "title": {
          "font": {
           "color": "#7f7f7f",
           "family": "Courier New, monospace",
           "size": 18
          },
          "text": "Happiness Score"
         }
        },
        "yaxis": {
         "title": {
          "font": {
           "color": "#7f7f7f",
           "family": "Courier New, monospace",
           "size": 18
          },
          "text": "Happiness Rank"
         }
        }
       }
      },
      "text/html": [
       "<div>\n",
       "        \n",
       "        \n",
       "            <div id=\"8dc52430-fb1c-4a33-8e2a-d2555f9d7407\" class=\"plotly-graph-div\" style=\"height:525px; width:100%;\"></div>\n",
       "            <script type=\"text/javascript\">\n",
       "                require([\"plotly\"], function(Plotly) {\n",
       "                    window.PLOTLYENV=window.PLOTLYENV || {};\n",
       "                    \n",
       "                if (document.getElementById(\"8dc52430-fb1c-4a33-8e2a-d2555f9d7407\")) {\n",
       "                    Plotly.newPlot(\n",
       "                        '8dc52430-fb1c-4a33-8e2a-d2555f9d7407',\n",
       "                        [{\"mode\": \"markers\", \"type\": \"scatter\", \"x\": [7.587000000000001, 7.561, 7.527, 7.522, 7.4270000000000005, 7.406000000000001, 7.377999999999999, 7.364, 7.2860000000000005, 7.284, 7.278, 7.226, 7.2, 7.187, 7.119, 6.983, 6.946000000000001, 6.94, 6.937, 6.901, 6.867000000000001, 6.853, 6.81, 6.797999999999999, 6.7860000000000005, 6.75, 6.67, 6.611000000000001, 6.575, 6.574, 6.505, 6.485, 6.477, 6.455, 6.4110000000000005, 6.329, 6.3020000000000005, 6.297999999999999, 6.295, 6.269, 6.167999999999999, 6.13, 6.122999999999999, 6.002999999999999, 5.995, 5.987, 5.984, 5.975, 5.96, 5.9479999999999995, 5.89, 5.888999999999999, 5.877999999999999, 5.855, 5.848, 5.832999999999999, 5.827999999999999, 5.824, 5.813, 5.791, 5.77, 5.7589999999999995, 5.754, 5.716, 5.709, 5.695, 5.689, 5.605, 5.5889999999999995, 5.547999999999999, 5.477, 5.474, 5.428999999999999, 5.399, 5.36, 5.332000000000001, 5.2860000000000005, 5.268, 5.252999999999999, 5.212000000000001, 5.194, 5.192, 5.192, 5.14, 5.129, 5.124, 5.122999999999999, 5.102, 5.098, 5.073, 5.0569999999999995, 5.013, 5.007, 4.971, 4.959, 4.949, 4.898, 4.885, 4.876, 4.874, 4.867, 4.857, 4.8389999999999995, 4.8, 4.788, 4.7860000000000005, 4.739, 4.715, 4.694, 4.686, 4.681, 4.677, 4.6419999999999995, 4.633, 4.61, 4.571000000000001, 4.565, 4.55, 4.518, 4.5169999999999995, 4.513999999999999, 4.512, 4.507, 4.436, 4.419, 4.369, 4.35, 4.332, 4.3069999999999995, 4.297, 4.292, 4.271, 4.252, 4.218, 4.194, 4.077, 4.033, 3.995, 3.989, 3.9560000000000004, 3.931, 3.904, 3.8960000000000004, 3.845, 3.819, 3.781, 3.681, 3.678, 3.667, 3.656, 3.655, 3.5869999999999997, 3.575, 3.465, 3.34, 3.0060000000000002, 2.905, 2.839, 7.526, 7.5089999999999995, 7.501, 7.497999999999999, 7.412999999999999, 7.404, 7.3389999999999995, 7.334, 7.313, 7.291, 7.267, 7.119, 7.104, 7.087000000000001, 7.039, 6.994, 6.952000000000001, 6.928999999999999, 6.907, 6.871, 6.778, 6.739, 6.725, 6.705, 6.7010000000000005, 6.65, 6.596, 6.5729999999999995, 6.545, 6.4879999999999995, 6.481, 6.478, 6.474, 6.379, 6.379, 6.375, 6.361000000000001, 6.355, 6.324, 6.269, 6.239, 6.218, 6.167999999999999, 6.084, 6.077999999999999, 6.068, 6.005, 5.992000000000001, 5.987, 5.977, 5.976, 5.956, 5.921, 5.919, 5.897, 5.856, 5.835, 5.835, 5.822, 5.813, 5.8020000000000005, 5.771, 5.768, 5.742999999999999, 5.6579999999999995, 5.648, 5.615, 5.56, 5.546, 5.537999999999999, 5.528, 5.517, 5.51, 5.4879999999999995, 5.457999999999999, 5.44, 5.401, 5.388999999999999, 5.314, 5.303, 5.291, 5.279, 5.245, 5.196000000000001, 5.185, 5.1770000000000005, 5.162999999999999, 5.1610000000000005, 5.155, 5.151, 5.145, 5.132000000000001, 5.129, 5.122999999999999, 5.121, 5.061, 5.0569999999999995, 5.045, 5.033, 4.996, 4.907, 4.876, 4.875, 4.871, 4.813, 4.795, 4.793, 4.754, 4.655, 4.643, 4.635, 4.575, 4.574, 4.513, 4.508, 4.459, 4.415, 4.404, 4.395, 4.362, 4.36, 4.356, 4.324, 4.276, 4.272, 4.252, 4.236000000000001, 4.218999999999999, 4.217, 4.2010000000000005, 4.1930000000000005, 4.156000000000001, 4.138999999999999, 4.121, 4.073, 4.0280000000000005, 3.9739999999999998, 3.9560000000000004, 3.9160000000000004, 3.907, 3.866, 3.8560000000000003, 3.832, 3.763, 3.739, 3.739, 3.7239999999999998, 3.695, 3.6660000000000004, 3.622, 3.6069999999999998, 3.515, 3.484, 3.36, 3.303, 3.069, 2.905, 7.537000179290769, 7.52199983596802, 7.50400018692017, 7.49399995803833, 7.468999862670901, 7.3769998550415, 7.31599998474121, 7.31400012969971, 7.28399991989136, 7.28399991989136, 7.212999820709231, 7.0789999961853, 7.00600004196167, 6.993000030517581, 6.9770002365112305, 6.9510002136230495, 6.89099979400635, 6.86299991607666, 6.71400022506714, 6.65199995040894, 6.6479997634887695, 6.6350002288818395, 6.60900020599365, 6.59899997711182, 6.57800006866455, 6.57200002670288, 6.52699995040894, 6.4539999961853, 6.4539999961853, 6.4520001411438, 6.44199991226196, 6.4239997863769505, 6.42199993133545, 6.40299987792969, 6.375, 6.35699987411499, 6.343999862670901, 6.1680002212524405, 6.10500001907349, 6.09800004959106, 6.08699989318848, 6.08400011062622, 6.07100009918213, 6.00799989700317, 6.002999782562259, 5.97300004959106, 5.97100019454956, 5.96400022506714, 5.962999820709231, 5.955999851226809, 5.92000007629395, 5.90199995040894, 5.872000217437741, 5.849999904632571, 5.837999820709231, 5.837999820709231, 5.824999809265139, 5.82299995422363, 5.82200002670288, 5.8189997673034695, 5.80999994277954, 5.75799989700317, 5.71500015258789, 5.62900018692017, 5.62099981307983, 5.61100006103516, 5.5689997673034695, 5.525000095367429, 5.5, 5.493000030517581, 5.47200012207031, 5.42999982833862, 5.39499998092651, 5.33599996566772, 5.32399988174438, 5.31099987030029, 5.2930002212524405, 5.27899980545044, 5.2729997634887695, 5.26900005340576, 5.26200008392334, 5.25, 5.23699998855591, 5.2350001335144, 5.234000205993651, 5.230000019073491, 5.2270002365112305, 5.22499990463257, 5.19500017166138, 5.18200016021729, 5.1810002326965305, 5.175000190734861, 5.151000022888179, 5.07399988174438, 5.07399988174438, 5.04099988937378, 5.01100015640259, 5.0040001869201705, 4.961999893188481, 4.95499992370605, 4.8289999961853, 4.80499982833862, 4.77500009536743, 4.7350001335144, 4.71400022506714, 4.70900011062622, 4.69500017166138, 4.69199991226196, 4.64400005340576, 4.60799980163574, 4.57399988174438, 4.55299997329712, 4.550000190734861, 4.54500007629395, 4.53499984741211, 4.513999938964839, 4.49700021743774, 4.46500015258789, 4.46000003814697, 4.44000005722046, 4.37599992752075, 4.31500005722046, 4.29199981689453, 4.29099988937378, 4.28599977493286, 4.2800002098083505, 4.19000005722046, 4.17999982833862, 4.1680002212524405, 4.138999938964839, 4.11999988555908, 4.09600019454956, 4.08099985122681, 4.03200006484985, 4.02799987792969, 3.97000002861023, 3.9360001087188703, 3.875, 3.80800008773804, 3.79500007629395, 3.7939999103546103, 3.7660000324249303, 3.65700006484985, 3.64400005340576, 3.6029999256133998, 3.59299993515015, 3.5910000801086404, 3.5329999923706095, 3.50699996948242, 3.4949998855590803, 3.47099995613098, 3.46199989318848, 3.34899997711182, 2.90499997138977, 2.69300007820129], \"y\": [1, 2, 3, 4, 5, 6, 7, 8, 9, 10, 11, 12, 13, 14, 15, 16, 17, 18, 19, 20, 21, 22, 23, 24, 25, 26, 27, 28, 29, 30, 31, 32, 33, 34, 35, 36, 37, 38, 39, 40, 41, 42, 43, 44, 45, 46, 47, 48, 49, 50, 51, 52, 53, 54, 55, 56, 57, 58, 59, 60, 61, 62, 63, 64, 65, 66, 67, 68, 69, 70, 71, 72, 73, 74, 75, 76, 77, 78, 79, 80, 81, 82, 82, 84, 85, 86, 87, 88, 89, 90, 91, 92, 93, 94, 95, 96, 97, 98, 99, 100, 101, 102, 103, 104, 105, 106, 107, 108, 109, 110, 111, 112, 113, 114, 115, 116, 117, 118, 119, 120, 121, 122, 123, 124, 125, 126, 127, 128, 129, 130, 131, 132, 133, 134, 135, 136, 137, 138, 139, 140, 141, 142, 143, 144, 145, 146, 147, 148, 149, 150, 151, 152, 153, 154, 155, 156, 157, 158, 1, 2, 3, 4, 5, 6, 7, 8, 9, 10, 11, 12, 13, 14, 15, 16, 17, 18, 19, 20, 21, 22, 23, 24, 25, 26, 27, 28, 29, 30, 31, 32, 33, 34, 34, 36, 37, 38, 39, 40, 41, 42, 43, 44, 45, 46, 47, 48, 49, 50, 51, 52, 53, 54, 55, 56, 57, 57, 59, 60, 61, 62, 63, 64, 65, 66, 67, 68, 69, 70, 71, 72, 73, 74, 75, 76, 77, 78, 79, 80, 81, 82, 83, 84, 85, 86, 87, 88, 89, 90, 91, 92, 93, 94, 95, 96, 97, 98, 99, 100, 101, 102, 103, 104, 105, 106, 107, 108, 109, 110, 111, 112, 113, 114, 115, 116, 117, 118, 119, 120, 121, 122, 123, 124, 125, 126, 127, 128, 129, 130, 131, 132, 133, 134, 135, 136, 137, 138, 139, 140, 141, 142, 143, 144, 145, 145, 147, 148, 149, 150, 151, 152, 153, 154, 155, 156, 157, 1, 2, 3, 4, 5, 6, 7, 8, 9, 10, 11, 12, 13, 14, 15, 16, 17, 18, 19, 20, 21, 22, 23, 24, 25, 26, 27, 28, 29, 30, 31, 32, 33, 34, 35, 36, 37, 38, 39, 40, 41, 42, 43, 44, 45, 46, 47, 48, 49, 50, 51, 52, 53, 54, 55, 56, 57, 58, 59, 60, 61, 62, 63, 64, 65, 66, 67, 68, 69, 70, 71, 72, 73, 74, 75, 76, 77, 78, 79, 80, 81, 82, 83, 84, 85, 86, 87, 88, 89, 90, 91, 92, 93, 94, 95, 96, 97, 98, 99, 100, 101, 102, 103, 104, 105, 106, 107, 108, 109, 110, 111, 112, 113, 114, 115, 116, 117, 118, 119, 120, 121, 122, 123, 124, 125, 126, 127, 128, 129, 130, 131, 132, 133, 134, 135, 136, 137, 138, 139, 140, 141, 142, 143, 144, 145, 146, 147, 148, 149, 150, 151, 152, 153, 154, 155]}],\n",
       "                        {\"template\": {\"data\": {\"bar\": [{\"error_x\": {\"color\": \"#2a3f5f\"}, \"error_y\": {\"color\": \"#2a3f5f\"}, \"marker\": {\"line\": {\"color\": \"#E5ECF6\", \"width\": 0.5}}, \"type\": \"bar\"}], \"barpolar\": [{\"marker\": {\"line\": {\"color\": \"#E5ECF6\", \"width\": 0.5}}, \"type\": \"barpolar\"}], \"carpet\": [{\"aaxis\": {\"endlinecolor\": \"#2a3f5f\", \"gridcolor\": \"white\", \"linecolor\": \"white\", \"minorgridcolor\": \"white\", \"startlinecolor\": \"#2a3f5f\"}, \"baxis\": {\"endlinecolor\": \"#2a3f5f\", \"gridcolor\": \"white\", \"linecolor\": \"white\", \"minorgridcolor\": \"white\", \"startlinecolor\": \"#2a3f5f\"}, \"type\": \"carpet\"}], \"choropleth\": [{\"colorbar\": {\"outlinewidth\": 0, \"ticks\": \"\"}, \"type\": \"choropleth\"}], \"contour\": [{\"colorbar\": {\"outlinewidth\": 0, \"ticks\": \"\"}, \"colorscale\": [[0.0, \"#0d0887\"], [0.1111111111111111, \"#46039f\"], [0.2222222222222222, \"#7201a8\"], [0.3333333333333333, \"#9c179e\"], [0.4444444444444444, \"#bd3786\"], [0.5555555555555556, \"#d8576b\"], [0.6666666666666666, \"#ed7953\"], [0.7777777777777778, \"#fb9f3a\"], [0.8888888888888888, \"#fdca26\"], [1.0, \"#f0f921\"]], \"type\": \"contour\"}], \"contourcarpet\": [{\"colorbar\": {\"outlinewidth\": 0, \"ticks\": \"\"}, \"type\": \"contourcarpet\"}], \"heatmap\": [{\"colorbar\": {\"outlinewidth\": 0, \"ticks\": \"\"}, \"colorscale\": [[0.0, \"#0d0887\"], [0.1111111111111111, \"#46039f\"], [0.2222222222222222, \"#7201a8\"], [0.3333333333333333, \"#9c179e\"], [0.4444444444444444, \"#bd3786\"], [0.5555555555555556, \"#d8576b\"], [0.6666666666666666, \"#ed7953\"], [0.7777777777777778, \"#fb9f3a\"], [0.8888888888888888, \"#fdca26\"], [1.0, \"#f0f921\"]], \"type\": \"heatmap\"}], \"heatmapgl\": [{\"colorbar\": {\"outlinewidth\": 0, \"ticks\": \"\"}, \"colorscale\": [[0.0, \"#0d0887\"], [0.1111111111111111, \"#46039f\"], [0.2222222222222222, \"#7201a8\"], [0.3333333333333333, \"#9c179e\"], [0.4444444444444444, \"#bd3786\"], [0.5555555555555556, \"#d8576b\"], [0.6666666666666666, \"#ed7953\"], [0.7777777777777778, \"#fb9f3a\"], [0.8888888888888888, \"#fdca26\"], [1.0, \"#f0f921\"]], \"type\": \"heatmapgl\"}], \"histogram\": [{\"marker\": {\"colorbar\": {\"outlinewidth\": 0, \"ticks\": \"\"}}, \"type\": \"histogram\"}], \"histogram2d\": [{\"colorbar\": {\"outlinewidth\": 0, \"ticks\": \"\"}, \"colorscale\": [[0.0, \"#0d0887\"], [0.1111111111111111, \"#46039f\"], [0.2222222222222222, \"#7201a8\"], [0.3333333333333333, \"#9c179e\"], [0.4444444444444444, \"#bd3786\"], [0.5555555555555556, \"#d8576b\"], [0.6666666666666666, \"#ed7953\"], [0.7777777777777778, \"#fb9f3a\"], [0.8888888888888888, \"#fdca26\"], [1.0, \"#f0f921\"]], \"type\": \"histogram2d\"}], \"histogram2dcontour\": [{\"colorbar\": {\"outlinewidth\": 0, \"ticks\": \"\"}, \"colorscale\": [[0.0, \"#0d0887\"], [0.1111111111111111, \"#46039f\"], [0.2222222222222222, \"#7201a8\"], [0.3333333333333333, \"#9c179e\"], [0.4444444444444444, \"#bd3786\"], [0.5555555555555556, \"#d8576b\"], [0.6666666666666666, \"#ed7953\"], [0.7777777777777778, \"#fb9f3a\"], [0.8888888888888888, \"#fdca26\"], [1.0, \"#f0f921\"]], \"type\": \"histogram2dcontour\"}], \"mesh3d\": [{\"colorbar\": {\"outlinewidth\": 0, \"ticks\": \"\"}, \"type\": \"mesh3d\"}], \"parcoords\": [{\"line\": {\"colorbar\": {\"outlinewidth\": 0, \"ticks\": \"\"}}, \"type\": \"parcoords\"}], \"scatter\": [{\"marker\": {\"colorbar\": {\"outlinewidth\": 0, \"ticks\": \"\"}}, \"type\": \"scatter\"}], \"scatter3d\": [{\"line\": {\"colorbar\": {\"outlinewidth\": 0, \"ticks\": \"\"}}, \"marker\": {\"colorbar\": {\"outlinewidth\": 0, \"ticks\": \"\"}}, \"type\": \"scatter3d\"}], \"scattercarpet\": [{\"marker\": {\"colorbar\": {\"outlinewidth\": 0, \"ticks\": \"\"}}, \"type\": \"scattercarpet\"}], \"scattergeo\": [{\"marker\": {\"colorbar\": {\"outlinewidth\": 0, \"ticks\": \"\"}}, \"type\": \"scattergeo\"}], \"scattergl\": [{\"marker\": {\"colorbar\": {\"outlinewidth\": 0, \"ticks\": \"\"}}, \"type\": \"scattergl\"}], \"scattermapbox\": [{\"marker\": {\"colorbar\": {\"outlinewidth\": 0, \"ticks\": \"\"}}, \"type\": \"scattermapbox\"}], \"scatterpolar\": [{\"marker\": {\"colorbar\": {\"outlinewidth\": 0, \"ticks\": \"\"}}, \"type\": \"scatterpolar\"}], \"scatterpolargl\": [{\"marker\": {\"colorbar\": {\"outlinewidth\": 0, \"ticks\": \"\"}}, \"type\": \"scatterpolargl\"}], \"scatterternary\": [{\"marker\": {\"colorbar\": {\"outlinewidth\": 0, \"ticks\": \"\"}}, \"type\": \"scatterternary\"}], \"surface\": [{\"colorbar\": {\"outlinewidth\": 0, \"ticks\": \"\"}, \"colorscale\": [[0.0, \"#0d0887\"], [0.1111111111111111, \"#46039f\"], [0.2222222222222222, \"#7201a8\"], [0.3333333333333333, \"#9c179e\"], [0.4444444444444444, \"#bd3786\"], [0.5555555555555556, \"#d8576b\"], [0.6666666666666666, \"#ed7953\"], [0.7777777777777778, \"#fb9f3a\"], [0.8888888888888888, \"#fdca26\"], [1.0, \"#f0f921\"]], \"type\": \"surface\"}], \"table\": [{\"cells\": {\"fill\": {\"color\": \"#EBF0F8\"}, \"line\": {\"color\": \"white\"}}, \"header\": {\"fill\": {\"color\": \"#C8D4E3\"}, \"line\": {\"color\": \"white\"}}, \"type\": \"table\"}]}, \"layout\": {\"annotationdefaults\": {\"arrowcolor\": \"#2a3f5f\", \"arrowhead\": 0, \"arrowwidth\": 1}, \"colorscale\": {\"diverging\": [[0, \"#8e0152\"], [0.1, \"#c51b7d\"], [0.2, \"#de77ae\"], [0.3, \"#f1b6da\"], [0.4, \"#fde0ef\"], [0.5, \"#f7f7f7\"], [0.6, \"#e6f5d0\"], [0.7, \"#b8e186\"], [0.8, \"#7fbc41\"], [0.9, \"#4d9221\"], [1, \"#276419\"]], \"sequential\": [[0.0, \"#0d0887\"], [0.1111111111111111, \"#46039f\"], [0.2222222222222222, \"#7201a8\"], [0.3333333333333333, \"#9c179e\"], [0.4444444444444444, \"#bd3786\"], [0.5555555555555556, \"#d8576b\"], [0.6666666666666666, \"#ed7953\"], [0.7777777777777778, \"#fb9f3a\"], [0.8888888888888888, \"#fdca26\"], [1.0, \"#f0f921\"]], \"sequentialminus\": [[0.0, \"#0d0887\"], [0.1111111111111111, \"#46039f\"], [0.2222222222222222, \"#7201a8\"], [0.3333333333333333, \"#9c179e\"], [0.4444444444444444, \"#bd3786\"], [0.5555555555555556, \"#d8576b\"], [0.6666666666666666, \"#ed7953\"], [0.7777777777777778, \"#fb9f3a\"], [0.8888888888888888, \"#fdca26\"], [1.0, \"#f0f921\"]]}, \"colorway\": [\"#636efa\", \"#EF553B\", \"#00cc96\", \"#ab63fa\", \"#FFA15A\", \"#19d3f3\", \"#FF6692\", \"#B6E880\", \"#FF97FF\", \"#FECB52\"], \"font\": {\"color\": \"#2a3f5f\"}, \"geo\": {\"bgcolor\": \"white\", \"lakecolor\": \"white\", \"landcolor\": \"#E5ECF6\", \"showlakes\": true, \"showland\": true, \"subunitcolor\": \"white\"}, \"hoverlabel\": {\"align\": \"left\"}, \"hovermode\": \"closest\", \"mapbox\": {\"style\": \"light\"}, \"paper_bgcolor\": \"white\", \"plot_bgcolor\": \"#E5ECF6\", \"polar\": {\"angularaxis\": {\"gridcolor\": \"white\", \"linecolor\": \"white\", \"ticks\": \"\"}, \"bgcolor\": \"#E5ECF6\", \"radialaxis\": {\"gridcolor\": \"white\", \"linecolor\": \"white\", \"ticks\": \"\"}}, \"scene\": {\"xaxis\": {\"backgroundcolor\": \"#E5ECF6\", \"gridcolor\": \"white\", \"gridwidth\": 2, \"linecolor\": \"white\", \"showbackground\": true, \"ticks\": \"\", \"zerolinecolor\": \"white\"}, \"yaxis\": {\"backgroundcolor\": \"#E5ECF6\", \"gridcolor\": \"white\", \"gridwidth\": 2, \"linecolor\": \"white\", \"showbackground\": true, \"ticks\": \"\", \"zerolinecolor\": \"white\"}, \"zaxis\": {\"backgroundcolor\": \"#E5ECF6\", \"gridcolor\": \"white\", \"gridwidth\": 2, \"linecolor\": \"white\", \"showbackground\": true, \"ticks\": \"\", \"zerolinecolor\": \"white\"}}, \"shapedefaults\": {\"line\": {\"color\": \"#2a3f5f\"}}, \"ternary\": {\"aaxis\": {\"gridcolor\": \"white\", \"linecolor\": \"white\", \"ticks\": \"\"}, \"baxis\": {\"gridcolor\": \"white\", \"linecolor\": \"white\", \"ticks\": \"\"}, \"bgcolor\": \"#E5ECF6\", \"caxis\": {\"gridcolor\": \"white\", \"linecolor\": \"white\", \"ticks\": \"\"}}, \"title\": {\"x\": 0.05}, \"xaxis\": {\"automargin\": true, \"gridcolor\": \"white\", \"linecolor\": \"white\", \"ticks\": \"\", \"zerolinecolor\": \"white\", \"zerolinewidth\": 2}, \"yaxis\": {\"automargin\": true, \"gridcolor\": \"white\", \"linecolor\": \"white\", \"ticks\": \"\", \"zerolinecolor\": \"white\", \"zerolinewidth\": 2}}}, \"title\": {\"text\": \"Happiness Rank Determined by Score\"}, \"xaxis\": {\"title\": {\"font\": {\"color\": \"#7f7f7f\", \"family\": \"Courier New, monospace\", \"size\": 18}, \"text\": \"Happiness Score\"}}, \"yaxis\": {\"title\": {\"font\": {\"color\": \"#7f7f7f\", \"family\": \"Courier New, monospace\", \"size\": 18}, \"text\": \"Happiness Rank\"}}},\n",
       "                        {\"responsive\": true}\n",
       "                    ).then(function(){\n",
       "                            \n",
       "var gd = document.getElementById('8dc52430-fb1c-4a33-8e2a-d2555f9d7407');\n",
       "var x = new MutationObserver(function (mutations, observer) {{\n",
       "        var display = window.getComputedStyle(gd).display;\n",
       "        if (!display || display === 'none') {{\n",
       "            console.log([gd, 'removed!']);\n",
       "            Plotly.purge(gd);\n",
       "            observer.disconnect();\n",
       "        }}\n",
       "}});\n",
       "\n",
       "// Listen for the removal of the full notebook cells\n",
       "var notebookContainer = gd.closest('#notebook-container');\n",
       "if (notebookContainer) {{\n",
       "    x.observe(notebookContainer, {childList: true});\n",
       "}}\n",
       "\n",
       "// Listen for the clearing of the current output cell\n",
       "var outputEl = gd.closest('.output');\n",
       "if (outputEl) {{\n",
       "    x.observe(outputEl, {childList: true});\n",
       "}}\n",
       "\n",
       "                        })\n",
       "                };\n",
       "                });\n",
       "            </script>\n",
       "        </div>"
      ]
     },
     "metadata": {},
     "output_type": "display_data"
    }
   ],
   "source": [
    "trace4 = go.Scatter(x    = happiness.happiness_score,\n",
    "                    y    = happiness.happiness_rank,\n",
    "                    mode = 'markers')\n",
    "\n",
    "data4  = [trace4]\n",
    "layout = go.Layout(title = \"Happiness Rank Determined by Score\",\n",
    "                   xaxis = dict(title     = \"Happiness Score\",\n",
    "                                titlefont = dict(family = 'Courier New, monospace', \n",
    "                                                 size   = 18,\n",
    "                                                 color  = '#7f7f7f')),\n",
    "                   yaxis = dict(title     = \"Happiness Rank\",\n",
    "                                titlefont = dict(family = 'Courier New, monospace',\n",
    "                                                 size   = 18,\n",
    "                                                 color  = '#7f7f7f')))\n",
    "\n",
    "fig4 = go.Figure(data = data4, layout = layout)\n",
    "iplot(fig4)"
   ]
  },
  {
   "cell_type": "markdown",
   "metadata": {},
   "source": [
    "Dissect the graph : \n",
    "- Happiness score determines how the country is ranked, so happiness score as predictor and the happiness rank as the dependent variable\n",
    "- The higher the score the lower the numerical rank, and higher the happiness rating\n",
    "- Therefore, happiness score and rank are negatively correlated (as score increases, rank decreases)"
   ]
  },
  {
   "cell_type": "code",
   "execution_count": 9,
   "metadata": {},
   "outputs": [
    {
     "data": {
      "application/vnd.plotly.v1+json": {
       "config": {
        "linkText": "Export to plot.ly",
        "plotlyServerURL": "https://plot.ly",
        "showLink": false
       },
       "data": [
        {
         "type": "heatmap",
         "x": [
          "happiness_score",
          "economy",
          "family",
          "health",
          "freedom",
          "trust",
          "generosity",
          "dystopia_residual"
         ],
         "y": [
          "happiness_score",
          "economy",
          "family",
          "health",
          "freedom",
          "trust",
          "generosity",
          "dystopia_residual"
         ],
         "z": [
          [
           1,
           0.7854496399427382,
           0.636531961986146,
           0.7480403740939182,
           0.560353389320401,
           0.40633965496480096,
           0.16356161612806214,
           0.48974718458294075
          ],
          [
           0.7854496399427382,
           1,
           0.5854490123446177,
           0.7922240199865865,
           0.344962484284104,
           0.3019345633019962,
           -0.01417270837368973,
           0.03008687606926851
          ],
          [
           0.636531961986146,
           0.5854490123446177,
           1,
           0.48638270923840043,
           0.4253766930595946,
           0.1586045500867523,
           0.07177474665057637,
           -0.0815373070341381
          ],
          [
           0.7480403740939182,
           0.7922240199865865,
           0.48638270923840043,
           1,
           0.35956601188310844,
           0.26293226066420045,
           0.07732635768572656,
           0.05767427613088654
          ],
          [
           0.560353389320401,
           0.344962484284104,
           0.4253766930595946,
           0.35956601188310844,
           1,
           0.4904054127440621,
           0.34338893284436967,
           0.03842202742622353
          ],
          [
           0.40633965496480096,
           0.3019345633019962,
           0.1586045500867523,
           0.26293226066420045,
           0.4904054127440621,
           1,
           0.2874144796673858,
           1.2982518896778976e-06
          ],
          [
           0.16356161612806214,
           -0.01417270837368973,
           0.07177474665057637,
           0.07732635768572656,
           0.34338893284436967,
           0.2874144796673858,
           1,
           -0.11446825880853712
          ],
          [
           0.48974718458294075,
           0.03008687606926851,
           -0.0815373070341381,
           0.05767427613088654,
           0.03842202742622353,
           1.2982518896778976e-06,
           -0.11446825880853712,
           1
          ]
         ]
        }
       ],
       "layout": {
        "template": {
         "data": {
          "bar": [
           {
            "error_x": {
             "color": "#2a3f5f"
            },
            "error_y": {
             "color": "#2a3f5f"
            },
            "marker": {
             "line": {
              "color": "#E5ECF6",
              "width": 0.5
             }
            },
            "type": "bar"
           }
          ],
          "barpolar": [
           {
            "marker": {
             "line": {
              "color": "#E5ECF6",
              "width": 0.5
             }
            },
            "type": "barpolar"
           }
          ],
          "carpet": [
           {
            "aaxis": {
             "endlinecolor": "#2a3f5f",
             "gridcolor": "white",
             "linecolor": "white",
             "minorgridcolor": "white",
             "startlinecolor": "#2a3f5f"
            },
            "baxis": {
             "endlinecolor": "#2a3f5f",
             "gridcolor": "white",
             "linecolor": "white",
             "minorgridcolor": "white",
             "startlinecolor": "#2a3f5f"
            },
            "type": "carpet"
           }
          ],
          "choropleth": [
           {
            "colorbar": {
             "outlinewidth": 0,
             "ticks": ""
            },
            "type": "choropleth"
           }
          ],
          "contour": [
           {
            "colorbar": {
             "outlinewidth": 0,
             "ticks": ""
            },
            "colorscale": [
             [
              0,
              "#0d0887"
             ],
             [
              0.1111111111111111,
              "#46039f"
             ],
             [
              0.2222222222222222,
              "#7201a8"
             ],
             [
              0.3333333333333333,
              "#9c179e"
             ],
             [
              0.4444444444444444,
              "#bd3786"
             ],
             [
              0.5555555555555556,
              "#d8576b"
             ],
             [
              0.6666666666666666,
              "#ed7953"
             ],
             [
              0.7777777777777778,
              "#fb9f3a"
             ],
             [
              0.8888888888888888,
              "#fdca26"
             ],
             [
              1,
              "#f0f921"
             ]
            ],
            "type": "contour"
           }
          ],
          "contourcarpet": [
           {
            "colorbar": {
             "outlinewidth": 0,
             "ticks": ""
            },
            "type": "contourcarpet"
           }
          ],
          "heatmap": [
           {
            "colorbar": {
             "outlinewidth": 0,
             "ticks": ""
            },
            "colorscale": [
             [
              0,
              "#0d0887"
             ],
             [
              0.1111111111111111,
              "#46039f"
             ],
             [
              0.2222222222222222,
              "#7201a8"
             ],
             [
              0.3333333333333333,
              "#9c179e"
             ],
             [
              0.4444444444444444,
              "#bd3786"
             ],
             [
              0.5555555555555556,
              "#d8576b"
             ],
             [
              0.6666666666666666,
              "#ed7953"
             ],
             [
              0.7777777777777778,
              "#fb9f3a"
             ],
             [
              0.8888888888888888,
              "#fdca26"
             ],
             [
              1,
              "#f0f921"
             ]
            ],
            "type": "heatmap"
           }
          ],
          "heatmapgl": [
           {
            "colorbar": {
             "outlinewidth": 0,
             "ticks": ""
            },
            "colorscale": [
             [
              0,
              "#0d0887"
             ],
             [
              0.1111111111111111,
              "#46039f"
             ],
             [
              0.2222222222222222,
              "#7201a8"
             ],
             [
              0.3333333333333333,
              "#9c179e"
             ],
             [
              0.4444444444444444,
              "#bd3786"
             ],
             [
              0.5555555555555556,
              "#d8576b"
             ],
             [
              0.6666666666666666,
              "#ed7953"
             ],
             [
              0.7777777777777778,
              "#fb9f3a"
             ],
             [
              0.8888888888888888,
              "#fdca26"
             ],
             [
              1,
              "#f0f921"
             ]
            ],
            "type": "heatmapgl"
           }
          ],
          "histogram": [
           {
            "marker": {
             "colorbar": {
              "outlinewidth": 0,
              "ticks": ""
             }
            },
            "type": "histogram"
           }
          ],
          "histogram2d": [
           {
            "colorbar": {
             "outlinewidth": 0,
             "ticks": ""
            },
            "colorscale": [
             [
              0,
              "#0d0887"
             ],
             [
              0.1111111111111111,
              "#46039f"
             ],
             [
              0.2222222222222222,
              "#7201a8"
             ],
             [
              0.3333333333333333,
              "#9c179e"
             ],
             [
              0.4444444444444444,
              "#bd3786"
             ],
             [
              0.5555555555555556,
              "#d8576b"
             ],
             [
              0.6666666666666666,
              "#ed7953"
             ],
             [
              0.7777777777777778,
              "#fb9f3a"
             ],
             [
              0.8888888888888888,
              "#fdca26"
             ],
             [
              1,
              "#f0f921"
             ]
            ],
            "type": "histogram2d"
           }
          ],
          "histogram2dcontour": [
           {
            "colorbar": {
             "outlinewidth": 0,
             "ticks": ""
            },
            "colorscale": [
             [
              0,
              "#0d0887"
             ],
             [
              0.1111111111111111,
              "#46039f"
             ],
             [
              0.2222222222222222,
              "#7201a8"
             ],
             [
              0.3333333333333333,
              "#9c179e"
             ],
             [
              0.4444444444444444,
              "#bd3786"
             ],
             [
              0.5555555555555556,
              "#d8576b"
             ],
             [
              0.6666666666666666,
              "#ed7953"
             ],
             [
              0.7777777777777778,
              "#fb9f3a"
             ],
             [
              0.8888888888888888,
              "#fdca26"
             ],
             [
              1,
              "#f0f921"
             ]
            ],
            "type": "histogram2dcontour"
           }
          ],
          "mesh3d": [
           {
            "colorbar": {
             "outlinewidth": 0,
             "ticks": ""
            },
            "type": "mesh3d"
           }
          ],
          "parcoords": [
           {
            "line": {
             "colorbar": {
              "outlinewidth": 0,
              "ticks": ""
             }
            },
            "type": "parcoords"
           }
          ],
          "scatter": [
           {
            "marker": {
             "colorbar": {
              "outlinewidth": 0,
              "ticks": ""
             }
            },
            "type": "scatter"
           }
          ],
          "scatter3d": [
           {
            "line": {
             "colorbar": {
              "outlinewidth": 0,
              "ticks": ""
             }
            },
            "marker": {
             "colorbar": {
              "outlinewidth": 0,
              "ticks": ""
             }
            },
            "type": "scatter3d"
           }
          ],
          "scattercarpet": [
           {
            "marker": {
             "colorbar": {
              "outlinewidth": 0,
              "ticks": ""
             }
            },
            "type": "scattercarpet"
           }
          ],
          "scattergeo": [
           {
            "marker": {
             "colorbar": {
              "outlinewidth": 0,
              "ticks": ""
             }
            },
            "type": "scattergeo"
           }
          ],
          "scattergl": [
           {
            "marker": {
             "colorbar": {
              "outlinewidth": 0,
              "ticks": ""
             }
            },
            "type": "scattergl"
           }
          ],
          "scattermapbox": [
           {
            "marker": {
             "colorbar": {
              "outlinewidth": 0,
              "ticks": ""
             }
            },
            "type": "scattermapbox"
           }
          ],
          "scatterpolar": [
           {
            "marker": {
             "colorbar": {
              "outlinewidth": 0,
              "ticks": ""
             }
            },
            "type": "scatterpolar"
           }
          ],
          "scatterpolargl": [
           {
            "marker": {
             "colorbar": {
              "outlinewidth": 0,
              "ticks": ""
             }
            },
            "type": "scatterpolargl"
           }
          ],
          "scatterternary": [
           {
            "marker": {
             "colorbar": {
              "outlinewidth": 0,
              "ticks": ""
             }
            },
            "type": "scatterternary"
           }
          ],
          "surface": [
           {
            "colorbar": {
             "outlinewidth": 0,
             "ticks": ""
            },
            "colorscale": [
             [
              0,
              "#0d0887"
             ],
             [
              0.1111111111111111,
              "#46039f"
             ],
             [
              0.2222222222222222,
              "#7201a8"
             ],
             [
              0.3333333333333333,
              "#9c179e"
             ],
             [
              0.4444444444444444,
              "#bd3786"
             ],
             [
              0.5555555555555556,
              "#d8576b"
             ],
             [
              0.6666666666666666,
              "#ed7953"
             ],
             [
              0.7777777777777778,
              "#fb9f3a"
             ],
             [
              0.8888888888888888,
              "#fdca26"
             ],
             [
              1,
              "#f0f921"
             ]
            ],
            "type": "surface"
           }
          ],
          "table": [
           {
            "cells": {
             "fill": {
              "color": "#EBF0F8"
             },
             "line": {
              "color": "white"
             }
            },
            "header": {
             "fill": {
              "color": "#C8D4E3"
             },
             "line": {
              "color": "white"
             }
            },
            "type": "table"
           }
          ]
         },
         "layout": {
          "annotationdefaults": {
           "arrowcolor": "#2a3f5f",
           "arrowhead": 0,
           "arrowwidth": 1
          },
          "colorscale": {
           "diverging": [
            [
             0,
             "#8e0152"
            ],
            [
             0.1,
             "#c51b7d"
            ],
            [
             0.2,
             "#de77ae"
            ],
            [
             0.3,
             "#f1b6da"
            ],
            [
             0.4,
             "#fde0ef"
            ],
            [
             0.5,
             "#f7f7f7"
            ],
            [
             0.6,
             "#e6f5d0"
            ],
            [
             0.7,
             "#b8e186"
            ],
            [
             0.8,
             "#7fbc41"
            ],
            [
             0.9,
             "#4d9221"
            ],
            [
             1,
             "#276419"
            ]
           ],
           "sequential": [
            [
             0,
             "#0d0887"
            ],
            [
             0.1111111111111111,
             "#46039f"
            ],
            [
             0.2222222222222222,
             "#7201a8"
            ],
            [
             0.3333333333333333,
             "#9c179e"
            ],
            [
             0.4444444444444444,
             "#bd3786"
            ],
            [
             0.5555555555555556,
             "#d8576b"
            ],
            [
             0.6666666666666666,
             "#ed7953"
            ],
            [
             0.7777777777777778,
             "#fb9f3a"
            ],
            [
             0.8888888888888888,
             "#fdca26"
            ],
            [
             1,
             "#f0f921"
            ]
           ],
           "sequentialminus": [
            [
             0,
             "#0d0887"
            ],
            [
             0.1111111111111111,
             "#46039f"
            ],
            [
             0.2222222222222222,
             "#7201a8"
            ],
            [
             0.3333333333333333,
             "#9c179e"
            ],
            [
             0.4444444444444444,
             "#bd3786"
            ],
            [
             0.5555555555555556,
             "#d8576b"
            ],
            [
             0.6666666666666666,
             "#ed7953"
            ],
            [
             0.7777777777777778,
             "#fb9f3a"
            ],
            [
             0.8888888888888888,
             "#fdca26"
            ],
            [
             1,
             "#f0f921"
            ]
           ]
          },
          "colorway": [
           "#636efa",
           "#EF553B",
           "#00cc96",
           "#ab63fa",
           "#FFA15A",
           "#19d3f3",
           "#FF6692",
           "#B6E880",
           "#FF97FF",
           "#FECB52"
          ],
          "font": {
           "color": "#2a3f5f"
          },
          "geo": {
           "bgcolor": "white",
           "lakecolor": "white",
           "landcolor": "#E5ECF6",
           "showlakes": true,
           "showland": true,
           "subunitcolor": "white"
          },
          "hoverlabel": {
           "align": "left"
          },
          "hovermode": "closest",
          "mapbox": {
           "style": "light"
          },
          "paper_bgcolor": "white",
          "plot_bgcolor": "#E5ECF6",
          "polar": {
           "angularaxis": {
            "gridcolor": "white",
            "linecolor": "white",
            "ticks": ""
           },
           "bgcolor": "#E5ECF6",
           "radialaxis": {
            "gridcolor": "white",
            "linecolor": "white",
            "ticks": ""
           }
          },
          "scene": {
           "xaxis": {
            "backgroundcolor": "#E5ECF6",
            "gridcolor": "white",
            "gridwidth": 2,
            "linecolor": "white",
            "showbackground": true,
            "ticks": "",
            "zerolinecolor": "white"
           },
           "yaxis": {
            "backgroundcolor": "#E5ECF6",
            "gridcolor": "white",
            "gridwidth": 2,
            "linecolor": "white",
            "showbackground": true,
            "ticks": "",
            "zerolinecolor": "white"
           },
           "zaxis": {
            "backgroundcolor": "#E5ECF6",
            "gridcolor": "white",
            "gridwidth": 2,
            "linecolor": "white",
            "showbackground": true,
            "ticks": "",
            "zerolinecolor": "white"
           }
          },
          "shapedefaults": {
           "line": {
            "color": "#2a3f5f"
           }
          },
          "ternary": {
           "aaxis": {
            "gridcolor": "white",
            "linecolor": "white",
            "ticks": ""
           },
           "baxis": {
            "gridcolor": "white",
            "linecolor": "white",
            "ticks": ""
           },
           "bgcolor": "#E5ECF6",
           "caxis": {
            "gridcolor": "white",
            "linecolor": "white",
            "ticks": ""
           }
          },
          "title": {
           "x": 0.05
          },
          "xaxis": {
           "automargin": true,
           "gridcolor": "white",
           "linecolor": "white",
           "ticks": "",
           "zerolinecolor": "white",
           "zerolinewidth": 2
          },
          "yaxis": {
           "automargin": true,
           "gridcolor": "white",
           "linecolor": "white",
           "ticks": "",
           "zerolinecolor": "white",
           "zerolinewidth": 2
          }
         }
        }
       }
      },
      "text/html": [
       "<div>\n",
       "        \n",
       "        \n",
       "            <div id=\"2bc00597-08b1-4e09-baf5-7b964727a2b1\" class=\"plotly-graph-div\" style=\"height:525px; width:100%;\"></div>\n",
       "            <script type=\"text/javascript\">\n",
       "                require([\"plotly\"], function(Plotly) {\n",
       "                    window.PLOTLYENV=window.PLOTLYENV || {};\n",
       "                    \n",
       "                if (document.getElementById(\"2bc00597-08b1-4e09-baf5-7b964727a2b1\")) {\n",
       "                    Plotly.newPlot(\n",
       "                        '2bc00597-08b1-4e09-baf5-7b964727a2b1',\n",
       "                        [{\"type\": \"heatmap\", \"x\": [\"happiness_score\", \"economy\", \"family\", \"health\", \"freedom\", \"trust\", \"generosity\", \"dystopia_residual\"], \"y\": [\"happiness_score\", \"economy\", \"family\", \"health\", \"freedom\", \"trust\", \"generosity\", \"dystopia_residual\"], \"z\": [[1.0, 0.7854496399427382, 0.636531961986146, 0.7480403740939182, 0.560353389320401, 0.40633965496480096, 0.16356161612806214, 0.48974718458294075], [0.7854496399427382, 1.0, 0.5854490123446177, 0.7922240199865865, 0.344962484284104, 0.3019345633019962, -0.01417270837368973, 0.03008687606926851], [0.636531961986146, 0.5854490123446177, 1.0, 0.48638270923840043, 0.4253766930595946, 0.1586045500867523, 0.07177474665057637, -0.0815373070341381], [0.7480403740939182, 0.7922240199865865, 0.48638270923840043, 1.0, 0.35956601188310844, 0.26293226066420045, 0.07732635768572656, 0.05767427613088654], [0.560353389320401, 0.344962484284104, 0.4253766930595946, 0.35956601188310844, 1.0, 0.4904054127440621, 0.34338893284436967, 0.03842202742622353], [0.40633965496480096, 0.3019345633019962, 0.1586045500867523, 0.26293226066420045, 0.4904054127440621, 1.0, 0.2874144796673858, 1.2982518896778976e-06], [0.16356161612806214, -0.01417270837368973, 0.07177474665057637, 0.07732635768572656, 0.34338893284436967, 0.2874144796673858, 1.0, -0.11446825880853712], [0.48974718458294075, 0.03008687606926851, -0.0815373070341381, 0.05767427613088654, 0.03842202742622353, 1.2982518896778976e-06, -0.11446825880853712, 1.0]]}],\n",
       "                        {\"template\": {\"data\": {\"bar\": [{\"error_x\": {\"color\": \"#2a3f5f\"}, \"error_y\": {\"color\": \"#2a3f5f\"}, \"marker\": {\"line\": {\"color\": \"#E5ECF6\", \"width\": 0.5}}, \"type\": \"bar\"}], \"barpolar\": [{\"marker\": {\"line\": {\"color\": \"#E5ECF6\", \"width\": 0.5}}, \"type\": \"barpolar\"}], \"carpet\": [{\"aaxis\": {\"endlinecolor\": \"#2a3f5f\", \"gridcolor\": \"white\", \"linecolor\": \"white\", \"minorgridcolor\": \"white\", \"startlinecolor\": \"#2a3f5f\"}, \"baxis\": {\"endlinecolor\": \"#2a3f5f\", \"gridcolor\": \"white\", \"linecolor\": \"white\", \"minorgridcolor\": \"white\", \"startlinecolor\": \"#2a3f5f\"}, \"type\": \"carpet\"}], \"choropleth\": [{\"colorbar\": {\"outlinewidth\": 0, \"ticks\": \"\"}, \"type\": \"choropleth\"}], \"contour\": [{\"colorbar\": {\"outlinewidth\": 0, \"ticks\": \"\"}, \"colorscale\": [[0.0, \"#0d0887\"], [0.1111111111111111, \"#46039f\"], [0.2222222222222222, \"#7201a8\"], [0.3333333333333333, \"#9c179e\"], [0.4444444444444444, \"#bd3786\"], [0.5555555555555556, \"#d8576b\"], [0.6666666666666666, \"#ed7953\"], [0.7777777777777778, \"#fb9f3a\"], [0.8888888888888888, \"#fdca26\"], [1.0, \"#f0f921\"]], \"type\": \"contour\"}], \"contourcarpet\": [{\"colorbar\": {\"outlinewidth\": 0, \"ticks\": \"\"}, \"type\": \"contourcarpet\"}], \"heatmap\": [{\"colorbar\": {\"outlinewidth\": 0, \"ticks\": \"\"}, \"colorscale\": [[0.0, \"#0d0887\"], [0.1111111111111111, \"#46039f\"], [0.2222222222222222, \"#7201a8\"], [0.3333333333333333, \"#9c179e\"], [0.4444444444444444, \"#bd3786\"], [0.5555555555555556, \"#d8576b\"], [0.6666666666666666, \"#ed7953\"], [0.7777777777777778, \"#fb9f3a\"], [0.8888888888888888, \"#fdca26\"], [1.0, \"#f0f921\"]], \"type\": \"heatmap\"}], \"heatmapgl\": [{\"colorbar\": {\"outlinewidth\": 0, \"ticks\": \"\"}, \"colorscale\": [[0.0, \"#0d0887\"], [0.1111111111111111, \"#46039f\"], [0.2222222222222222, \"#7201a8\"], [0.3333333333333333, \"#9c179e\"], [0.4444444444444444, \"#bd3786\"], [0.5555555555555556, \"#d8576b\"], [0.6666666666666666, \"#ed7953\"], [0.7777777777777778, \"#fb9f3a\"], [0.8888888888888888, \"#fdca26\"], [1.0, \"#f0f921\"]], \"type\": \"heatmapgl\"}], \"histogram\": [{\"marker\": {\"colorbar\": {\"outlinewidth\": 0, \"ticks\": \"\"}}, \"type\": \"histogram\"}], \"histogram2d\": [{\"colorbar\": {\"outlinewidth\": 0, \"ticks\": \"\"}, \"colorscale\": [[0.0, \"#0d0887\"], [0.1111111111111111, \"#46039f\"], [0.2222222222222222, \"#7201a8\"], [0.3333333333333333, \"#9c179e\"], [0.4444444444444444, \"#bd3786\"], [0.5555555555555556, \"#d8576b\"], [0.6666666666666666, \"#ed7953\"], [0.7777777777777778, \"#fb9f3a\"], [0.8888888888888888, \"#fdca26\"], [1.0, \"#f0f921\"]], \"type\": \"histogram2d\"}], \"histogram2dcontour\": [{\"colorbar\": {\"outlinewidth\": 0, \"ticks\": \"\"}, \"colorscale\": [[0.0, \"#0d0887\"], [0.1111111111111111, \"#46039f\"], [0.2222222222222222, \"#7201a8\"], [0.3333333333333333, \"#9c179e\"], [0.4444444444444444, \"#bd3786\"], [0.5555555555555556, \"#d8576b\"], [0.6666666666666666, \"#ed7953\"], [0.7777777777777778, \"#fb9f3a\"], [0.8888888888888888, \"#fdca26\"], [1.0, \"#f0f921\"]], \"type\": \"histogram2dcontour\"}], \"mesh3d\": [{\"colorbar\": {\"outlinewidth\": 0, \"ticks\": \"\"}, \"type\": \"mesh3d\"}], \"parcoords\": [{\"line\": {\"colorbar\": {\"outlinewidth\": 0, \"ticks\": \"\"}}, \"type\": \"parcoords\"}], \"scatter\": [{\"marker\": {\"colorbar\": {\"outlinewidth\": 0, \"ticks\": \"\"}}, \"type\": \"scatter\"}], \"scatter3d\": [{\"line\": {\"colorbar\": {\"outlinewidth\": 0, \"ticks\": \"\"}}, \"marker\": {\"colorbar\": {\"outlinewidth\": 0, \"ticks\": \"\"}}, \"type\": \"scatter3d\"}], \"scattercarpet\": [{\"marker\": {\"colorbar\": {\"outlinewidth\": 0, \"ticks\": \"\"}}, \"type\": \"scattercarpet\"}], \"scattergeo\": [{\"marker\": {\"colorbar\": {\"outlinewidth\": 0, \"ticks\": \"\"}}, \"type\": \"scattergeo\"}], \"scattergl\": [{\"marker\": {\"colorbar\": {\"outlinewidth\": 0, \"ticks\": \"\"}}, \"type\": \"scattergl\"}], \"scattermapbox\": [{\"marker\": {\"colorbar\": {\"outlinewidth\": 0, \"ticks\": \"\"}}, \"type\": \"scattermapbox\"}], \"scatterpolar\": [{\"marker\": {\"colorbar\": {\"outlinewidth\": 0, \"ticks\": \"\"}}, \"type\": \"scatterpolar\"}], \"scatterpolargl\": [{\"marker\": {\"colorbar\": {\"outlinewidth\": 0, \"ticks\": \"\"}}, \"type\": \"scatterpolargl\"}], \"scatterternary\": [{\"marker\": {\"colorbar\": {\"outlinewidth\": 0, \"ticks\": \"\"}}, \"type\": \"scatterternary\"}], \"surface\": [{\"colorbar\": {\"outlinewidth\": 0, \"ticks\": \"\"}, \"colorscale\": [[0.0, \"#0d0887\"], [0.1111111111111111, \"#46039f\"], [0.2222222222222222, \"#7201a8\"], [0.3333333333333333, \"#9c179e\"], [0.4444444444444444, \"#bd3786\"], [0.5555555555555556, \"#d8576b\"], [0.6666666666666666, \"#ed7953\"], [0.7777777777777778, \"#fb9f3a\"], [0.8888888888888888, \"#fdca26\"], [1.0, \"#f0f921\"]], \"type\": \"surface\"}], \"table\": [{\"cells\": {\"fill\": {\"color\": \"#EBF0F8\"}, \"line\": {\"color\": \"white\"}}, \"header\": {\"fill\": {\"color\": \"#C8D4E3\"}, \"line\": {\"color\": \"white\"}}, \"type\": \"table\"}]}, \"layout\": {\"annotationdefaults\": {\"arrowcolor\": \"#2a3f5f\", \"arrowhead\": 0, \"arrowwidth\": 1}, \"colorscale\": {\"diverging\": [[0, \"#8e0152\"], [0.1, \"#c51b7d\"], [0.2, \"#de77ae\"], [0.3, \"#f1b6da\"], [0.4, \"#fde0ef\"], [0.5, \"#f7f7f7\"], [0.6, \"#e6f5d0\"], [0.7, \"#b8e186\"], [0.8, \"#7fbc41\"], [0.9, \"#4d9221\"], [1, \"#276419\"]], \"sequential\": [[0.0, \"#0d0887\"], [0.1111111111111111, \"#46039f\"], [0.2222222222222222, \"#7201a8\"], [0.3333333333333333, \"#9c179e\"], [0.4444444444444444, \"#bd3786\"], [0.5555555555555556, \"#d8576b\"], [0.6666666666666666, \"#ed7953\"], [0.7777777777777778, \"#fb9f3a\"], [0.8888888888888888, \"#fdca26\"], [1.0, \"#f0f921\"]], \"sequentialminus\": [[0.0, \"#0d0887\"], [0.1111111111111111, \"#46039f\"], [0.2222222222222222, \"#7201a8\"], [0.3333333333333333, \"#9c179e\"], [0.4444444444444444, \"#bd3786\"], [0.5555555555555556, \"#d8576b\"], [0.6666666666666666, \"#ed7953\"], [0.7777777777777778, \"#fb9f3a\"], [0.8888888888888888, \"#fdca26\"], [1.0, \"#f0f921\"]]}, \"colorway\": [\"#636efa\", \"#EF553B\", \"#00cc96\", \"#ab63fa\", \"#FFA15A\", \"#19d3f3\", \"#FF6692\", \"#B6E880\", \"#FF97FF\", \"#FECB52\"], \"font\": {\"color\": \"#2a3f5f\"}, \"geo\": {\"bgcolor\": \"white\", \"lakecolor\": \"white\", \"landcolor\": \"#E5ECF6\", \"showlakes\": true, \"showland\": true, \"subunitcolor\": \"white\"}, \"hoverlabel\": {\"align\": \"left\"}, \"hovermode\": \"closest\", \"mapbox\": {\"style\": \"light\"}, \"paper_bgcolor\": \"white\", \"plot_bgcolor\": \"#E5ECF6\", \"polar\": {\"angularaxis\": {\"gridcolor\": \"white\", \"linecolor\": \"white\", \"ticks\": \"\"}, \"bgcolor\": \"#E5ECF6\", \"radialaxis\": {\"gridcolor\": \"white\", \"linecolor\": \"white\", \"ticks\": \"\"}}, \"scene\": {\"xaxis\": {\"backgroundcolor\": \"#E5ECF6\", \"gridcolor\": \"white\", \"gridwidth\": 2, \"linecolor\": \"white\", \"showbackground\": true, \"ticks\": \"\", \"zerolinecolor\": \"white\"}, \"yaxis\": {\"backgroundcolor\": \"#E5ECF6\", \"gridcolor\": \"white\", \"gridwidth\": 2, \"linecolor\": \"white\", \"showbackground\": true, \"ticks\": \"\", \"zerolinecolor\": \"white\"}, \"zaxis\": {\"backgroundcolor\": \"#E5ECF6\", \"gridcolor\": \"white\", \"gridwidth\": 2, \"linecolor\": \"white\", \"showbackground\": true, \"ticks\": \"\", \"zerolinecolor\": \"white\"}}, \"shapedefaults\": {\"line\": {\"color\": \"#2a3f5f\"}}, \"ternary\": {\"aaxis\": {\"gridcolor\": \"white\", \"linecolor\": \"white\", \"ticks\": \"\"}, \"baxis\": {\"gridcolor\": \"white\", \"linecolor\": \"white\", \"ticks\": \"\"}, \"bgcolor\": \"#E5ECF6\", \"caxis\": {\"gridcolor\": \"white\", \"linecolor\": \"white\", \"ticks\": \"\"}}, \"title\": {\"x\": 0.05}, \"xaxis\": {\"automargin\": true, \"gridcolor\": \"white\", \"linecolor\": \"white\", \"ticks\": \"\", \"zerolinecolor\": \"white\", \"zerolinewidth\": 2}, \"yaxis\": {\"automargin\": true, \"gridcolor\": \"white\", \"linecolor\": \"white\", \"ticks\": \"\", \"zerolinecolor\": \"white\", \"zerolinewidth\": 2}}}},\n",
       "                        {\"responsive\": true}\n",
       "                    ).then(function(){\n",
       "                            \n",
       "var gd = document.getElementById('2bc00597-08b1-4e09-baf5-7b964727a2b1');\n",
       "var x = new MutationObserver(function (mutations, observer) {{\n",
       "        var display = window.getComputedStyle(gd).display;\n",
       "        if (!display || display === 'none') {{\n",
       "            console.log([gd, 'removed!']);\n",
       "            Plotly.purge(gd);\n",
       "            observer.disconnect();\n",
       "        }}\n",
       "}});\n",
       "\n",
       "// Listen for the removal of the full notebook cells\n",
       "var notebookContainer = gd.closest('#notebook-container');\n",
       "if (notebookContainer) {{\n",
       "    x.observe(notebookContainer, {childList: true});\n",
       "}}\n",
       "\n",
       "// Listen for the clearing of the current output cell\n",
       "var outputEl = gd.closest('.output');\n",
       "if (outputEl) {{\n",
       "    x.observe(outputEl, {childList: true});\n",
       "}}\n",
       "\n",
       "                        })\n",
       "                };\n",
       "                });\n",
       "            </script>\n",
       "        </div>"
      ]
     },
     "metadata": {},
     "output_type": "display_data"
    }
   ],
   "source": [
    "drop_rank = happiness.drop(\"happiness_rank\", axis = 1)\n",
    "\n",
    "corr_matrix_happy = drop_rank.corr()\n",
    "trace_corr_happy  = go.Heatmap(z = np.array(corr_matrix_happy),\n",
    "                               x = corr_matrix_happy.columns,\n",
    "                               y = corr_matrix_happy.columns)\n",
    "data_happy = [trace_corr_happy]\n",
    "iplot(data_happy)"
   ]
  },
  {
   "cell_type": "code",
   "execution_count": 10,
   "metadata": {},
   "outputs": [
    {
     "data": {
      "text/html": [
       "<div>\n",
       "<style scoped>\n",
       "    .dataframe tbody tr th:only-of-type {\n",
       "        vertical-align: middle;\n",
       "    }\n",
       "\n",
       "    .dataframe tbody tr th {\n",
       "        vertical-align: top;\n",
       "    }\n",
       "\n",
       "    .dataframe thead th {\n",
       "        text-align: right;\n",
       "    }\n",
       "</style>\n",
       "<table border=\"1\" class=\"dataframe\">\n",
       "  <thead>\n",
       "    <tr style=\"text-align: right;\">\n",
       "      <th></th>\n",
       "      <th>happiness_score</th>\n",
       "      <th>economy</th>\n",
       "      <th>family</th>\n",
       "      <th>health</th>\n",
       "      <th>freedom</th>\n",
       "      <th>trust</th>\n",
       "      <th>generosity</th>\n",
       "      <th>dystopia_residual</th>\n",
       "    </tr>\n",
       "  </thead>\n",
       "  <tbody>\n",
       "    <tr>\n",
       "      <td>0</td>\n",
       "      <td>7.587</td>\n",
       "      <td>1.39651</td>\n",
       "      <td>1.34951</td>\n",
       "      <td>0.94143</td>\n",
       "      <td>0.66557</td>\n",
       "      <td>0.41978</td>\n",
       "      <td>0.29678</td>\n",
       "      <td>2.51738</td>\n",
       "    </tr>\n",
       "    <tr>\n",
       "      <td>1</td>\n",
       "      <td>7.561</td>\n",
       "      <td>1.30232</td>\n",
       "      <td>1.40223</td>\n",
       "      <td>0.94784</td>\n",
       "      <td>0.62877</td>\n",
       "      <td>0.14145</td>\n",
       "      <td>0.43630</td>\n",
       "      <td>2.70201</td>\n",
       "    </tr>\n",
       "    <tr>\n",
       "      <td>2</td>\n",
       "      <td>7.527</td>\n",
       "      <td>1.32548</td>\n",
       "      <td>1.36058</td>\n",
       "      <td>0.87464</td>\n",
       "      <td>0.64938</td>\n",
       "      <td>0.48357</td>\n",
       "      <td>0.34139</td>\n",
       "      <td>2.49204</td>\n",
       "    </tr>\n",
       "    <tr>\n",
       "      <td>3</td>\n",
       "      <td>7.522</td>\n",
       "      <td>1.45900</td>\n",
       "      <td>1.33095</td>\n",
       "      <td>0.88521</td>\n",
       "      <td>0.66973</td>\n",
       "      <td>0.36503</td>\n",
       "      <td>0.34699</td>\n",
       "      <td>2.46531</td>\n",
       "    </tr>\n",
       "    <tr>\n",
       "      <td>4</td>\n",
       "      <td>7.427</td>\n",
       "      <td>1.32629</td>\n",
       "      <td>1.32261</td>\n",
       "      <td>0.90563</td>\n",
       "      <td>0.63297</td>\n",
       "      <td>0.32957</td>\n",
       "      <td>0.45811</td>\n",
       "      <td>2.45176</td>\n",
       "    </tr>\n",
       "  </tbody>\n",
       "</table>\n",
       "</div>"
      ],
      "text/plain": [
       "   happiness_score  economy   family   health  freedom    trust  generosity  \\\n",
       "0            7.587  1.39651  1.34951  0.94143  0.66557  0.41978     0.29678   \n",
       "1            7.561  1.30232  1.40223  0.94784  0.62877  0.14145     0.43630   \n",
       "2            7.527  1.32548  1.36058  0.87464  0.64938  0.48357     0.34139   \n",
       "3            7.522  1.45900  1.33095  0.88521  0.66973  0.36503     0.34699   \n",
       "4            7.427  1.32629  1.32261  0.90563  0.63297  0.32957     0.45811   \n",
       "\n",
       "   dystopia_residual  \n",
       "0            2.51738  \n",
       "1            2.70201  \n",
       "2            2.49204  \n",
       "3            2.46531  \n",
       "4            2.45176  "
      ]
     },
     "execution_count": 10,
     "metadata": {},
     "output_type": "execute_result"
    }
   ],
   "source": [
    "drop_happy = happiness.drop(['country', 'happiness_rank'], axis = 1)\n",
    "drop_happy.head()"
   ]
  },
  {
   "cell_type": "code",
   "execution_count": 11,
   "metadata": {},
   "outputs": [],
   "source": [
    "x = drop_happy.drop(['happiness_score'], axis = 1) #to keep independent variables\n",
    "y = drop_happy['happiness_score'] #dependent variables\n",
    "\n",
    "from sklearn.model_selection import train_test_split\n",
    "x_train, x_test, y_train, y_test = train_test_split(x, y, test_size = 0.2)"
   ]
  },
  {
   "cell_type": "code",
   "execution_count": 12,
   "metadata": {},
   "outputs": [
    {
     "data": {
      "text/plain": [
       "LinearRegression(copy_X=True, fit_intercept=True, n_jobs=None, normalize=False)"
      ]
     },
     "execution_count": 12,
     "metadata": {},
     "output_type": "execute_result"
    }
   ],
   "source": [
    "from sklearn.linear_model import LinearRegression\n",
    "\n",
    "lm = LinearRegression()\n",
    "lm.fit(x_train, y_train)"
   ]
  },
  {
   "cell_type": "code",
   "execution_count": 13,
   "metadata": {},
   "outputs": [
    {
     "data": {
      "text/html": [
       "<div>\n",
       "<style scoped>\n",
       "    .dataframe tbody tr th:only-of-type {\n",
       "        vertical-align: middle;\n",
       "    }\n",
       "\n",
       "    .dataframe tbody tr th {\n",
       "        vertical-align: top;\n",
       "    }\n",
       "\n",
       "    .dataframe thead th {\n",
       "        text-align: right;\n",
       "    }\n",
       "</style>\n",
       "<table border=\"1\" class=\"dataframe\">\n",
       "  <thead>\n",
       "    <tr style=\"text-align: right;\">\n",
       "      <th></th>\n",
       "      <th>Actual</th>\n",
       "      <th>Predict</th>\n",
       "      <th>Diff</th>\n",
       "    </tr>\n",
       "  </thead>\n",
       "  <tbody>\n",
       "    <tr>\n",
       "      <td>44</td>\n",
       "      <td>5.995</td>\n",
       "      <td>5.995052</td>\n",
       "      <td>-0.000052</td>\n",
       "    </tr>\n",
       "    <tr>\n",
       "      <td>66</td>\n",
       "      <td>5.615</td>\n",
       "      <td>5.615420</td>\n",
       "      <td>-0.000420</td>\n",
       "    </tr>\n",
       "    <tr>\n",
       "      <td>137</td>\n",
       "      <td>3.875</td>\n",
       "      <td>3.874587</td>\n",
       "      <td>0.000413</td>\n",
       "    </tr>\n",
       "    <tr>\n",
       "      <td>156</td>\n",
       "      <td>2.905</td>\n",
       "      <td>2.904540</td>\n",
       "      <td>0.000460</td>\n",
       "    </tr>\n",
       "    <tr>\n",
       "      <td>134</td>\n",
       "      <td>4.028</td>\n",
       "      <td>4.028300</td>\n",
       "      <td>-0.000300</td>\n",
       "    </tr>\n",
       "  </tbody>\n",
       "</table>\n",
       "</div>"
      ],
      "text/plain": [
       "     Actual   Predict      Diff\n",
       "44    5.995  5.995052 -0.000052\n",
       "66    5.615  5.615420 -0.000420\n",
       "137   3.875  3.874587  0.000413\n",
       "156   2.905  2.904540  0.000460\n",
       "134   4.028  4.028300 -0.000300"
      ]
     },
     "execution_count": 13,
     "metadata": {},
     "output_type": "execute_result"
    }
   ],
   "source": [
    "y_pred    = lm.predict(x_test)\n",
    "result_lm = pd.DataFrame({'Actual'  : y_test,\n",
    "                          'Predict' : y_pred})\n",
    "\n",
    "result_lm['Diff'] = y_test - y_pred\n",
    "result_lm.head()"
   ]
  },
  {
   "cell_type": "code",
   "execution_count": 14,
   "metadata": {},
   "outputs": [
    {
     "name": "stdout",
     "output_type": "stream",
     "text": [
      "estimated intercept is 7.44647287937994e-05\n",
      "the number of coefficients in this model are [1.00015173 0.99995696 0.99978064 0.99987679 0.99975951 1.00027341\n",
      " 0.99998631]\n"
     ]
    }
   ],
   "source": [
    "print(\"estimated intercept is\", lm.intercept_)\n",
    "print('the number of coefficients in this model are', lm.coef_)"
   ]
  },
  {
   "cell_type": "code",
   "execution_count": 15,
   "metadata": {},
   "outputs": [
    {
     "data": {
      "text/html": [
       "<div>\n",
       "<style scoped>\n",
       "    .dataframe tbody tr th:only-of-type {\n",
       "        vertical-align: middle;\n",
       "    }\n",
       "\n",
       "    .dataframe tbody tr th {\n",
       "        vertical-align: top;\n",
       "    }\n",
       "\n",
       "    .dataframe thead th {\n",
       "        text-align: right;\n",
       "    }\n",
       "</style>\n",
       "<table border=\"1\" class=\"dataframe\">\n",
       "  <thead>\n",
       "    <tr style=\"text-align: right;\">\n",
       "      <th></th>\n",
       "      <th>features</th>\n",
       "      <th>coefficients</th>\n",
       "    </tr>\n",
       "  </thead>\n",
       "  <tbody>\n",
       "    <tr>\n",
       "      <td>0</td>\n",
       "      <td>economy</td>\n",
       "      <td>1.000152</td>\n",
       "    </tr>\n",
       "    <tr>\n",
       "      <td>1</td>\n",
       "      <td>family</td>\n",
       "      <td>0.999957</td>\n",
       "    </tr>\n",
       "    <tr>\n",
       "      <td>2</td>\n",
       "      <td>health</td>\n",
       "      <td>0.999781</td>\n",
       "    </tr>\n",
       "    <tr>\n",
       "      <td>3</td>\n",
       "      <td>freedom</td>\n",
       "      <td>0.999877</td>\n",
       "    </tr>\n",
       "    <tr>\n",
       "      <td>4</td>\n",
       "      <td>trust</td>\n",
       "      <td>0.999760</td>\n",
       "    </tr>\n",
       "    <tr>\n",
       "      <td>5</td>\n",
       "      <td>generosity</td>\n",
       "      <td>1.000273</td>\n",
       "    </tr>\n",
       "    <tr>\n",
       "      <td>6</td>\n",
       "      <td>dystopia_residual</td>\n",
       "      <td>0.999986</td>\n",
       "    </tr>\n",
       "  </tbody>\n",
       "</table>\n",
       "</div>"
      ],
      "text/plain": [
       "            features  coefficients\n",
       "0            economy      1.000152\n",
       "1             family      0.999957\n",
       "2             health      0.999781\n",
       "3            freedom      0.999877\n",
       "4              trust      0.999760\n",
       "5         generosity      1.000273\n",
       "6  dystopia_residual      0.999986"
      ]
     },
     "execution_count": 15,
     "metadata": {},
     "output_type": "execute_result"
    }
   ],
   "source": [
    "coef    = zip(x.columns, lm.coef_)\n",
    "coef_df = pd.DataFrame(list(zip(x.columns, lm.coef_)), columns = ['features', 'coefficients'])\n",
    "coef_df"
   ]
  },
  {
   "cell_type": "code",
   "execution_count": 17,
   "metadata": {},
   "outputs": [
    {
     "name": "stdout",
     "output_type": "stream",
     "text": [
      "Mean Absolute Error: 0.0002628331340942512\n",
      "Mean Squared Error: 9.027011800992407e-08\n",
      "Root Mean Squared Error: 0.0003004498593940827\n",
      "variance score: 1.00\n"
     ]
    }
   ],
   "source": [
    "from sklearn.metrics import mean_absolute_error\n",
    "%matplotlib inline\n",
    "\n",
    "print('Mean Absolute Error:',     mean_absolute_error(y_test, y_pred))\n",
    "print('Mean Squared Error:',      mean_squared_error(y_test, y_pred))\n",
    "print('Root Mean Squared Error:', np.sqrt(mean_squared_error(y_test, y_pred)))\n",
    "\n",
    "#variance score : 1 is perfect prediction\n",
    "print('variance score: %.2f' % lm.score(x_test, y_test))"
   ]
  },
  {
   "cell_type": "code",
   "execution_count": 19,
   "metadata": {},
   "outputs": [
    {
     "data": {
      "text/plain": [
       "<matplotlib.axes._subplots.AxesSubplot at 0x1dda8f7d948>"
      ]
     },
     "execution_count": 19,
     "metadata": {},
     "output_type": "execute_result"
    },
    {
     "data": {
      "image/png": "[encoded data removed]",
      "text/plain": [
       "<Figure size 432x288 with 1 Axes>"
      ]
     },
     "metadata": {
      "needs_background": "light"
     },
     "output_type": "display_data"
    }
   ],
   "source": [
    "import seaborn as sns\n",
    "%matplotlib inline\n",
    "\n",
    "sns.regplot(x = 'Actual', y = 'Predict', data = result_lm)"
   ]
  },
  {
   "cell_type": "markdown",
   "metadata": {},
   "source": [
    "The multiple linear regression model for Happines Score are \n",
    "\n",
    "Happiness score = (0.000074464) +               #from intercept value\n",
    "                    (1.000152 * Economy) +      #from economy's coefficients value\n",
    "                    (0.999957 * Family) +       #from family's coefficients value\n",
    "                    (0.999781 * Health) +       #from health's coefficients value\n",
    "                    (0.999877 * Freedom) +      #from freedom's coefficients value\n",
    "                    (0.000760 * Trust) +        #from trust's coefficients value\n",
    "                    (1.000273 * Generosity) +   #from generosity's coefficients value\n",
    "                    (0.999986 * Dystopia) +     #from distopia residual's coefficients value"
   ]
  },
  {
   "cell_type": "code",
   "execution_count": null,
   "metadata": {},
   "outputs": [],
   "source": []
  }
 ],
 "metadata": {
  "kernelspec": {
   "display_name": "Python 3",
   "language": "python",
   "name": "python3"
  },
  "language_info": {
   "codemirror_mode": {
    "name": "ipython",
    "version": 3
   },
   "file_extension": ".py",
   "mimetype": "text/x-python",
   "name": "python",
   "nbconvert_exporter": "python",
   "pygments_lexer": "ipython3",
   "version": "3.7.4"
  }
 },
 "nbformat": 4,
 "nbformat_minor": 2
}
