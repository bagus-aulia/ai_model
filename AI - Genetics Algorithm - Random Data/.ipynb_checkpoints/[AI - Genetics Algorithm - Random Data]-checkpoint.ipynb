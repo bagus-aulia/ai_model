{
 "cells": [
  {
   "cell_type": "code",
   "execution_count": 1,
   "metadata": {},
   "outputs": [],
   "source": [
    "#input of the equation\n",
    "equation_inputs = [4, -2, 3.5, 5, -11, -4.7]\n",
    "\n",
    "#number of the weights we are looking to optimize\n",
    "num_weights = 6"
   ]
  },
  {
   "cell_type": "code",
   "execution_count": 2,
   "metadata": {},
   "outputs": [
    {
     "data": {
      "text/plain": [
       "array([[ 0.23841429,  3.83606984, -3.36179105, -0.82278342, -1.73940156,\n",
       "         1.61394471],\n",
       "       [ 1.80517939,  2.49530533,  2.58900756, -2.71682379, -2.703311  ,\n",
       "         1.31569773],\n",
       "       [-1.77101928,  3.83095773,  1.07719086,  3.90691836,  3.06377113,\n",
       "         1.58163815],\n",
       "       [-2.14753093,  1.70648839, -1.15873007,  3.52833849,  3.49534436,\n",
       "        -1.45295533],\n",
       "       [-2.10394107,  1.82478242,  2.88835624,  0.46945395, -2.56415357,\n",
       "        -3.87961213],\n",
       "       [ 0.03368997,  2.82433241, -1.23678251,  3.19145739,  1.05719116,\n",
       "         1.0859394 ],\n",
       "       [-0.53631204,  0.48681201, -0.09423735, -2.67049837, -1.53287535,\n",
       "        -0.24976537],\n",
       "       [-1.68850359, -3.90762134,  2.54864505, -1.25761777, -0.19390417,\n",
       "        -1.19773517]])"
      ]
     },
     "execution_count": 2,
     "metadata": {},
     "output_type": "execute_result"
    }
   ],
   "source": [
    "import numpy as py\n",
    "\n",
    "sol_per_pop = 8\n",
    "#defining the population size\n",
    "\n",
    "pop_size = (sol_per_pop, num_weights) \n",
    "#the population will have sol_per_pop chromosome where each chromosome has num_weights genes\n",
    "\n",
    "#Creating the initial population\n",
    "new_population = py.random.uniform(low = -4.0, high = 4.0, size = pop_size)\n",
    "\n",
    "new_population"
   ]
  },
  {
   "cell_type": "code",
   "execution_count": 3,
   "metadata": {},
   "outputs": [],
   "source": [
    "def cal_pop_fitness(equation_inputs, pop) :\n",
    "    #calculating the fitness value of each solution in the current population\n",
    "    #the fitnes function calculates the sum of produts between each input and its corresponding weight\n",
    "    fitness = py.sum(pop * equation_inputs, axis = 1)\n",
    "    \n",
    "    return fitness"
   ]
  },
  {
   "cell_type": "code",
   "execution_count": 4,
   "metadata": {},
   "outputs": [],
   "source": [
    "def select_mating_pool(pop, fitness, num_parents):\n",
    "    #selecting the best individuals in the current generation as parents for producing the offspring of the next generation\n",
    "    parents = py.empty((num_parents, pop.shape[1]))\n",
    "    \n",
    "    for parent_num in range(num_parents):\n",
    "        max_fitness_idx = py.where(fitness == py.max(fitness))\n",
    "        max_fitness_idx = max_fitness_idx[0][0]\n",
    "        \n",
    "        parents[parent_num, :]  = pop[max_fitness_idx, :]\n",
    "        fitness[max_fitness_idx] = -99999999999\n",
    "        \n",
    "    return parents"
   ]
  },
  {
   "cell_type": "code",
   "execution_count": 5,
   "metadata": {},
   "outputs": [],
   "source": [
    "def crossover(parents, offspring_size):\n",
    "    offspring = py.empty(offspring_size)\n",
    "    \n",
    "    #the point at which crossover takes place between two parents. Usually, it is at the center.\n",
    "    crossover_point = py.uint8(offspring_size[1]/2)\n",
    "    \n",
    "    for k in range(offspring_size[0]):\n",
    "        #index of the first parent to mate\n",
    "        parent1_idx = k % parents.shape[0]\n",
    "        \n",
    "        #index of the second parent to mate\n",
    "        parent2_idx = (k + 1) % parents.shape[0]\n",
    "        \n",
    "        #the new offspring will have its first half of its genes taken from the first parent\n",
    "        offspring[k, 0:crossover_point] = parents[parent1_idx, 0:crossover_point]\n",
    "        \n",
    "        #the new offspring will have its second half of its genes taken from the second parent\n",
    "        offspring[k, crossover_point:] = parents[parent2_idx, crossover_point:]\n",
    "        \n",
    "    return offspring"
   ]
  },
  {
   "cell_type": "code",
   "execution_count": 6,
   "metadata": {},
   "outputs": [],
   "source": [
    "def mutation(offspring_crossover):\n",
    "    #mutation changes a single gene on each offspring randomly\n",
    "    \n",
    "    for idx in range(offspring_crossover.shape[0]):\n",
    "        #the random value to be added to the gene\n",
    "        random_value = py.random.uniform(-1.0, 1.0, 1)\n",
    "        \n",
    "        offspring_crossover[idx, 4] = offspring_crossover[idx, 4] + random_value\n",
    "        \n",
    "    return offspring_crossover"
   ]
  },
  {
   "cell_type": "code",
   "execution_count": 7,
   "metadata": {},
   "outputs": [
    {
     "name": "stdout",
     "output_type": "stream",
     "text": [
      "Best result :  50.12916332732799\n",
      "Best result :  72.12277302080093\n",
      "Best result :  72.44365953087251\n",
      "Best result :  88.77068783007073\n",
      "Best result :  92.28228951575291\n"
     ]
    }
   ],
   "source": [
    "num_generations    = 5\n",
    "num_parents_mating = 4\n",
    "\n",
    "for generation in range(num_generations) :\n",
    "    #Measuring the fitness of each chromosome in the population\n",
    "    fitness = cal_pop_fitness(equation_inputs, new_population)\n",
    "    \n",
    "    #selecting the best parents in the population for mating\n",
    "    parents = select_mating_pool(new_population, fitness, num_parents_mating)\n",
    "    \n",
    "    #generating next generation using crossover\n",
    "    offspring_crossover = crossover(parents, offspring_size = (pop_size[0] - parents.shape[0], num_weights))\n",
    "    \n",
    "    #Adding some variations to the offspring using mutation\n",
    "    offspring_mutation = mutation(offspring_crossover)\n",
    "    \n",
    "    #creating the new population based on the parents and offspring\n",
    "    new_population[0:parents.shape[0], :] = parents\n",
    "    new_population[parents.shape[0]:, :]  = offspring_mutation\n",
    "    \n",
    "    #the bet result in the current iteration\n",
    "    print('Best result : ', py.max(py.sum(new_population * equation_inputs, axis = 1)))"
   ]
  },
  {
   "cell_type": "code",
   "execution_count": 8,
   "metadata": {},
   "outputs": [
    {
     "data": {
      "text/plain": [
       "array([88.77068783, 81.84972029, 72.44365953, 72.12277302, 76.12073155,\n",
       "       75.01242124, 82.18282633, 92.28228952])"
      ]
     },
     "execution_count": 8,
     "metadata": {},
     "output_type": "execute_result"
    }
   ],
   "source": [
    "#Getting the best solution afteriterating finishing all generations\n",
    "#At first, the fitness is calculated for each solution in the final generation\n",
    "fitness = cal_pop_fitness(equation_inputs, new_population)\n",
    "\n",
    "fitness"
   ]
  },
  {
   "cell_type": "code",
   "execution_count": 9,
   "metadata": {},
   "outputs": [
    {
     "data": {
      "text/plain": [
       "(array([7]),)"
      ]
     },
     "execution_count": 9,
     "metadata": {},
     "output_type": "execute_result"
    }
   ],
   "source": [
    "#then return the index of that solution corresponding to the best fitness\n",
    "best_match_idx = py.where(fitness == py.max(fitness))\n",
    "\n",
    "best_match_idx"
   ]
  },
  {
   "cell_type": "code",
   "execution_count": 10,
   "metadata": {},
   "outputs": [
    {
     "name": "stdout",
     "output_type": "stream",
     "text": [
      "Best solution :  [[[ 1.80517939  2.49530533  2.58900756  0.46945395 -5.49174631\n",
      "   -3.87961213]]]\n",
      "Best solution fitness :  [92.28228952]\n"
     ]
    }
   ],
   "source": [
    "print('Best solution : ', new_population[best_match_idx, :])\n",
    "print('Best solution fitness : ', fitness[best_match_idx])"
   ]
  },
  {
   "cell_type": "code",
   "execution_count": null,
   "metadata": {},
   "outputs": [],
   "source": []
  }
 ],
 "metadata": {
  "kernelspec": {
   "display_name": "Python 3",
   "language": "python",
   "name": "python3"
  },
  "language_info": {
   "codemirror_mode": {
    "name": "ipython",
    "version": 3
   },
   "file_extension": ".py",
   "mimetype": "text/x-python",
   "name": "python",
   "nbconvert_exporter": "python",
   "pygments_lexer": "ipython3",
   "version": "3.7.4"
  }
 },
 "nbformat": 4,
 "nbformat_minor": 2
}
