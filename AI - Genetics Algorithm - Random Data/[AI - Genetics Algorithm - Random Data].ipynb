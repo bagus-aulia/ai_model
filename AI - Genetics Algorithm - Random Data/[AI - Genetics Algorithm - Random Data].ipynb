{
 "cells": [
  {
   "cell_type": "code",
   "execution_count": 2,
   "metadata": {},
   "outputs": [],
   "source": [
    "#input of the equation\n",
    "equation_inputs = [4, -2, 3.5, 5, -11, -4.7]\n",
    "\n",
    "#number of the weights we are looking to optimize\n",
    "num_weights = 6"
   ]
  },
  {
   "cell_type": "code",
   "execution_count": 3,
   "metadata": {},
   "outputs": [
    {
     "data": {
      "text/plain": [
       "array([[ 0.17070453, -0.93276964,  1.1660038 ,  3.78419896,  3.48702156,\n",
       "         0.71122733],\n",
       "       [ 2.52534209,  1.02901947, -3.98989274, -1.32101462,  1.05752491,\n",
       "        -3.79364782],\n",
       "       [-2.85390607, -3.42714355, -3.26224655, -3.59416113, -2.41304057,\n",
       "         3.02766118],\n",
       "       [-2.3491131 , -2.88455323,  0.89873699, -3.0583198 , -3.31037412,\n",
       "         3.31896504],\n",
       "       [ 2.88247469, -1.95523755, -3.63385794, -1.19356809,  0.4386998 ,\n",
       "        -1.65659121],\n",
       "       [ 1.0776529 ,  2.73036682,  3.68645404,  3.24692763,  0.94312102,\n",
       "         0.51188162],\n",
       "       [ 0.98191308, -3.00840383, -3.07685008,  1.89542187,  3.35430237,\n",
       "        -1.26415444],\n",
       "       [ 0.61122964,  3.03735341, -0.50814965, -2.96219989,  3.53027438,\n",
       "        -3.97311938]])"
      ]
     },
     "execution_count": 3,
     "metadata": {},
     "output_type": "execute_result"
    }
   ],
   "source": [
    "import numpy as py\n",
    "\n",
    "sol_per_pop = 8\n",
    "#defining the population size\n",
    "\n",
    "pop_size = (sol_per_pop, num_weights) \n",
    "#the population will have sol_per_pop chromosome where each chromosome has num_weights genes\n",
    "\n",
    "#Creating the initial population\n",
    "new_population = py.random.uniform(low = -4.0, high = 4.0, size = pop_size)\n",
    "\n",
    "new_population"
   ]
  },
  {
   "cell_type": "code",
   "execution_count": 5,
   "metadata": {},
   "outputs": [],
   "source": [
    "def cal_pop_fitness(equation_inputs, pop) :\n",
    "    #calculating the fitness value of each solution in the current population\n",
    "    #the fitnes function calculates the sum of produts between each input and its corresponding weight\n",
    "    fitness = py.sum(pop * equation_inputs, axis = 1)\n",
    "    \n",
    "    return fitness"
   ]
  },
  {
   "cell_type": "code",
   "execution_count": 15,
   "metadata": {},
   "outputs": [],
   "source": [
    "def select_mating_pool(pop, fitness, num_parents):\n",
    "    #selecting the best individuals in the current generation as parents for producing the offspring of the next generation\n",
    "    parents = py.empty((num_parents, pop.shape[1]))\n",
    "    \n",
    "    for parent_num in range(num_parents):\n",
    "        max_fitness_idx = py.where(fitness == py.max(fitness))\n",
    "        max_fitness_idx = max_fitness_idx[0][0]\n",
    "        \n",
    "        parents[parent_num, :]  = pop[max_fitness_idx, :]\n",
    "        fitness[max_fitness_idx] = -99999999999\n",
    "        \n",
    "    return parents"
   ]
  },
  {
   "cell_type": "code",
   "execution_count": 16,
   "metadata": {},
   "outputs": [],
   "source": [
    "def crossover(parents, offspring_size):\n",
    "    offspring = py.empty(offspring_size)\n",
    "    \n",
    "    #the point at which crossover takes place between two parents. Usually, it is at the center.\n",
    "    crossover_point = py.uint8(offspring_size[1]/2)\n",
    "    \n",
    "    for k in range(offspring_size[0]):\n",
    "        #index of the first parent to mate\n",
    "        parent1_idx = k % parents.shape[0]\n",
    "        \n",
    "        #index of the second parent to mate\n",
    "        parent2_idx = (k + 1) % parents.shape[0]\n",
    "        \n",
    "        #the new offspring will have its first half of its genes taken from the first parent\n",
    "        offspring[k, 0:crossover_point] = parents[parent1_idx, 0:crossover_point]\n",
    "        \n",
    "        #the new offspring will have its second half of its genes taken from the second parent\n",
    "        offspring[k, crossover_point:] = parents[parent2_idx, crossover_point:]\n",
    "        \n",
    "    return offspring"
   ]
  },
  {
   "cell_type": "code",
   "execution_count": 17,
   "metadata": {},
   "outputs": [],
   "source": [
    "def mutation(offspring_crossover):\n",
    "    #mutation changes a single gene on each offspring randomly\n",
    "    \n",
    "    for idx in range(offspring_crossover.shape[0]):\n",
    "        #the random value to be added to the gene\n",
    "        random_value = py.random.uniform(-1.0, 1.0, 1)\n",
    "        \n",
    "        offspring_crossover[idx, 4] = offspring_crossover[idx, 4] + random_value\n",
    "        \n",
    "    return offspring_crossover"
   ]
  },
  {
   "cell_type": "code",
   "execution_count": 26,
   "metadata": {},
   "outputs": [
    {
     "name": "stdout",
     "output_type": "stream",
     "text": [
      "Best result :  57.349326813750686\n",
      "Best result :  64.54650042909245\n",
      "Best result :  68.30565868131995\n",
      "Best result :  68.30565868131995\n",
      "Best result :  70.40662460987673\n"
     ]
    }
   ],
   "source": [
    "num_generations    = 5\n",
    "num_parents_mating = 4\n",
    "\n",
    "for generation in range(num_generations) :\n",
    "    #Measuring the fitness of each chromosome in the population\n",
    "    fitness = cal_pop_fitness(equation_inputs, new_population)\n",
    "    \n",
    "    #selecting the best parents in the population for mating\n",
    "    parents = select_mating_pool(new_population, fitness, num_parents_mating)\n",
    "    \n",
    "    #generating next generation using crossover\n",
    "    offspring_crossover = crossover(parents, offspring_size = (pop_size[0] - parents.shape[0], num_weights))\n",
    "    \n",
    "    #Adding some variations to the offspring using mutation\n",
    "    offspring_mutation = mutation(offspring_crossover)\n",
    "    \n",
    "    #creating the new population based on the parents and offspring\n",
    "    new_population[0:parents.shape[0], :] = parents\n",
    "    new_population[parents.shape[0]:, :]  = offspring_mutation\n",
    "    \n",
    "    #the bet result in the current iteration\n",
    "    print('Best result : ', py.max(py.sum(new_population * equation_inputs, axis = 1)))"
   ]
  },
  {
   "cell_type": "code",
   "execution_count": 27,
   "metadata": {},
   "outputs": [
    {
     "data": {
      "text/plain": [
       "array([68.30565868, 67.96240231, 64.94662326, 64.84815997, 70.40662461,\n",
       "       58.97233659, 67.60142142, 64.81731467])"
      ]
     },
     "execution_count": 27,
     "metadata": {},
     "output_type": "execute_result"
    }
   ],
   "source": [
    "#Getting the best solution afteriterating finishing all generations\n",
    "#At first, the fitness is calculated for each solution in the final generation\n",
    "fitness = cal_pop_fitness(equation_inputs, new_population)\n",
    "\n",
    "fitness"
   ]
  },
  {
   "cell_type": "code",
   "execution_count": 28,
   "metadata": {},
   "outputs": [
    {
     "data": {
      "text/plain": [
       "(array([4], dtype=int64),)"
      ]
     },
     "execution_count": 28,
     "metadata": {},
     "output_type": "execute_result"
    }
   ],
   "source": [
    "#then return the index of that solution corresponding to the best fitness\n",
    "best_match_idx = py.where(fitness == py.max(fitness))\n",
    "\n",
    "best_match_idx"
   ]
  },
  {
   "cell_type": "code",
   "execution_count": 29,
   "metadata": {},
   "outputs": [
    {
     "name": "stdout",
     "output_type": "stream",
     "text": [
      "Best solution :  [[[ 1.0776529   2.73036682  3.68645404 -3.0583198  -8.14044475\n",
      "    3.31896504]]]\n",
      "Best solution fitness :  [70.40662461]\n"
     ]
    }
   ],
   "source": [
    "print('Best solution : ', new_population[best_match_idx, :])\n",
    "print('Best solution fitness : ', fitness[best_match_idx])"
   ]
  },
  {
   "cell_type": "code",
   "execution_count": null,
   "metadata": {},
   "outputs": [],
   "source": []
  }
 ],
 "metadata": {
  "kernelspec": {
   "display_name": "Python 3",
   "language": "python",
   "name": "python3"
  },
  "language_info": {
   "codemirror_mode": {
    "name": "ipython",
    "version": 3
   },
   "file_extension": ".py",
   "mimetype": "text/x-python",
   "name": "python",
   "nbconvert_exporter": "python",
   "pygments_lexer": "ipython3",
   "version": "3.7.4"
  }
 },
 "nbformat": 4,
 "nbformat_minor": 2
}
